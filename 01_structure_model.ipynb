{
 "cells": [
  {
   "cell_type": "code",
   "execution_count": 1,
   "metadata": {
    "collapsed": true
   },
   "outputs": [],
   "source": [
    "import random\n",
    "import typing as tp\n",
    "import csv\n",
    "import pickle\n",
    "import re\n",
    "from collections import Counter\n",
    "\n",
    "import numpy as np\n",
    "import keras\n",
    "import keras.layers\n",
    "import keras.optimizers\n",
    "import keras.callbacks\n",
    "from keras.utils import pad_sequences, to_categorical\n",
    "from keras.preprocessing.text import Tokenizer\n",
    "from tqdm import tqdm\n",
    "from matplotlib import pyplot as plt\n"
   ]
  },
  {
   "cell_type": "code",
   "execution_count": 2,
   "outputs": [],
   "source": [
    "MODEL_NAME = \"StructureModelPOL\"\n",
    "POL = True if MODEL_NAME.endswith('POL') else False\n",
    "\n",
    "TO_EXCLUDE = '!\"#$%&()*+-—/:;<=>@[\\\\]^_`{|}~.,:;!?\\t«»'\n",
    "TO_TOKENIZE = '\\n'"
   ],
   "metadata": {
    "collapsed": false
   }
  },
  {
   "cell_type": "code",
   "execution_count": 3,
   "outputs": [
    {
     "name": "stderr",
     "output_type": "stream",
     "text": [
      "100%|██████████| 536/536 [00:00<00:00, 9523.14it/s]\n",
      "100%|██████████| 222/222 [00:00<00:00, 5555.90it/s]\n",
      "100%|██████████| 99/99 [00:00<00:00, 3011.79it/s]\n",
      "100%|██████████| 40/40 [00:00<00:00, 2800.96it/s]"
     ]
    },
    {
     "name": "stdout",
     "output_type": "stream",
     "text": [
      "tobie bądź chwała panie wszego świata \n",
      " żeś nam doczekać dał nowego lata \n",
      " daj byśmy się i sami odnowili \n",
      " grzech porzuciwszy  w niewinności żyli \n",
      " łaska twa święta niechaj będzie z nami \n",
      " bo nic dobrego nie uczynim sami \n",
      " mnóż w nas nadzieję przyspórz prawej wiary \n",
      " niech uważamy twe prawdziwe dary \n",
      " użycz pokoju nam i świętej zgody \n",
      " niech się nas boją pogańskie narody \n",
      " a ty nas nie chciej odstępować panie \n",
      " i owszem racz nam dopomagać na nie \n",
      " błogosław ziemi z twej szczodrobliwości \n",
      " niechaj nam dawa dostatek żywności \n",
      " uchowaj głodu i powietrza złego \n",
      " daj wszystko dobre z miłosierdzia swego \n",
      "  prózno uciec prózno się przed miłością schronić \n",
      " bo jako lotny nie ma pieszego dogonić \n",
      "  kupić by cię mądrości za drogie pieniądze \n",
      " która jesli prawdziwie mienią wszytki żądze \n",
      " wszytki ludzkie frasunki umiesz wykorzenić \n",
      " a człowieka tylko nie w anioła odmienić \n",
      " który nie wie co boleść frasunku nie czuje \n",
      " złym przygodom nie podległ strachom nie hołduje \n",
      " ty wszytki rzeczy ludzkie masz za fraszkę sobie \n",
      " jednaką myśl tak w szczęściu jako i w żałobie \n",
      " zawżdy niesiesz ty śmierci namniej się nie boisz \n",
      " bezpieczna nieodmienna niepożyta stoisz \n",
      " ty bogactwa nie złotem nie skarby wielkimi \n",
      " ale dosytem mierzysz i przyrodzonymi \n",
      " potrzebami ty okiem swym nieuchronionym \n",
      " nędznika upatrujesz pod dachem złoconym \n",
      " a uboższym nie zajźrzysz szczęśliwego mienia \n",
      " kto by jedno chciał słuchać twego upomnienia \n",
      " nieszczęśliwy ja człowiek którym lata swoje \n",
      " na tym strawił żebych był ujźrzał progi twoje \n",
      " terazem nagle z stopniów ostatnich zrzucony \n",
      " i między insze jeden z wiela policzony \n",
      " \n"
     ]
    },
    {
     "name": "stderr",
     "output_type": "stream",
     "text": [
      "\n"
     ]
    }
   ],
   "source": [
    "def load_data(file, include: str, exclude: str, size: int = None):\n",
    "    _text =  []\n",
    "    with open(file, encoding='UTF-8') as f:\n",
    "        data = csv.reader(f)\n",
    "        for verse, *_ in tqdm(list(data)[:size] if size is not None else list(data)):\n",
    "            # Separate characters that we want to tokenize\n",
    "            correct_verse = re.sub(r'(['+include+'])', r' \\1 ', verse)\n",
    "            # Exclude characters that we do not want to tokenize\n",
    "            correct_verse = correct_verse.translate(str.maketrans('', '', exclude))\n",
    "            _text.append(correct_verse.lower())\n",
    "    return _text\n",
    "\n",
    "if POL:\n",
    "    TEXT = load_data('data/poems/pl/kochanowski.csv', TO_TOKENIZE, TO_EXCLUDE)\n",
    "    TEXT += load_data('data/poems/pl/slowacki.csv', TO_TOKENIZE, TO_EXCLUDE)\n",
    "    TEXT += load_data('data/poems/pl/tacohemingway.csv', TO_TOKENIZE, TO_EXCLUDE)\n",
    "    TEXT += load_data('data/poems/pl/ostr.csv', TO_TOKENIZE, TO_EXCLUDE)\n",
    "else:\n",
    "    TEXT = load_data('data/poems/eng/limericks.csv', TO_TOKENIZE, TO_EXCLUDE, 4000)\n",
    "\n",
    "print(*TEXT[:3])"
   ],
   "metadata": {
    "collapsed": false
   }
  },
  {
   "cell_type": "code",
   "execution_count": 4,
   "outputs": [
    {
     "name": "stdout",
     "output_type": "stream",
     "text": [
      "Total number of words: 6000\n",
      "Number of words occurrence: [('\\n', 29307), ('i', 4728), ('w', 4604), ('nie', 4133), ('na', 3283), ('', 2908), ('się', 2876), ('a', 2599), ('z', 2464), ('to', 1914), ('jak', 1761), ('co', 1183), ('że', 1149), ('o', 989), ('do', 967), ('tak', 966), ('jest', 842), ('za', 812), ('mi', 792), ('mnie', 778)]\n"
     ]
    }
   ],
   "source": [
    "TOKENIZER = Tokenizer(filters=TO_EXCLUDE, num_words=6000)\n",
    "TOKENIZER.fit_on_texts(TEXT)\n",
    "WORD_COUNTER = Counter(' '.join(TEXT).split(' '))\n",
    "TOTAL_WORDS = TOKENIZER.num_words or len(TOKENIZER.word_index) + 1\n",
    "\n",
    "print(f\"Total number of words: {TOTAL_WORDS}\")\n",
    "print(f\"Number of words occurrence: {sorted(dict(WORD_COUNTER).items(), key=lambda x: x[1], reverse=True)[:20]}\")"
   ],
   "metadata": {
    "collapsed": false
   }
  },
  {
   "cell_type": "code",
   "execution_count": 5,
   "outputs": [
    {
     "name": "stderr",
     "output_type": "stream",
     "text": [
      "100%|██████████| 897/897 [00:00<00:00, 1911.58it/s]"
     ]
    },
    {
     "name": "stdout",
     "output_type": "stream",
     "text": [
      "Total Sequences: 171633\n"
     ]
    },
    {
     "name": "stderr",
     "output_type": "stream",
     "text": [
      "\n"
     ]
    }
   ],
   "source": [
    "def create_sequences(text, tokenizer, max_len: int = 10):\n",
    "    sequences = list()\n",
    "    for verse in tqdm(text):\n",
    "        encoded = tokenizer.texts_to_sequences([verse])[0]\n",
    "        for i in range(1, len(encoded)):\n",
    "            sequence = encoded[max(i + 1 - max_len, 0):i + 1]\n",
    "            sequences.append(sequence)\n",
    "    return sequences\n",
    "\n",
    "SEQUENCES = create_sequences(TEXT, TOKENIZER)\n",
    "print(f\"Total Sequences: {len(SEQUENCES)}\")"
   ],
   "metadata": {
    "collapsed": false
   }
  },
  {
   "cell_type": "code",
   "execution_count": 6,
   "outputs": [
    {
     "name": "stdout",
     "output_type": "stream",
     "text": [
      "Max Sequence Length: 10\n"
     ]
    }
   ],
   "source": [
    "SEQUENCE_LENGTH = max([len(seq) for seq in SEQUENCES])\n",
    "ENCODED_SEQUENCES = pad_sequences(SEQUENCES, maxlen=SEQUENCE_LENGTH, padding='pre')\n",
    "X, y = ENCODED_SEQUENCES[:,:-1], to_categorical(ENCODED_SEQUENCES[:,-1], num_classes=TOTAL_WORDS)\n",
    "print(f'Max Sequence Length: {SEQUENCE_LENGTH}')"
   ],
   "metadata": {
    "collapsed": false
   }
  },
  {
   "cell_type": "code",
   "execution_count": 7,
   "outputs": [
    {
     "name": "stdout",
     "output_type": "stream",
     "text": [
      "WARNING:tensorflow:Layer lstm will not use cuDNN kernels since it doesn't meet the criteria. It will use a generic GPU kernel as fallback when running on GPU.\n",
      "WARNING:tensorflow:Layer lstm_1 will not use cuDNN kernels since it doesn't meet the criteria. It will use a generic GPU kernel as fallback when running on GPU.\n",
      "Model: \"sequential\"\n",
      "_________________________________________________________________\n",
      " Layer (type)                Output Shape              Param #   \n",
      "=================================================================\n",
      " embedding (Embedding)       (None, 9, 256)            1536000   \n",
      "                                                                 \n",
      " lstm (LSTM)                 (None, 9, 256)            525312    \n",
      "                                                                 \n",
      " dropout (Dropout)           (None, 9, 256)            0         \n",
      "                                                                 \n",
      " lstm_1 (LSTM)               (None, 128)               197120    \n",
      "                                                                 \n",
      " dropout_1 (Dropout)         (None, 128)               0         \n",
      "                                                                 \n",
      " dense (Dense)               (None, 6000)              774000    \n",
      "                                                                 \n",
      "=================================================================\n",
      "Total params: 3,032,432\n",
      "Trainable params: 3,032,432\n",
      "Non-trainable params: 0\n",
      "_________________________________________________________________\n",
      "None\n"
     ]
    }
   ],
   "source": [
    "def create_model(total_words: int, sequence_length: int):\n",
    "    # define model\n",
    "    model = keras.models.Sequential()\n",
    "    model.add(keras.layers.Embedding(total_words, 256, input_length=sequence_length - 1))\n",
    "    model.add(keras.layers.LSTM(256, return_sequences=True, activation='relu'))\n",
    "    model.add(keras.layers.Dropout(0.1))\n",
    "    model.add(keras.layers.LSTM(128, activation='relu'))\n",
    "    model.add(keras.layers.Dropout(0.1))\n",
    "    model.add(keras.layers.Dense(total_words, activation='softmax'))\n",
    "    opt = keras.optimizers.Adam(learning_rate=0.001, beta_1=0.9, beta_2=0.999, epsilon=1e-08, decay=0.0)\n",
    "    model.compile(loss='categorical_crossentropy', optimizer=opt, metrics=['accuracy'])\n",
    "    return model\n",
    "\n",
    "MODEL_PATH = f\"data/models/{MODEL_NAME}/weights.h5\"\n",
    "MODEL = keras.models.load_model(MODEL_PATH)\n",
    "# MODEL = create_model(TOTAL_WORDS, SEQUENCE_LENGTH)\n",
    "print(MODEL.summary())\n"
   ],
   "metadata": {
    "collapsed": false
   }
  },
  {
   "cell_type": "code",
   "execution_count": 8,
   "outputs": [],
   "source": [
    "REVERSE_TOKEN_INDEX = {v: k for k, v in TOKENIZER.word_index.items()}\n",
    "\n",
    "def generate_verse(model: keras.Model, tokenizer: Tokenizer, in_text: str, max_words: int = 60):\n",
    "    for _ in range(max_words):\n",
    "        encoded = tokenizer.texts_to_sequences([in_text])[0]\n",
    "        encoded = pad_sequences([encoded], maxlen=model.input_shape[-1], padding='pre')\n",
    "        predicted = np.argmax(model.predict(encoded, verbose=0))\n",
    "        out_word = REVERSE_TOKEN_INDEX.get(predicted, None)\n",
    "        in_text += ' ' + out_word\n",
    "        if in_text.count('\\n') == 4:\n",
    "            break\n",
    "    return in_text\n"
   ],
   "metadata": {
    "collapsed": false
   }
  },
  {
   "cell_type": "code",
   "execution_count": 9,
   "outputs": [],
   "source": [
    "def create_callbacks():\n",
    "    callbacks = []\n",
    "\n",
    "    class PredictionCallback(keras.callbacks.Callback):\n",
    "        def on_epoch_end(self, epoch, logs=None):\n",
    "            frequency = 2\n",
    "            if epoch % frequency == 0:\n",
    "                seq = generate_verse(MODEL, TOKENIZER, \"A drzewo\", 20)\n",
    "                print(f\"\\n{seq}\")\n",
    "                print(f\"{TOKENIZER.texts_to_sequences([seq])[0]}\")\n",
    "\n",
    "    callbacks.append(PredictionCallback())\n",
    "    callbacks.append(keras.callbacks.EarlyStopping(monitor=\"loss\", patience=5))\n",
    "    callbacks.append(keras.callbacks.ModelCheckpoint(\n",
    "        filepath=f\"data/models/{MODEL_NAME}/checkpoint\",\n",
    "        save_weights_only=True,\n",
    "        monitor='loss',\n",
    "        save_best_only=True\n",
    "    ))\n",
    "    return callbacks\n"
   ],
   "metadata": {
    "collapsed": false
   }
  },
  {
   "cell_type": "code",
   "execution_count": 18,
   "outputs": [
    {
     "name": "stdout",
     "output_type": "stream",
     "text": [
      "Epoch 1/20\n",
      "1207/1207 [==============================] - ETA: 0s - loss: 1.3351 - accuracy: 0.6570\n",
      "A drzewo tym by jest że dnia duchy duchów z tobą \n",
      " od \n",
      " który duch \n",
      " będą pięknie \n",
      "\n",
      "[7, 1136, 33, 38, 16, 12, 695, 381, 467, 8, 209, 1, 35, 1, 59, 150, 1, 141, 1985, 1]\n",
      "1207/1207 [==============================] - 196s 162ms/step - loss: 1.3351 - accuracy: 0.6570 - val_loss: 21.9463 - val_accuracy: 0.0908\n",
      "Epoch 2/20\n",
      "1207/1207 [==============================] - 160s 132ms/step - loss: 1.3131 - accuracy: 0.6621 - val_loss: 21.6522 - val_accuracy: 0.0898\n",
      "Epoch 3/20\n",
      "1207/1207 [==============================] - ETA: 0s - loss: 1.3085 - accuracy: 0.6634\n",
      "A drzewo tym grobie jest fontanna \n",
      " na czoło bracia ciemne \n",
      " dla których mi koń \n",
      " i chleb wszystko jak z\n",
      "[7, 1136, 33, 365, 16, 3164, 1, 5, 696, 823, 1028, 1, 53, 236, 18, 527, 1, 2, 1375, 80, 10, 8]\n",
      "1207/1207 [==============================] - 161s 133ms/step - loss: 1.3085 - accuracy: 0.6634 - val_loss: 22.1754 - val_accuracy: 0.0893\n",
      "Epoch 4/20\n",
      "1207/1207 [==============================] - 160s 133ms/step - loss: 1.2856 - accuracy: 0.6676 - val_loss: 21.6846 - val_accuracy: 0.0901\n",
      "Epoch 5/20\n",
      "1207/1207 [==============================] - ETA: 0s - loss: 1.2705 - accuracy: 0.6714\n",
      "A drzewo tym grobie \n",
      " świat mojej rady \n",
      " ani kiedy ani chce żal \n",
      " ani w sercu dowcipu siła \n",
      "\n",
      "[7, 1136, 33, 365, 1, 68, 221, 500, 1, 48, 32, 48, 137, 816, 1, 48, 3, 235, 4945, 416, 1]\n",
      "1207/1207 [==============================] - 158s 131ms/step - loss: 1.2705 - accuracy: 0.6714 - val_loss: 22.1596 - val_accuracy: 0.0917\n",
      "Epoch 6/20\n",
      "1207/1207 [==============================] - 153s 127ms/step - loss: 1.2568 - accuracy: 0.6741 - val_loss: 22.0639 - val_accuracy: 0.0922\n",
      "Epoch 7/20\n",
      "1207/1207 [==============================] - ETA: 0s - loss: 1.2515 - accuracy: 0.6751\n",
      "A drzewo tym tak nikt ten nie może \n",
      " czego kiedy się nie wiem co by się w \n",
      " bo to jest\n",
      "[7, 1136, 33, 15, 204, 31, 4, 81, 1, 268, 32, 6, 4, 92, 11, 38, 6, 3, 1, 20, 9, 16]\n",
      "1207/1207 [==============================] - 159s 132ms/step - loss: 1.2515 - accuracy: 0.6751 - val_loss: 22.1426 - val_accuracy: 0.0922\n",
      "Epoch 8/20\n",
      "1207/1207 [==============================] - 160s 132ms/step - loss: 1.2291 - accuracy: 0.6817 - val_loss: 22.2196 - val_accuracy: 0.0895\n",
      "Epoch 9/20\n",
      "1207/1207 [==============================] - ETA: 0s - loss: 1.2109 - accuracy: 0.6846\n",
      "A drzewo tych co duchem król o \n",
      " niech mu na ziemi \n",
      " oni która dzień męża \n",
      " na skrzydła i wzrok\n",
      "[7, 1136, 93, 11, 561, 438, 13, 1, 60, 104, 5, 99, 1, 246, 186, 122, 1494, 1, 5, 560, 2, 564]\n",
      "1207/1207 [==============================] - 158s 131ms/step - loss: 1.2109 - accuracy: 0.6846 - val_loss: 22.1772 - val_accuracy: 0.0901\n",
      "Epoch 10/20\n",
      "1207/1207 [==============================] - 160s 132ms/step - loss: 1.1955 - accuracy: 0.6876 - val_loss: 22.6778 - val_accuracy: 0.0919\n",
      "Epoch 11/20\n",
      "1207/1207 [==============================] - ETA: 0s - loss: 1.1892 - accuracy: 0.6886\n",
      "A drzewo tym ludzkie \n",
      " myśli duchem ani \n",
      " o \n",
      " będą w ludziach puszczy \n",
      "\n",
      "[7, 1136, 33, 426, 1, 113, 561, 48, 1, 13, 1, 141, 3, 2133, 3646, 1]\n",
      "1207/1207 [==============================] - 159s 132ms/step - loss: 1.1892 - accuracy: 0.6886 - val_loss: 22.2899 - val_accuracy: 0.0902\n",
      "Epoch 12/20\n",
      "1207/1207 [==============================] - 162s 134ms/step - loss: 1.1825 - accuracy: 0.6907 - val_loss: 22.5475 - val_accuracy: 0.0897\n",
      "Epoch 13/20\n",
      "1207/1207 [==============================] - ETA: 0s - loss: 1.1627 - accuracy: 0.6953\n",
      "A drzewo tym co duchem czynił \n",
      " a jeśli dobrzy roku nie wiem czuje \n",
      " że łacno człowiek muszę \n",
      " by mi\n",
      "[7, 1136, 33, 11, 561, 2536, 1, 7, 134, 2254, 1610, 4, 92, 520, 1, 12, 2030, 98, 232, 1, 38, 18]\n",
      "1207/1207 [==============================] - 157s 130ms/step - loss: 1.1627 - accuracy: 0.6953 - val_loss: 22.6616 - val_accuracy: 0.0894\n",
      "Epoch 14/20\n",
      "1207/1207 [==============================] - 158s 131ms/step - loss: 1.1582 - accuracy: 0.6976 - val_loss: 22.7050 - val_accuracy: 0.0883\n",
      "Epoch 15/20\n",
      "1207/1207 [==============================] - ETA: 0s - loss: 1.1458 - accuracy: 0.6991\n",
      "A drzewo tym ten smutku twój królowa \n",
      " z wody \n",
      " a tam sama przyjaciel \n",
      " w ciemnej potoku \n",
      "\n",
      "[7, 1136, 33, 31, 1060, 103, 1840, 1, 8, 302, 1, 7, 43, 413, 1978, 1, 3, 1230, 4520, 1]\n",
      "1207/1207 [==============================] - 162s 134ms/step - loss: 1.1458 - accuracy: 0.6991 - val_loss: 22.8422 - val_accuracy: 0.0921\n",
      "Epoch 16/20\n",
      "1207/1207 [==============================] - 171s 142ms/step - loss: 1.1333 - accuracy: 0.7020 - val_loss: 23.0053 - val_accuracy: 0.0912\n",
      "Epoch 17/20\n",
      "1207/1207 [==============================] - ETA: 0s - loss: 1.1252 - accuracy: 0.7037\n",
      "A drzewo tym tak nikt fontanna nie może \n",
      " które serce z twojej moich \n",
      " że więcej było w tobie \n",
      " i\n",
      "[7, 1136, 33, 15, 204, 3164, 4, 81, 1, 106, 83, 8, 252, 177, 1, 12, 176, 143, 3, 71, 1, 2]\n",
      "1207/1207 [==============================] - 172s 142ms/step - loss: 1.1252 - accuracy: 0.7037 - val_loss: 22.5220 - val_accuracy: 0.0887\n",
      "Epoch 18/20\n",
      "1207/1207 [==============================] - 171s 141ms/step - loss: 1.1189 - accuracy: 0.7041 - val_loss: 22.6578 - val_accuracy: 0.0861\n",
      "Epoch 19/20\n",
      "1207/1207 [==============================] - ETA: 0s - loss: 1.0953 - accuracy: 0.7099\n",
      "A drzewo tych co wąż grać w \n",
      " lepszego i \n",
      " jak \n",
      " i duch \n",
      "\n",
      "[7, 1136, 93, 11, 2001, 1393, 3, 1, 3339, 2, 1, 10, 1, 2, 150, 1]\n",
      "1207/1207 [==============================] - 171s 141ms/step - loss: 1.0953 - accuracy: 0.7099 - val_loss: 22.7169 - val_accuracy: 0.0897\n",
      "Epoch 20/20\n",
      "1207/1207 [==============================] - 170s 140ms/step - loss: 1.0910 - accuracy: 0.7127 - val_loss: 22.9999 - val_accuracy: 0.0879\n"
     ]
    }
   ],
   "source": [
    "HISTORY = MODEL.fit(\n",
    "    X,\n",
    "    y,\n",
    "    epochs=40,\n",
    "    validation_split=0.1,\n",
    "    verbose=1,\n",
    "    batch_size=128,\n",
    "    shuffle=True,\n",
    "    callbacks=create_callbacks()\n",
    ")\n",
    "\n",
    "MODEL.save(MODEL_PATH)"
   ],
   "metadata": {
    "collapsed": false
   }
  },
  {
   "cell_type": "code",
   "execution_count": 19,
   "outputs": [],
   "source": [
    "with open(f\"data/models/{MODEL_NAME}/tokenizer.pickle\", \"wb\") as f:\n",
    "    pickle.dump(TOKENIZER, f, protocol=pickle.HIGHEST_PROTOCOL)\n",
    "\n",
    "with open(f\"data/models/{MODEL_NAME}/history.pickle\", \"wb\") as f:\n",
    "    pickle.dump(HISTORY.history, f, protocol=pickle.HIGHEST_PROTOCOL)"
   ],
   "metadata": {
    "collapsed": false
   }
  },
  {
   "cell_type": "code",
   "execution_count": 20,
   "outputs": [
    {
     "data": {
      "text/plain": "<Figure size 700x400 with 2 Axes>",
      "image/png": "[encoded data removed]"
     },
     "metadata": {},
     "output_type": "display_data"
    }
   ],
   "source": [
    "with open(f\"data/models/{MODEL_NAME}/history.pickle\", \"rb\") as f:\n",
    "    history = pickle.load(f)\n",
    "\n",
    "fig, (ax1, ax2) = plt.subplots(1, 2)\n",
    "fig.suptitle(f\"Learning curve of {MODEL_NAME}\")\n",
    "\n",
    "ax1.plot(history['accuracy'])\n",
    "ax1.set_xlabel('epoch')\n",
    "ax1.set_ylabel('accuracy')\n",
    "\n",
    "ax2.plot(history['loss'])\n",
    "ax2.set_xlabel('epoch')\n",
    "ax2.set_ylabel('loss')\n",
    "fig.tight_layout()\n",
    "fig.set_size_inches(7, 4)\n",
    "fig.savefig(f\"data/models/{MODEL_NAME}/learning_curve.png\")\n",
    "plt.show()"
   ],
   "metadata": {
    "collapsed": false
   }
  },
  {
   "cell_type": "code",
   "execution_count": 21,
   "outputs": [
    {
     "name": "stdout",
     "output_type": "stream",
     "text": [
      " krótkie rzeczy miła \n",
      " się na boga \n",
      " bo tak widzisz i w końcu drogi \n",
      " gdzież ja nigdy jest bez i przez wieki \n",
      "\n"
     ]
    }
   ],
   "source": [
    "print(generate_verse(MODEL, TOKENIZER, \"\"))"
   ],
   "metadata": {
    "collapsed": false
   }
  },
  {
   "cell_type": "code",
   "execution_count": 22,
   "outputs": [
    {
     "name": "stderr",
     "output_type": "stream",
     "text": [
      "100%|██████████| 20/20 [00:36<00:00,  1.84s/it]"
     ]
    },
    {
     "name": "stdout",
     "output_type": "stream",
     "text": [
      "Mean cousine similarity: 0.9351700696662913\n"
     ]
    },
    {
     "name": "stderr",
     "output_type": "stream",
     "text": [
      "\n"
     ]
    }
   ],
   "source": [
    "def similarity(a: tp.List[tp.List[int]], b: tp.List[int]):\n",
    "    return np.dot(a, b)/(np.linalg.norm(a, axis=1) * np.linalg.norm(b))\n",
    "\n",
    "def measure_structure_similarity(model: keras.Model, tokenizer: Tokenizer, text: str, tests: int = 20):\n",
    "    a = [[len(line) for line in verse.split('\\n')[:4]] for verse in text if len(verse.split('\\n')) >= 4]\n",
    "    words = list(TOKENIZER.word_index.keys())\n",
    "    result = []\n",
    "    for _ in tqdm(range(tests)):\n",
    "        verse = generate_verse(model, tokenizer, random.choice(words))\n",
    "        b = [len(line) for line in verse.split('\\n')[:4]]\n",
    "        sim = similarity(a, b)\n",
    "        result.append(np.mean(sim))\n",
    "    return np.mean(result)\n",
    "\n",
    "MEAN_SIMILARITY = measure_structure_similarity(MODEL, TOKENIZER, TEXT)\n",
    "print(f\"Mean cousine similarity: {MEAN_SIMILARITY}\")"
   ],
   "metadata": {
    "collapsed": false
   }
  },
  {
   "cell_type": "code",
   "execution_count": null,
   "outputs": [],
   "source": [],
   "metadata": {
    "collapsed": false
   }
  }
 ],
 "metadata": {
  "kernelspec": {
   "display_name": "Python 3",
   "language": "python",
   "name": "python3"
  },
  "language_info": {
   "codemirror_mode": {
    "name": "ipython",
    "version": 2
   },
   "file_extension": ".py",
   "mimetype": "text/x-python",
   "name": "python",
   "nbconvert_exporter": "python",
   "pygments_lexer": "ipython2",
   "version": "2.7.6"
  }
 },
 "nbformat": 4,
 "nbformat_minor": 0
}
