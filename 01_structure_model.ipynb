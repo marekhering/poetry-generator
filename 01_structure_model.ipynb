{
 "cells": [
  {
   "cell_type": "code",
   "execution_count": 1,
   "metadata": {
    "collapsed": true
   },
   "outputs": [],
   "source": [
    "import random\n",
    "import typing as tp\n",
    "import csv\n",
    "import pickle\n",
    "import re\n",
    "from collections import Counter\n",
    "\n",
    "import numpy as np\n",
    "import keras\n",
    "import keras.layers\n",
    "import keras.optimizers\n",
    "import keras.callbacks\n",
    "from keras.utils import pad_sequences, to_categorical\n",
    "from keras.preprocessing.text import Tokenizer\n",
    "from tqdm import tqdm\n",
    "from matplotlib import pyplot as plt\n"
   ]
  },
  {
   "cell_type": "code",
   "execution_count": 2,
   "outputs": [],
   "source": [
    "MODEL_NAME = \"StructureModelPOL\"\n",
    "POL = True if MODEL_NAME.endswith('POL') else False\n",
    "\n",
    "TO_EXCLUDE = '!\"#$%&()*+-—/:;<=>@[\\\\]^_`{|}~.,:;!?\\t«»'\n",
    "TO_TOKENIZE = '\\n'"
   ],
   "metadata": {
    "collapsed": false
   }
  },
  {
   "cell_type": "code",
   "execution_count": 3,
   "outputs": [
    {
     "name": "stderr",
     "output_type": "stream",
     "text": [
      "100%|██████████| 146/146 [00:00<00:00, 36535.31it/s]\n",
      "100%|██████████| 713/713 [00:00<00:00, 32404.42it/s]"
     ]
    },
    {
     "name": "stdout",
     "output_type": "stream",
     "text": [
      "wszytki płacze wszytki łzy heraklitowe \n",
      " i lamenty i skargi symonidowe \n",
      " wszytki troski na świecie wszytki wzdychania \n",
      " i żale i frasunki i rąk łamania \n",
      "  wszytki a wszytki za raz w dom się mój noście \n",
      " a mnie płakać mej wdzięcznej dziewki pomożcie \n",
      " z którą mię niepobożna śmierć rozdzieliła \n",
      " i wszytkich moich pociech nagle zbawiła \n",
      "  tak więc smok upatrzywszy gniazdko kryjome \n",
      " słowiczki liche zbiera a swe łakome \n",
      " gardło pasie tymczasem matka szczebiece \n",
      " uboga a na zbójcę coraz się miece \n",
      " \n"
     ]
    },
    {
     "name": "stderr",
     "output_type": "stream",
     "text": [
      "\n"
     ]
    }
   ],
   "source": [
    "def load_data(file, include: str, exclude: str, size: int = None):\n",
    "    _text =  []\n",
    "    with open(file, encoding='UTF-8') as f:\n",
    "        data = csv.reader(f)\n",
    "        for verse, *_ in tqdm(list(data)[:size] if size is not None else list(data)):\n",
    "            # Separate characters that we want to tokenize\n",
    "            correct_verse = re.sub(r'(['+include+'])', r' \\1 ', verse)\n",
    "            # Exclude characters that we do not want to tokenize\n",
    "            correct_verse = correct_verse.translate(str.maketrans('', '', exclude))\n",
    "            _text.append(correct_verse.lower())\n",
    "    return _text\n",
    "\n",
    "if POL:\n",
    "    TEXT = load_data('data/poems/pl/treny.csv', TO_TOKENIZE, TO_EXCLUDE)\n",
    "    TEXT += load_data('data/poems/pl/slowacki.csv', TO_TOKENIZE, TO_EXCLUDE)\n",
    "else:\n",
    "    TEXT = load_data('data/poems/eng/limericks.csv', TO_TOKENIZE, TO_EXCLUDE, 4000)\n",
    "\n",
    "print(*TEXT[:3])"
   ],
   "metadata": {
    "collapsed": false
   }
  },
  {
   "cell_type": "code",
   "execution_count": 4,
   "outputs": [
    {
     "name": "stdout",
     "output_type": "stream",
     "text": [
      "Total number of words: 6882\n",
      "Number of words occurrence: [('\\n', 3435), ('', 1399), ('i', 655), ('w', 473), ('na', 379), ('się', 363), ('nie', 361), ('z', 273), ('a', 259), ('jak', 198), ('co', 149), ('to', 148), ('że', 139), ('tak', 127), ('o', 125), ('do', 125), ('mi', 101), ('za', 97), ('lecz', 88), ('ty', 87)]\n"
     ]
    }
   ],
   "source": [
    "TOKENIZER = Tokenizer(filters=TO_EXCLUDE)\n",
    "TOKENIZER.fit_on_texts(TEXT)\n",
    "WORD_COUNTER = Counter(' '.join(TEXT).split(' '))\n",
    "TOTAL_WORDS = TOKENIZER.num_words or len(TOKENIZER.word_index) + 1\n",
    "\n",
    "print(f\"Total number of words: {TOTAL_WORDS}\")\n",
    "print(f\"Number of words occurrence: {sorted(dict(WORD_COUNTER).items(), key=lambda x: x[1], reverse=True)[:20]}\")"
   ],
   "metadata": {
    "collapsed": false
   }
  },
  {
   "cell_type": "code",
   "execution_count": 5,
   "outputs": [
    {
     "name": "stderr",
     "output_type": "stream",
     "text": [
      "100%|██████████| 859/859 [00:00<00:00, 6160.85it/s]"
     ]
    },
    {
     "name": "stdout",
     "output_type": "stream",
     "text": [
      "Total Sequences: 22451\n"
     ]
    },
    {
     "name": "stderr",
     "output_type": "stream",
     "text": [
      "\n"
     ]
    }
   ],
   "source": [
    "def create_sequences(text, tokenizer):\n",
    "    sequences = list()\n",
    "    for verse in tqdm(text):\n",
    "        encoded = tokenizer.texts_to_sequences([verse])[0]\n",
    "        for i in range(1, len(encoded)):\n",
    "            sequence = encoded[:i + 1]\n",
    "            sequences.append(sequence)\n",
    "    return sequences\n",
    "\n",
    "SEQUENCES = create_sequences(TEXT, TOKENIZER)\n",
    "print(f\"Total Sequences: {len(SEQUENCES)}\")"
   ],
   "metadata": {
    "collapsed": false
   }
  },
  {
   "cell_type": "code",
   "execution_count": 6,
   "outputs": [
    {
     "name": "stdout",
     "output_type": "stream",
     "text": [
      "Max Sequence Length: 40\n"
     ]
    }
   ],
   "source": [
    "SEQUENCE_LENGTH = max([len(seq) for seq in SEQUENCES])\n",
    "ENCODED_SEQUENCES = pad_sequences(SEQUENCES, maxlen=SEQUENCE_LENGTH, padding='pre')\n",
    "X, y = ENCODED_SEQUENCES[:,:-1], to_categorical(ENCODED_SEQUENCES[:,-1], num_classes=TOTAL_WORDS)\n",
    "print(f'Max Sequence Length: {SEQUENCE_LENGTH}')"
   ],
   "metadata": {
    "collapsed": false
   }
  },
  {
   "cell_type": "code",
   "execution_count": 13,
   "outputs": [
    {
     "name": "stdout",
     "output_type": "stream",
     "text": [
      "WARNING:tensorflow:Layer lstm_3 will not use cuDNN kernels since it doesn't meet the criteria. It will use a generic GPU kernel as fallback when running on GPU.\n",
      "WARNING:tensorflow:Layer lstm_4 will not use cuDNN kernels since it doesn't meet the criteria. It will use a generic GPU kernel as fallback when running on GPU.\n",
      "Model: \"sequential_1\"\n",
      "_________________________________________________________________\n",
      " Layer (type)                Output Shape              Param #   \n",
      "=================================================================\n",
      " embedding_1 (Embedding)     (None, 39, 256)           1761792   \n",
      "                                                                 \n",
      " lstm_3 (LSTM)               (None, 39, 256)           525312    \n",
      "                                                                 \n",
      " dropout_3 (Dropout)         (None, 39, 256)           0         \n",
      "                                                                 \n",
      " lstm_4 (LSTM)               (None, 128)               197120    \n",
      "                                                                 \n",
      " dropout_4 (Dropout)         (None, 128)               0         \n",
      "                                                                 \n",
      " dense_1 (Dense)             (None, 6882)              887778    \n",
      "                                                                 \n",
      "=================================================================\n",
      "Total params: 3,372,002\n",
      "Trainable params: 3,372,002\n",
      "Non-trainable params: 0\n",
      "_________________________________________________________________\n",
      "None\n"
     ]
    }
   ],
   "source": [
    "def create_model(total_words: int, sequence_length: int):\n",
    "    # define model\n",
    "    model = keras.models.Sequential()\n",
    "    model.add(keras.layers.Embedding(total_words, 256, input_length=sequence_length - 1))\n",
    "    model.add(keras.layers.LSTM(256, return_sequences=True, activation='relu'))\n",
    "    model.add(keras.layers.Dropout(0.1))\n",
    "    model.add(keras.layers.LSTM(128, activation='relu'))\n",
    "    model.add(keras.layers.Dropout(0.1))\n",
    "    model.add(keras.layers.Dense(total_words, activation='softmax'))\n",
    "    opt = keras.optimizers.Adam(learning_rate=0.001, beta_1=0.9, beta_2=0.999, epsilon=1e-08, decay=0.0)\n",
    "    model.compile(loss='categorical_crossentropy', optimizer=opt, metrics=['accuracy'])\n",
    "    return model\n",
    "\n",
    "MODEL_PATH = f\"data/models/{MODEL_NAME}/weights.h5\"\n",
    "# MODEL = keras.models.load_model(MODEL_PATH)\n",
    "MODEL = create_model(TOTAL_WORDS, SEQUENCE_LENGTH)\n",
    "print(MODEL.summary())\n"
   ],
   "metadata": {
    "collapsed": false
   }
  },
  {
   "cell_type": "code",
   "execution_count": 14,
   "outputs": [],
   "source": [
    "REVERSE_TOKEN_INDEX = {v: k for k, v in TOKENIZER.word_index.items()}\n",
    "\n",
    "def generate_verse(model: keras.Model, tokenizer: Tokenizer, in_text: str, max_words: int = 60):\n",
    "    for _ in range(max_words):\n",
    "        encoded = tokenizer.texts_to_sequences([in_text])[0]\n",
    "        encoded = pad_sequences([encoded], maxlen=model.input_shape[-1], padding='pre')\n",
    "        predicted = np.argmax(model.predict(encoded, verbose=0))\n",
    "        out_word = REVERSE_TOKEN_INDEX.get(predicted, None)\n",
    "        in_text += ' ' + out_word\n",
    "        if in_text.count('\\n') == 4:\n",
    "            break\n",
    "    return in_text\n"
   ],
   "metadata": {
    "collapsed": false
   }
  },
  {
   "cell_type": "code",
   "execution_count": 15,
   "outputs": [],
   "source": [
    "def create_callbacks():\n",
    "    callbacks = []\n",
    "\n",
    "    class PredictionCallback(keras.callbacks.Callback):\n",
    "        def on_epoch_end(self, epoch, logs=None):\n",
    "            frequency = 2\n",
    "            if epoch % frequency == 0:\n",
    "                seq = generate_verse(MODEL, TOKENIZER, \"A drzewo\", 20)\n",
    "                print(f\"\\n{seq}\")\n",
    "                print(f\"{TOKENIZER.texts_to_sequences([seq])[0]}\")\n",
    "\n",
    "    callbacks.append(PredictionCallback())\n",
    "    callbacks.append(keras.callbacks.EarlyStopping(monitor=\"loss\", patience=5))\n",
    "    callbacks.append(keras.callbacks.ModelCheckpoint(\n",
    "        filepath=f\"data/models/{MODEL_NAME}/checkpoint\",\n",
    "        save_weights_only=True,\n",
    "        monitor='loss',\n",
    "        save_best_only=True\n",
    "    ))\n",
    "    return callbacks\n"
   ],
   "metadata": {
    "collapsed": false
   }
  },
  {
   "cell_type": "code",
   "execution_count": 16,
   "outputs": [
    {
     "name": "stdout",
     "output_type": "stream",
     "text": [
      "Epoch 1/40\n",
      "158/158 [==============================] - ETA: 0s - loss: 9.1345 - accuracy: 0.1354\n",
      "A drzewo \n",
      " \n",
      " \n",
      " \n",
      "\n",
      "[8, 302, 1, 1, 1, 1]\n",
      "158/158 [==============================] - 84s 518ms/step - loss: 9.1345 - accuracy: 0.1354 - val_loss: 7.2844 - val_accuracy: 0.1536\n",
      "Epoch 2/40\n",
      "158/158 [==============================] - 80s 510ms/step - loss: 6.9789 - accuracy: 0.1529 - val_loss: 7.5242 - val_accuracy: 0.1536\n",
      "Epoch 3/40\n",
      "158/158 [==============================] - ETA: 0s - loss: 6.8932 - accuracy: 0.1529\n",
      "A drzewo \n",
      " \n",
      " \n",
      " \n",
      "\n",
      "[8, 302, 1, 1, 1, 1]\n",
      "158/158 [==============================] - 80s 506ms/step - loss: 6.8932 - accuracy: 0.1529 - val_loss: 7.5851 - val_accuracy: 0.1536\n",
      "Epoch 4/40\n",
      "158/158 [==============================] - 80s 508ms/step - loss: 6.7867 - accuracy: 0.1530 - val_loss: 7.6259 - val_accuracy: 0.1536\n",
      "Epoch 5/40\n",
      "158/158 [==============================] - ETA: 0s - loss: 6.5383 - accuracy: 0.1625\n",
      "A drzewo \n",
      " w w w \n",
      " w \n",
      " w w \n",
      "\n",
      "[8, 302, 1, 3, 3, 3, 1, 3, 1, 3, 3, 1]\n",
      "158/158 [==============================] - 84s 529ms/step - loss: 6.5383 - accuracy: 0.1625 - val_loss: 7.6887 - val_accuracy: 0.1754\n",
      "Epoch 6/40\n",
      "158/158 [==============================] - 80s 504ms/step - loss: 6.2727 - accuracy: 0.1685 - val_loss: 7.9583 - val_accuracy: 0.1732\n",
      "Epoch 7/40\n",
      "158/158 [==============================] - ETA: 0s - loss: 6.0562 - accuracy: 0.1718\n",
      "A drzewo w w w \n",
      " w w w \n",
      " w w w \n",
      " w w \n",
      "\n",
      "[8, 302, 3, 3, 3, 1, 3, 3, 3, 1, 3, 3, 3, 1, 3, 3, 1]\n",
      "158/158 [==============================] - 80s 506ms/step - loss: 6.0562 - accuracy: 0.1718 - val_loss: 8.1513 - val_accuracy: 0.1732\n",
      "Epoch 8/40\n",
      "158/158 [==============================] - 81s 512ms/step - loss: 5.8244 - accuracy: 0.1764 - val_loss: 8.5261 - val_accuracy: 0.1687\n",
      "Epoch 9/40\n",
      "158/158 [==============================] - ETA: 0s - loss: 5.5693 - accuracy: 0.1799\n",
      "A drzewo nie w w w \n",
      " w w w \n",
      " w w \n",
      " w w \n",
      "\n",
      "[8, 302, 6, 3, 3, 3, 1, 3, 3, 3, 1, 3, 3, 1, 3, 3, 1]\n",
      "158/158 [==============================] - 82s 516ms/step - loss: 5.5693 - accuracy: 0.1799 - val_loss: 8.8617 - val_accuracy: 0.1514\n",
      "Epoch 10/40\n",
      "158/158 [==============================] - 83s 524ms/step - loss: 5.3005 - accuracy: 0.1856 - val_loss: 9.2182 - val_accuracy: 0.1554\n",
      "Epoch 11/40\n",
      "158/158 [==============================] - ETA: 0s - loss: 5.0220 - accuracy: 0.1929\n",
      "A drzewo nie to się się \n",
      " w w nie \n",
      " nie nie nie \n",
      " nie nie nie \n",
      "\n",
      "[8, 302, 6, 11, 5, 5, 1, 3, 3, 6, 1, 6, 6, 6, 1, 6, 6, 6, 1]\n",
      "158/158 [==============================] - 84s 529ms/step - loss: 5.0220 - accuracy: 0.1929 - val_loss: 9.7847 - val_accuracy: 0.1487\n",
      "Epoch 12/40\n",
      "158/158 [==============================] - 82s 518ms/step - loss: 4.7182 - accuracy: 0.2075 - val_loss: 10.6353 - val_accuracy: 0.1318\n",
      "Epoch 13/40\n",
      "158/158 [==============================] - ETA: 0s - loss: 4.4326 - accuracy: 0.2206\n",
      "A drzewo nie w nie urośli \n",
      " i nie \n",
      " nie znajdą mściciela \n",
      " na albijonu ostrowie \n",
      "\n",
      "[8, 302, 6, 3, 6, 1816, 1, 2, 6, 1, 6, 1819, 1820, 1, 4, 701, 1821, 1]\n",
      "158/158 [==============================] - 84s 530ms/step - loss: 4.4326 - accuracy: 0.2206 - val_loss: 10.8853 - val_accuracy: 0.1362\n",
      "Epoch 14/40\n",
      "158/158 [==============================] - 79s 502ms/step - loss: 4.1416 - accuracy: 0.2395 - val_loss: 11.3193 - val_accuracy: 0.1273\n",
      "Epoch 15/40\n",
      "158/158 [==============================] - ETA: 0s - loss: 3.8544 - accuracy: 0.2633\n",
      "A drzewo nie to nie woli \n",
      " i w jak upatruje i nie domu \n",
      " i to moja moja moja moja do\n",
      "[8, 302, 6, 11, 6, 187, 1, 2, 3, 9, 1260, 2, 6, 239, 1, 2, 11, 79, 79, 79, 79, 15]\n",
      "158/158 [==============================] - 83s 523ms/step - loss: 3.8544 - accuracy: 0.2633 - val_loss: 11.9134 - val_accuracy: 0.1033\n",
      "Epoch 16/40\n",
      "158/158 [==============================] - 82s 519ms/step - loss: 3.5794 - accuracy: 0.2895 - val_loss: 12.8677 - val_accuracy: 0.1215\n",
      "Epoch 17/40\n",
      "158/158 [==============================] - ETA: 0s - loss: 3.3219 - accuracy: 0.3220\n",
      "A drzewo moi na nami \n",
      " zjawisk na srebrnego łona \n",
      " i stoi słowa i zawstydzę \n",
      " bo się przyjdzie na masz\n",
      "[8, 302, 424, 4, 170, 1, 3851, 4, 4141, 1067, 1, 2, 285, 233, 2, 1730, 1, 30, 5, 327, 4, 240]\n",
      "158/158 [==============================] - 82s 522ms/step - loss: 3.3219 - accuracy: 0.3220 - val_loss: 13.8507 - val_accuracy: 0.1118\n",
      "Epoch 18/40\n",
      "158/158 [==============================] - 81s 514ms/step - loss: 3.0831 - accuracy: 0.3592 - val_loss: 14.5950 - val_accuracy: 0.1028\n",
      "Epoch 19/40\n",
      "158/158 [==============================] - ETA: 0s - loss: 2.8525 - accuracy: 0.3918\n",
      "A drzewo moi w mnie swej rozpycha \n",
      " może co tak tak o płaczu oniemiał \n",
      " i wiesz że trzeba niebo zwalić\n",
      "[8, 302, 424, 3, 22, 330, 3227, 1, 62, 10, 13, 13, 14, 577, 4675, 1, 2, 206, 12, 172, 159, 1571]\n",
      "158/158 [==============================] - 89s 564ms/step - loss: 2.8525 - accuracy: 0.3918 - val_loss: 15.7255 - val_accuracy: 0.1020\n",
      "Epoch 20/40\n",
      "158/158 [==============================] - 83s 527ms/step - loss: 2.6575 - accuracy: 0.4252 - val_loss: 16.4140 - val_accuracy: 0.1042\n",
      "Epoch 21/40\n",
      "158/158 [==============================] - ETA: 0s - loss: 2.4550 - accuracy: 0.4541\n",
      "A drzewo moi w dłoniach szczyty \n",
      " i niepewnymi śniegi powlokłeś błękity \n",
      " nasz nagle troski z srebrzysty \n",
      " odbija się w\n",
      "[8, 302, 424, 3, 5425, 5073, 1, 2, 5074, 2275, 5075, 745, 1, 263, 270, 370, 7, 5077, 1, 5078, 5, 3]\n",
      "158/158 [==============================] - 84s 535ms/step - loss: 2.4550 - accuracy: 0.4541 - val_loss: 17.0937 - val_accuracy: 0.1069\n",
      "Epoch 22/40\n",
      "158/158 [==============================] - 84s 532ms/step - loss: 2.2968 - accuracy: 0.4871 - val_loss: 17.5416 - val_accuracy: 0.1073\n",
      "Epoch 23/40\n",
      "158/158 [==============================] - ETA: 0s - loss: 2.1535 - accuracy: 0.5155\n",
      "A drzewo moi w wstyd \n",
      " i pod sztandarów w kit \n",
      " oberwanych twarz jego zawstydzę \n",
      " bo on sam sobie płacił\n",
      "[8, 302, 424, 3, 1726, 1, 2, 31, 1727, 3, 1728, 1, 1729, 171, 133, 1730, 1, 30, 75, 88, 72, 1731]\n",
      "158/158 [==============================] - 86s 543ms/step - loss: 2.1535 - accuracy: 0.5155 - val_loss: 17.2823 - val_accuracy: 0.0980\n",
      "Epoch 24/40\n",
      "158/158 [==============================] - 83s 526ms/step - loss: 2.0217 - accuracy: 0.5326 - val_loss: 18.2855 - val_accuracy: 0.0984\n",
      "Epoch 25/40\n",
      "158/158 [==============================] - ETA: 0s - loss: 1.9021 - accuracy: 0.5593\n",
      "A drzewo smętki i dumy \n",
      " a więc idzie jednym samej smutku sile \n",
      " strawiony własnym ogniem piorunowe \n",
      " rzuciła różę niebieską\n",
      "[8, 302, 1749, 2, 859, 1, 8, 37, 324, 548, 823, 316, 1017, 1, 1916, 1018, 711, 2033, 1, 5621, 1163, 5622]\n",
      "158/158 [==============================] - 84s 534ms/step - loss: 1.9021 - accuracy: 0.5593 - val_loss: 18.7950 - val_accuracy: 0.0988\n",
      "Epoch 26/40\n",
      "158/158 [==============================] - 90s 568ms/step - loss: 1.7968 - accuracy: 0.5776 - val_loss: 18.3734 - val_accuracy: 0.0944\n",
      "Epoch 27/40\n",
      "158/158 [==============================] - ETA: 0s - loss: 1.7166 - accuracy: 0.5946\n",
      "A drzewo śmierci było masztem się i może \n",
      " i biedne że serce tylko serce da osób \n",
      " a tam już czynisz\n",
      "[8, 302, 108, 78, 1874, 5, 2, 62, 1, 2, 882, 12, 43, 41, 43, 807, 3597, 1, 8, 46, 21, 2882]\n",
      "158/158 [==============================] - 85s 539ms/step - loss: 1.7166 - accuracy: 0.5946 - val_loss: 18.0940 - val_accuracy: 0.0984\n",
      "Epoch 28/40\n",
      "158/158 [==============================] - 86s 547ms/step - loss: 1.6250 - accuracy: 0.6115 - val_loss: 18.9813 - val_accuracy: 0.1055\n",
      "Epoch 29/40\n",
      "158/158 [==============================] - ETA: 0s - loss: 1.5382 - accuracy: 0.6317\n",
      "A drzewo śmierci było masztem na okręcie \n",
      " a wiesz jak modlą opłakan tylko łoże \n",
      " a oto to jak wiem szpady\n",
      "[8, 302, 108, 78, 1874, 4, 1875, 1, 8, 206, 9, 3766, 5329, 41, 904, 1, 8, 99, 11, 9, 53, 1173]\n",
      "158/158 [==============================] - 85s 537ms/step - loss: 1.5382 - accuracy: 0.6317 - val_loss: 18.8778 - val_accuracy: 0.1015\n",
      "Epoch 30/40\n",
      "158/158 [==============================] - 82s 518ms/step - loss: 1.4869 - accuracy: 0.6395 - val_loss: 20.2806 - val_accuracy: 0.0962\n",
      "Epoch 31/40\n",
      "158/158 [==============================] - ETA: 0s - loss: 1.4221 - accuracy: 0.6519\n",
      "A drzewo moi w dłoniach ukrywa czoło \n",
      " ha ha ciebie między swych pan nad siebie \n",
      " gdy duch aniołem a więc\n",
      "[8, 302, 424, 3, 5425, 5426, 297, 1, 268, 268, 101, 333, 165, 84, 34, 144, 1, 23, 81, 550, 8, 37]\n",
      "158/158 [==============================] - 87s 554ms/step - loss: 1.4221 - accuracy: 0.6519 - val_loss: 20.5922 - val_accuracy: 0.1028\n",
      "Epoch 32/40\n",
      "158/158 [==============================] - 85s 536ms/step - loss: 1.3666 - accuracy: 0.6634 - val_loss: 20.2825 - val_accuracy: 0.0962\n",
      "Epoch 33/40\n",
      "158/158 [==============================] - ETA: 0s - loss: 1.3016 - accuracy: 0.6783\n",
      "A drzewo śmierci było masztem na okręcie \n",
      " a mi niosło na gwiazda co się tam zapala \n",
      " i łzę różową leje\n",
      "[8, 302, 108, 78, 1874, 4, 1875, 1, 8, 16, 1008, 4, 666, 10, 5, 46, 1556, 1, 2, 665, 1557, 1558]\n",
      "158/158 [==============================] - 87s 551ms/step - loss: 1.3016 - accuracy: 0.6783 - val_loss: 21.1280 - val_accuracy: 0.1051\n",
      "Epoch 34/40\n",
      "158/158 [==============================] - 84s 534ms/step - loss: 1.2407 - accuracy: 0.6909 - val_loss: 21.7996 - val_accuracy: 0.0988\n",
      "Epoch 35/40\n",
      "158/158 [==============================] - ETA: 0s - loss: 1.1885 - accuracy: 0.7022\n",
      "A drzewo moi na dłoniach ukrywa czoło \n",
      " ha ha ciebie między swych dziewce wzięta czeka się siebie \n",
      " wbite nie duchy\n",
      "[8, 302, 424, 4, 5425, 5426, 297, 1, 268, 268, 101, 333, 165, 1388, 1278, 578, 5, 144, 1, 6159, 6, 289]\n",
      "158/158 [==============================] - 84s 534ms/step - loss: 1.1885 - accuracy: 0.7022 - val_loss: 21.7118 - val_accuracy: 0.1060\n",
      "Epoch 36/40\n",
      "158/158 [==============================] - 83s 524ms/step - loss: 1.1585 - accuracy: 0.7085 - val_loss: 21.2762 - val_accuracy: 0.1015\n",
      "Epoch 37/40\n",
      "158/158 [==============================] - ETA: 0s - loss: 1.1103 - accuracy: 0.7179\n",
      "A drzewo śmierci było masztem i okręcie \n",
      " i biedne moje była twój za wesoło \n",
      " lecz raz tylko była twój twój\n",
      "[8, 302, 108, 78, 1874, 2, 1875, 1, 2, 882, 61, 47, 125, 17, 2304, 1, 18, 116, 41, 47, 125, 125]\n",
      "158/158 [==============================] - 85s 539ms/step - loss: 1.1103 - accuracy: 0.7179 - val_loss: 21.2754 - val_accuracy: 0.1015\n",
      "Epoch 38/40\n",
      "158/158 [==============================] - 87s 548ms/step - loss: 1.0687 - accuracy: 0.7285 - val_loss: 20.3332 - val_accuracy: 0.1002\n",
      "Epoch 39/40\n",
      "158/158 [==============================] - ETA: 0s - loss: 1.0392 - accuracy: 0.7360\n",
      "A drzewo śmierci było masztem na okręcie \n",
      " i zgon niosło na ludy saksońskie i nawy \n",
      " więc słońce już w wolności\n",
      "[8, 302, 108, 78, 1874, 4, 1875, 1, 2, 705, 1008, 4, 695, 1876, 2, 1877, 1, 37, 106, 21, 3, 117]\n",
      "158/158 [==============================] - 88s 556ms/step - loss: 1.0392 - accuracy: 0.7360 - val_loss: 22.7732 - val_accuracy: 0.1015\n",
      "Epoch 40/40\n",
      "158/158 [==============================] - 83s 528ms/step - loss: 0.9922 - accuracy: 0.7468 - val_loss: 21.6780 - val_accuracy: 0.0962\n"
     ]
    }
   ],
   "source": [
    "HISTORY = MODEL.fit(\n",
    "    X,\n",
    "    y,\n",
    "    epochs=40,\n",
    "    validation_split=0.1,\n",
    "    verbose=1,\n",
    "    batch_size=128,\n",
    "    shuffle=True,\n",
    "    callbacks=create_callbacks()\n",
    ")\n",
    "\n",
    "MODEL.save(MODEL_PATH)"
   ],
   "metadata": {
    "collapsed": false
   }
  },
  {
   "cell_type": "code",
   "execution_count": 17,
   "outputs": [],
   "source": [
    "with open(f\"data/models/{MODEL_NAME}/tokenizer.pickle\", \"wb\") as f:\n",
    "    pickle.dump(TOKENIZER, f, protocol=pickle.HIGHEST_PROTOCOL)\n",
    "\n",
    "with open(f\"data/models/{MODEL_NAME}/history.pickle\", \"wb\") as f:\n",
    "    pickle.dump(HISTORY.history, f, protocol=pickle.HIGHEST_PROTOCOL)"
   ],
   "metadata": {
    "collapsed": false
   }
  },
  {
   "cell_type": "code",
   "execution_count": 18,
   "outputs": [
    {
     "data": {
      "text/plain": "<Figure size 700x400 with 2 Axes>",
      "image/png": "[encoded data removed]"
     },
     "metadata": {},
     "output_type": "display_data"
    }
   ],
   "source": [
    "with open(f\"data/models/{MODEL_NAME}/history.pickle\", \"rb\") as f:\n",
    "    history = pickle.load(f)\n",
    "\n",
    "fig, (ax1, ax2) = plt.subplots(1, 2)\n",
    "fig.suptitle(f\"Learning curve of {MODEL_NAME}\")\n",
    "\n",
    "ax1.plot(history['accuracy'])\n",
    "ax1.set_xlabel('epoch')\n",
    "ax1.set_ylabel('accuracy')\n",
    "\n",
    "ax2.plot(history['loss'])\n",
    "ax2.set_xlabel('epoch')\n",
    "ax2.set_ylabel('loss')\n",
    "fig.tight_layout()\n",
    "fig.set_size_inches(7, 4)\n",
    "fig.savefig(f\"data/models/{MODEL_NAME}/learning_curve.png\")\n",
    "plt.show()"
   ],
   "metadata": {
    "collapsed": false
   }
  },
  {
   "cell_type": "code",
   "execution_count": 20,
   "outputs": [
    {
     "name": "stdout",
     "output_type": "stream",
     "text": [
      " ty ty tak tak tylko zaraźliwym \n",
      " moja droga droga \n",
      " każdy cię nieśmiertelny \n",
      " najwyższą to mego moja jedna gwiazdą \n",
      "\n"
     ]
    }
   ],
   "source": [
    "print(generate_verse(MODEL, TOKENIZER, \"\"))"
   ],
   "metadata": {
    "collapsed": false
   }
  },
  {
   "cell_type": "code",
   "execution_count": 21,
   "outputs": [
    {
     "name": "stderr",
     "output_type": "stream",
     "text": [
      "100%|██████████| 20/20 [00:53<00:00,  2.68s/it]"
     ]
    },
    {
     "name": "stdout",
     "output_type": "stream",
     "text": [
      "Mean cousine similarity: 0.9699982963463819\n"
     ]
    },
    {
     "name": "stderr",
     "output_type": "stream",
     "text": [
      "\n"
     ]
    }
   ],
   "source": [
    "def similarity(a: tp.List[tp.List[int]], b: tp.List[int]):\n",
    "    return np.dot(a, b)/(np.linalg.norm(a, axis=1) * np.linalg.norm(b))\n",
    "\n",
    "def measure_structure_similarity(model: keras.Model, tokenizer: Tokenizer, text: str, tests: int = 20):\n",
    "    a = [[len(line) for line in verse.split('\\n')[:4]] for verse in text]\n",
    "    words = list(TOKENIZER.word_index.keys())\n",
    "    result = []\n",
    "    for _ in tqdm(range(tests)):\n",
    "        verse = generate_verse(model, tokenizer, random.choice(words))\n",
    "        b = [len(line) for line in verse.split('\\n')[:4]]\n",
    "        sim = similarity(a, b)\n",
    "        result.append(np.mean(sim))\n",
    "    return np.mean(result)\n",
    "\n",
    "MEAN_SIMILARITY = measure_structure_similarity(MODEL, TOKENIZER, TEXT)\n",
    "print(f\"Mean cousine similarity: {MEAN_SIMILARITY}\")"
   ],
   "metadata": {
    "collapsed": false
   }
  },
  {
   "cell_type": "code",
   "execution_count": null,
   "outputs": [],
   "source": [],
   "metadata": {
    "collapsed": false
   }
  }
 ],
 "metadata": {
  "kernelspec": {
   "display_name": "Python 3",
   "language": "python",
   "name": "python3"
  },
  "language_info": {
   "codemirror_mode": {
    "name": "ipython",
    "version": 2
   },
   "file_extension": ".py",
   "mimetype": "text/x-python",
   "name": "python",
   "nbconvert_exporter": "python",
   "pygments_lexer": "ipython2",
   "version": "2.7.6"
  }
 },
 "nbformat": 4,
 "nbformat_minor": 0
}
