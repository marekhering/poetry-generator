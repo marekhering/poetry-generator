{
 "cells": [
  {
   "cell_type": "code",
   "execution_count": 23,
   "metadata": {
    "collapsed": true
   },
   "outputs": [],
   "source": [
    "import csv\n",
    "import pickle\n",
    "import re\n",
    "\n",
    "import numpy as np\n",
    "import keras\n",
    "import keras.layers\n",
    "import keras.optimizers\n",
    "import keras.callbacks\n",
    "from keras.utils import pad_sequences, to_categorical\n",
    "from keras.preprocessing.text import Tokenizer\n",
    "from tqdm import tqdm\n",
    "from matplotlib import pyplot as plt\n"
   ]
  },
  {
   "cell_type": "code",
   "execution_count": 24,
   "outputs": [],
   "source": [
    "TO_EXCLUDE = '!\"#$%&()*+-/:;<=>@[\\\\]^_`{|}~.,:;!?\\t'\n",
    "TO_TOKENIZE = '\\n'"
   ],
   "metadata": {
    "collapsed": false
   }
  },
  {
   "cell_type": "code",
   "execution_count": 25,
   "outputs": [
    {
     "name": "stderr",
     "output_type": "stream",
     "text": [
      "100%|██████████| 1000/1000 [00:00<00:00, 52632.75it/s]"
     ]
    },
    {
     "name": "stdout",
     "output_type": "stream",
     "text": [
      "cap'n jack was washed over the side \n",
      " his crew searched but found not hair nor hide \n",
      " no longer the helm \n",
      " but the deep benthic realm \n",
      " is where jack will forever reside \n",
      "  ablactation to wean off the breast \n",
      " should wait 'til age 2 this is best \n",
      " though some men never quit \n",
      " bet you thought i'd rhyme tit \n",
      " because they're mammarially obsessed \n",
      "  as a soup bisque is best when served hot \n",
      " made with lobster it hits the right spot \n",
      " i think it tastes dreamy \n",
      " it's so rich and creamy \n",
      " it's the soup you'd be served on a yacht \n",
      " \n"
     ]
    },
    {
     "name": "stderr",
     "output_type": "stream",
     "text": [
      "\n"
     ]
    }
   ],
   "source": [
    "def load_data(file, include: str, exclude: str, size: int = None):\n",
    "    _text =  []\n",
    "    with open(file) as f:\n",
    "        data = csv.reader(f)\n",
    "        for verse, *_ in tqdm(list(data)[:size] if size is not None else list(data)):\n",
    "            # Separate characters that we want to tokenize\n",
    "            correct_verse = re.sub(r'(['+include+'])', r' \\1 ', verse)\n",
    "            # Exclude characters that we do not want to tokenize\n",
    "            correct_verse = correct_verse.translate(str.maketrans('', '', exclude))\n",
    "            _text.append(correct_verse.lower())\n",
    "    return _text\n",
    "\n",
    "TEXT = load_data('data/poems/limericks.csv', TO_TOKENIZE, TO_EXCLUDE, 1000)\n",
    "print(*TEXT[:3])"
   ],
   "metadata": {
    "collapsed": false
   }
  },
  {
   "cell_type": "code",
   "execution_count": 26,
   "outputs": [
    {
     "name": "stdout",
     "output_type": "stream",
     "text": [
      "7609\n"
     ]
    }
   ],
   "source": [
    "TOKENIZER = Tokenizer(filters=TO_EXCLUDE)\n",
    "TOKENIZER.fit_on_texts(TEXT)\n",
    "TOTAL_WORDS = len(TOKENIZER.word_index) + 1\n",
    "print(TOTAL_WORDS)"
   ],
   "metadata": {
    "collapsed": false
   }
  },
  {
   "cell_type": "code",
   "execution_count": 27,
   "outputs": [
    {
     "name": "stderr",
     "output_type": "stream",
     "text": [
      "100%|██████████| 1000/1000 [00:00<00:00, 17241.28it/s]"
     ]
    },
    {
     "name": "stdout",
     "output_type": "stream",
     "text": [
      "Total Sequences: 33262\n"
     ]
    },
    {
     "name": "stderr",
     "output_type": "stream",
     "text": [
      "\n"
     ]
    }
   ],
   "source": [
    "def create_sequences(text, tokenizer):\n",
    "    sequences = list()\n",
    "    for verse in tqdm(text):\n",
    "        # for line in verse.strip().split('\\n'):\n",
    "        encoded = tokenizer.texts_to_sequences([verse])[0]\n",
    "        for i in range(1, len(encoded)):\n",
    "            sequence = encoded[:i+1]\n",
    "            sequences.append(sequence)\n",
    "    return sequences\n",
    "\n",
    "SEQUENCES = create_sequences(TEXT, TOKENIZER)\n",
    "print(f\"Total Sequences: {len(SEQUENCES)}\")"
   ],
   "metadata": {
    "collapsed": false
   }
  },
  {
   "cell_type": "code",
   "execution_count": 28,
   "outputs": [
    {
     "name": "stdout",
     "output_type": "stream",
     "text": [
      "Max Sequence Length: 43\n"
     ]
    }
   ],
   "source": [
    "SEQUENCE_LENGTH = max([len(seq) for seq in SEQUENCES])\n",
    "ENCODED_SEQUENCES = pad_sequences(SEQUENCES, maxlen=SEQUENCE_LENGTH, padding='pre')\n",
    "X, y = ENCODED_SEQUENCES[:,:-1], to_categorical(ENCODED_SEQUENCES[:,-1], num_classes=TOTAL_WORDS)\n",
    "print(f'Max Sequence Length: {SEQUENCE_LENGTH}')"
   ],
   "metadata": {
    "collapsed": false
   }
  },
  {
   "cell_type": "code",
   "execution_count": 29,
   "outputs": [
    {
     "name": "stdout",
     "output_type": "stream",
     "text": [
      "WARNING:tensorflow:Layer lstm will not use cuDNN kernels since it doesn't meet the criteria. It will use a generic GPU kernel as fallback when running on GPU.\n",
      "WARNING:tensorflow:Layer lstm_1 will not use cuDNN kernels since it doesn't meet the criteria. It will use a generic GPU kernel as fallback when running on GPU.\n",
      "Model: \"sequential\"\n",
      "_________________________________________________________________\n",
      " Layer (type)                Output Shape              Param #   \n",
      "=================================================================\n",
      " embedding (Embedding)       (None, 42, 16)            121744    \n",
      "                                                                 \n",
      " lstm (LSTM)                 (None, 42, 128)           74240     \n",
      "                                                                 \n",
      " lstm_1 (LSTM)               (None, 64)                49408     \n",
      "                                                                 \n",
      " dense (Dense)               (None, 7609)              494585    \n",
      "                                                                 \n",
      "=================================================================\n",
      "Total params: 739,977\n",
      "Trainable params: 739,977\n",
      "Non-trainable params: 0\n",
      "_________________________________________________________________\n",
      "None\n"
     ]
    }
   ],
   "source": [
    "def create_model(total_words: int, sequence_length: int):\n",
    "    # define model\n",
    "    model = keras.models.Sequential()\n",
    "    model.add(keras.layers.Embedding(total_words, 16, input_length=sequence_length - 1))\n",
    "    model.add(keras.layers.LSTM(128, return_sequences=True, activation='relu'))\n",
    "    model.add(keras.layers.LSTM(64, activation='relu'))\n",
    "    model.add(keras.layers.Dense(total_words, activation='softmax'))\n",
    "    model.compile(loss='categorical_crossentropy', optimizer='adam', metrics=['accuracy'])\n",
    "    return model\n",
    "\n",
    "MODEL_NAME = \"StructureModel\"\n",
    "MODEL_PATH = f\"data/models/{MODEL_NAME}/weights.h5\"\n",
    "MODEL = keras.models.load_model(MODEL_PATH)\n",
    "# MODEL = create_model(TOTAL_WORDS, SEQUENCE_LENGTH)\n",
    "print(MODEL.summary())\n"
   ],
   "metadata": {
    "collapsed": false
   }
  },
  {
   "cell_type": "code",
   "execution_count": 30,
   "outputs": [],
   "source": [
    "REVERSE_TOKEN_INDEX = {v: k for k, v in TOKENIZER.word_index.items()}\n",
    "\n",
    "def generate_seq(model: keras.Model, tokenizer: Tokenizer, sequence_length: int, in_text: str, max_words: int = 60):\n",
    "    for _ in range(max_words):\n",
    "        encoded = tokenizer.texts_to_sequences([in_text])[0]\n",
    "        encoded = pad_sequences([encoded], maxlen=sequence_length - 1, padding='pre')\n",
    "        predicted = np.argmax(model.predict(encoded, verbose=0))\n",
    "        out_word = REVERSE_TOKEN_INDEX.get(predicted, None)\n",
    "        in_text += ' ' + out_word\n",
    "    return in_text\n"
   ],
   "metadata": {
    "collapsed": false
   }
  },
  {
   "cell_type": "code",
   "execution_count": 9,
   "outputs": [],
   "source": [
    "def create_callbacks():\n",
    "    callbacks = []\n",
    "\n",
    "    class PredictionCallback(keras.callbacks.Callback):\n",
    "        def on_epoch_end(self, epoch, logs=None):\n",
    "            frequency = 5\n",
    "            if epoch % frequency == 0:\n",
    "                seq = generate_seq(MODEL, TOKENIZER, SEQUENCE_LENGTH, \"As a soup\", 20)\n",
    "                print(f\"\\n{seq}\")\n",
    "\n",
    "    callbacks.append(PredictionCallback())\n",
    "    callbacks.append(keras.callbacks.EarlyStopping(monitor=\"loss\", patience=3))\n",
    "    callbacks.append(keras.callbacks.ModelCheckpoint(\n",
    "        filepath=f\"data/models/{MODEL_NAME}/checkpoint\",\n",
    "        save_weights_only=True,\n",
    "        save_freq=5\n",
    "    ))\n",
    "    return callbacks\n"
   ],
   "metadata": {
    "collapsed": false
   }
  },
  {
   "cell_type": "code",
   "execution_count": 10,
   "outputs": [
    {
     "name": "stdout",
     "output_type": "stream",
     "text": [
      "Epoch 1/100\n",
      "234/234 [==============================] - ETA: 0s - loss: 7.1269 - accuracy: 0.1401\n",
      "As a soup \n",
      " \n",
      "\n",
      "234/234 [==============================] - 132s 548ms/step - loss: 7.1269 - accuracy: 0.1401 - val_loss: 6.8633 - val_accuracy: 0.1470\n",
      "Epoch 2/100\n",
      "234/234 [==============================] - 123s 527ms/step - loss: 6.5303 - accuracy: 0.1507 - val_loss: 7.0015 - val_accuracy: 0.1470\n",
      "Epoch 3/100\n",
      "234/234 [==============================] - 124s 530ms/step - loss: 6.4995 - accuracy: 0.1507 - val_loss: 7.1312 - val_accuracy: 0.1470\n",
      "Epoch 4/100\n",
      "234/234 [==============================] - 124s 530ms/step - loss: 6.4830 - accuracy: 0.1507 - val_loss: 7.1937 - val_accuracy: 0.1470\n",
      "Epoch 5/100\n",
      "234/234 [==============================] - 124s 531ms/step - loss: 6.4394 - accuracy: 0.1507 - val_loss: 7.1319 - val_accuracy: 0.1470\n",
      "Epoch 6/100\n",
      "234/234 [==============================] - ETA: 0s - loss: 6.2437 - accuracy: 0.1572\n",
      "As a soup \n",
      " the a a a a a \n",
      " \n",
      "\n",
      "234/234 [==============================] - 124s 530ms/step - loss: 6.2437 - accuracy: 0.1572 - val_loss: 7.1470 - val_accuracy: 0.1575\n",
      "Epoch 7/100\n",
      "234/234 [==============================] - 126s 536ms/step - loss: 6.0524 - accuracy: 0.1738 - val_loss: 7.2275 - val_accuracy: 0.1557\n",
      "Epoch 8/100\n",
      "234/234 [==============================] - 125s 534ms/step - loss: 5.9163 - accuracy: 0.1798 - val_loss: 7.2753 - val_accuracy: 0.1617\n",
      "Epoch 9/100\n",
      "234/234 [==============================] - 123s 525ms/step - loss: 5.7649 - accuracy: 0.1853 - val_loss: 7.5866 - val_accuracy: 0.1476\n",
      "Epoch 10/100\n",
      "234/234 [==============================] - 148s 634ms/step - loss: 5.6169 - accuracy: 0.1880 - val_loss: 7.8715 - val_accuracy: 0.1503\n",
      "Epoch 11/100\n",
      "234/234 [==============================] - ETA: 0s - loss: 5.4304 - accuracy: 0.1906\n",
      "As a soup and a a a a face \n",
      " a face \n",
      " the face a face \n",
      " the face a face \n",
      "\n",
      "234/234 [==============================] - 134s 571ms/step - loss: 5.4304 - accuracy: 0.1906 - val_loss: 8.2054 - val_accuracy: 0.1467\n",
      "Epoch 12/100\n",
      "234/234 [==============================] - 126s 539ms/step - loss: 5.2188 - accuracy: 0.1925 - val_loss: 8.6404 - val_accuracy: 0.1434\n",
      "Epoch 13/100\n",
      "234/234 [==============================] - 125s 532ms/step - loss: 4.9788 - accuracy: 0.1943 - val_loss: 9.1502 - val_accuracy: 0.1479\n",
      "Epoch 14/100\n",
      "234/234 [==============================] - 129s 551ms/step - loss: 4.7336 - accuracy: 0.1965 - val_loss: 9.6883 - val_accuracy: 0.1431\n",
      "Epoch 15/100\n",
      "234/234 [==============================] - 130s 558ms/step - loss: 4.4928 - accuracy: 0.1985 - val_loss: 10.6185 - val_accuracy: 0.1371\n",
      "Epoch 16/100\n",
      "234/234 [==============================] - ETA: 0s - loss: 4.2826 - accuracy: 0.2046\n",
      "As a soup of a log \n",
      " i wounded a delight \n",
      " the keeps aberration \n",
      " the match a splurge \n",
      " pennyfarthings of\n",
      "234/234 [==============================] - 138s 589ms/step - loss: 4.2826 - accuracy: 0.2046 - val_loss: 10.7098 - val_accuracy: 0.1416\n",
      "Epoch 17/100\n",
      "234/234 [==============================] - 133s 567ms/step - loss: 4.0716 - accuracy: 0.2168 - val_loss: 11.1208 - val_accuracy: 0.1422\n",
      "Epoch 18/100\n",
      "234/234 [==============================] - 134s 573ms/step - loss: 3.9130 - accuracy: 0.2342 - val_loss: 11.8886 - val_accuracy: 0.1301\n",
      "Epoch 19/100\n",
      "234/234 [==============================] - 131s 559ms/step - loss: 3.7442 - accuracy: 0.2518 - val_loss: 11.7081 - val_accuracy: 0.1344\n",
      "Epoch 20/100\n",
      "234/234 [==============================] - 129s 550ms/step - loss: 3.5982 - accuracy: 0.2767 - val_loss: 12.6335 - val_accuracy: 0.1304\n",
      "Epoch 21/100\n",
      "234/234 [==============================] - ETA: 0s - loss: 3.4611 - accuracy: 0.2970\n",
      "As a soup that a cad to lied \n",
      " to the ventricle found of the line \n",
      " and the structural affair \n",
      " and\n",
      "234/234 [==============================] - 131s 558ms/step - loss: 3.4611 - accuracy: 0.2970 - val_loss: 14.8766 - val_accuracy: 0.1238\n",
      "Epoch 22/100\n",
      "234/234 [==============================] - 129s 552ms/step - loss: 3.3371 - accuracy: 0.3175 - val_loss: 14.1133 - val_accuracy: 0.1292\n",
      "Epoch 23/100\n",
      "234/234 [==============================] - 133s 570ms/step - loss: 3.2176 - accuracy: 0.3343 - val_loss: 14.3475 - val_accuracy: 0.1241\n",
      "Epoch 24/100\n",
      "234/234 [==============================] - 125s 535ms/step - loss: 3.1122 - accuracy: 0.3512 - val_loss: 14.9255 - val_accuracy: 0.1274\n",
      "Epoch 25/100\n",
      "234/234 [==============================] - 127s 544ms/step - loss: 3.0142 - accuracy: 0.3672 - val_loss: 16.2728 - val_accuracy: 0.1187\n",
      "Epoch 26/100\n",
      "234/234 [==============================] - ETA: 0s - loss: 2.9226 - accuracy: 0.3825\n",
      "As a soup that might england lee \n",
      " and the news at the sad phone \n",
      " why time it bleak \n",
      " and suave\n",
      "234/234 [==============================] - 130s 554ms/step - loss: 2.9226 - accuracy: 0.3825 - val_loss: 15.9472 - val_accuracy: 0.1280\n",
      "Epoch 27/100\n",
      "234/234 [==============================] - 132s 562ms/step - loss: 2.8238 - accuracy: 0.3962 - val_loss: 16.6097 - val_accuracy: 0.1244\n",
      "Epoch 28/100\n",
      "234/234 [==============================] - 136s 581ms/step - loss: 2.7593 - accuracy: 0.4098 - val_loss: 16.7448 - val_accuracy: 0.1202\n",
      "Epoch 29/100\n",
      "234/234 [==============================] - 130s 557ms/step - loss: 2.6826 - accuracy: 0.4199 - val_loss: 16.1636 - val_accuracy: 0.1208\n",
      "Epoch 30/100\n",
      "234/234 [==============================] - 133s 569ms/step - loss: 2.6294 - accuracy: 0.4281 - val_loss: 17.5763 - val_accuracy: 0.1244\n",
      "Epoch 31/100\n",
      "234/234 [==============================] - ETA: 0s - loss: 2.5617 - accuracy: 0.4397\n",
      "As a soup were a mouth i'll profound \n",
      " well the evener that gaps to flitters \n",
      " lest the creature in the norm\n",
      "234/234 [==============================] - 135s 577ms/step - loss: 2.5617 - accuracy: 0.4397 - val_loss: 18.5252 - val_accuracy: 0.1208\n",
      "Epoch 32/100\n",
      "234/234 [==============================] - 128s 545ms/step - loss: 2.4965 - accuracy: 0.4512 - val_loss: 19.3466 - val_accuracy: 0.1157\n",
      "Epoch 33/100\n",
      "234/234 [==============================] - 127s 544ms/step - loss: 2.4666 - accuracy: 0.4550 - val_loss: 18.2268 - val_accuracy: 0.1232\n",
      "Epoch 34/100\n",
      "234/234 [==============================] - 126s 539ms/step - loss: 2.3950 - accuracy: 0.4667 - val_loss: 18.2617 - val_accuracy: 0.1193\n",
      "Epoch 35/100\n",
      "234/234 [==============================] - 123s 526ms/step - loss: 2.3576 - accuracy: 0.4742 - val_loss: 17.6630 - val_accuracy: 0.1220\n",
      "Epoch 36/100\n",
      "234/234 [==============================] - ETA: 0s - loss: 2.3189 - accuracy: 0.4794\n",
      "As a soup of a mouth we profound \n",
      " and may at all a score \n",
      " they'd yacht it the wall \n",
      " 'cos\n",
      "234/234 [==============================] - 126s 539ms/step - loss: 2.3189 - accuracy: 0.4794 - val_loss: 19.4044 - val_accuracy: 0.1172\n",
      "Epoch 37/100\n",
      "234/234 [==============================] - 126s 538ms/step - loss: 2.2829 - accuracy: 0.4847 - val_loss: 20.1211 - val_accuracy: 0.1214\n",
      "Epoch 38/100\n",
      "234/234 [==============================] - 124s 531ms/step - loss: 2.2378 - accuracy: 0.4916 - val_loss: 20.0181 - val_accuracy: 0.1199\n",
      "Epoch 39/100\n",
      "234/234 [==============================] - 124s 529ms/step - loss: 2.2008 - accuracy: 0.4975 - val_loss: 20.6974 - val_accuracy: 0.1160\n",
      "Epoch 40/100\n",
      "234/234 [==============================] - 123s 526ms/step - loss: 2.1783 - accuracy: 0.5003 - val_loss: 19.7384 - val_accuracy: 0.1202\n",
      "Epoch 41/100\n",
      "234/234 [==============================] - ETA: 0s - loss: 2.1445 - accuracy: 0.5108\n",
      "As a soup were a mouth writ plain \n",
      " dear other untarnished and stark \n",
      " crackling give to a flow \n",
      " a oedilf\n",
      "234/234 [==============================] - 136s 580ms/step - loss: 2.1445 - accuracy: 0.5108 - val_loss: 21.2997 - val_accuracy: 0.1106\n",
      "Epoch 42/100\n",
      "234/234 [==============================] - 133s 568ms/step - loss: 2.1126 - accuracy: 0.5121 - val_loss: 21.0263 - val_accuracy: 0.1166\n",
      "Epoch 43/100\n",
      "234/234 [==============================] - 134s 574ms/step - loss: 2.1025 - accuracy: 0.5180 - val_loss: 21.0518 - val_accuracy: 0.1151\n",
      "Epoch 44/100\n",
      "234/234 [==============================] - 134s 570ms/step - loss: 2.0546 - accuracy: 0.5253 - val_loss: 21.7303 - val_accuracy: 0.1124\n",
      "Epoch 45/100\n",
      "234/234 [==============================] - 139s 595ms/step - loss: 2.0257 - accuracy: 0.5284 - val_loss: 22.2359 - val_accuracy: 0.1181\n",
      "Epoch 46/100\n",
      "234/234 [==============================] - ETA: 0s - loss: 2.0059 - accuracy: 0.5339\n",
      "As a soup of be mr ignore \n",
      " having john around years a bar \n",
      " this tail members \n",
      " an match five \n",
      "\n",
      "234/234 [==============================] - 141s 604ms/step - loss: 2.0059 - accuracy: 0.5339 - val_loss: 21.4586 - val_accuracy: 0.1145\n",
      "Epoch 47/100\n",
      "234/234 [==============================] - 127s 543ms/step - loss: 1.9799 - accuracy: 0.5371 - val_loss: 19.7891 - val_accuracy: 0.1214\n",
      "Epoch 48/100\n",
      "234/234 [==============================] - 123s 527ms/step - loss: 1.9586 - accuracy: 0.5407 - val_loss: 21.5939 - val_accuracy: 0.1178\n",
      "Epoch 49/100\n",
      "234/234 [==============================] - 133s 568ms/step - loss: 1.9461 - accuracy: 0.5425 - val_loss: 22.8706 - val_accuracy: 0.1145\n",
      "Epoch 50/100\n",
      "234/234 [==============================] - 120s 515ms/step - loss: 1.9154 - accuracy: 0.5450 - val_loss: 21.4321 - val_accuracy: 0.1127\n",
      "Epoch 51/100\n",
      "234/234 [==============================] - ETA: 0s - loss: 1.8863 - accuracy: 0.5545\n",
      "As a soup of be mention \n",
      " standing yolks chocolate cream been dear like \n",
      " singing sun it with mine \n",
      " then chin\n",
      "234/234 [==============================] - 122s 523ms/step - loss: 1.8863 - accuracy: 0.5545 - val_loss: 24.1712 - val_accuracy: 0.1196\n",
      "Epoch 52/100\n",
      "234/234 [==============================] - 118s 506ms/step - loss: 1.8798 - accuracy: 0.5542 - val_loss: 22.8129 - val_accuracy: 0.1103\n",
      "Epoch 53/100\n",
      "234/234 [==============================] - 117s 499ms/step - loss: 1.8491 - accuracy: 0.5591 - val_loss: 23.4203 - val_accuracy: 0.1163\n",
      "Epoch 54/100\n",
      "234/234 [==============================] - 119s 507ms/step - loss: 1.8290 - accuracy: 0.5643 - val_loss: 22.7786 - val_accuracy: 0.1145\n",
      "Epoch 55/100\n",
      "234/234 [==============================] - 121s 517ms/step - loss: 1.8027 - accuracy: 0.5676 - val_loss: 24.4340 - val_accuracy: 0.1076\n",
      "Epoch 56/100\n",
      "234/234 [==============================] - ETA: 0s - loss: 1.7917 - accuracy: 0.5707\n",
      "As a soup of maths mr surrey \n",
      " given f making a function name \n",
      " some passed some a name \n",
      " had indulge\n",
      "234/234 [==============================] - 116s 497ms/step - loss: 1.7917 - accuracy: 0.5707 - val_loss: 24.6452 - val_accuracy: 0.1220\n",
      "Epoch 57/100\n",
      "234/234 [==============================] - 120s 513ms/step - loss: 1.7875 - accuracy: 0.5703 - val_loss: 23.4011 - val_accuracy: 0.1118\n",
      "Epoch 58/100\n",
      "234/234 [==============================] - 130s 555ms/step - loss: 1.7657 - accuracy: 0.5738 - val_loss: 21.8243 - val_accuracy: 0.1175\n",
      "Epoch 59/100\n",
      "234/234 [==============================] - 133s 570ms/step - loss: 1.7686 - accuracy: 0.5745 - val_loss: 23.0754 - val_accuracy: 0.1181\n",
      "Epoch 60/100\n",
      "234/234 [==============================] - 127s 542ms/step - loss: 1.7366 - accuracy: 0.5809 - val_loss: 23.0575 - val_accuracy: 0.1172\n",
      "Epoch 61/100\n",
      "234/234 [==============================] - ETA: 0s - loss: 1.7055 - accuracy: 0.5858\n",
      "As a soup a youngest bell \n",
      " that entitled and contrastive wasn't be \n",
      " the best a splurge \n",
      " this point a score\n",
      "234/234 [==============================] - 127s 541ms/step - loss: 1.7055 - accuracy: 0.5858 - val_loss: 23.3255 - val_accuracy: 0.1175\n",
      "Epoch 62/100\n",
      "234/234 [==============================] - 127s 544ms/step - loss: 1.7178 - accuracy: 0.5837 - val_loss: 23.9482 - val_accuracy: 0.1157\n",
      "Epoch 63/100\n",
      "234/234 [==============================] - 124s 530ms/step - loss: 1.6802 - accuracy: 0.5912 - val_loss: 22.9384 - val_accuracy: 0.1199\n",
      "Epoch 64/100\n",
      "234/234 [==============================] - 124s 529ms/step - loss: 1.6582 - accuracy: 0.5966 - val_loss: 23.8790 - val_accuracy: 0.1109\n",
      "Epoch 65/100\n",
      "234/234 [==============================] - 125s 532ms/step - loss: 1.6532 - accuracy: 0.5955 - val_loss: 23.7867 - val_accuracy: 0.1145\n",
      "Epoch 66/100\n",
      "234/234 [==============================] - ETA: 0s - loss: 1.6106 - accuracy: 0.6036\n",
      "As a soup of a mouth who a shop \n",
      " but a bubble life was rash \n",
      " and a brain set a egg\n",
      "234/234 [==============================] - 126s 537ms/step - loss: 1.6106 - accuracy: 0.6036 - val_loss: 24.2839 - val_accuracy: 0.1160\n",
      "Epoch 67/100\n",
      "234/234 [==============================] - 135s 578ms/step - loss: 1.6008 - accuracy: 0.6076 - val_loss: 24.4994 - val_accuracy: 0.1130\n",
      "Epoch 68/100\n",
      "234/234 [==============================] - 135s 577ms/step - loss: 1.6132 - accuracy: 0.6025 - val_loss: 26.5234 - val_accuracy: 0.1091\n",
      "Epoch 69/100\n",
      "234/234 [==============================] - 136s 582ms/step - loss: 1.5855 - accuracy: 0.6104 - val_loss: 26.1425 - val_accuracy: 0.1112\n",
      "Epoch 70/100\n",
      "234/234 [==============================] - 135s 574ms/step - loss: 1.5672 - accuracy: 0.6127 - val_loss: 25.2202 - val_accuracy: 0.1118\n",
      "Epoch 71/100\n",
      "234/234 [==============================] - ETA: 0s - loss: 1.5593 - accuracy: 0.6117\n",
      "As a soup a gonna bell \n",
      " full of form that causes out us \n",
      " give those right who wind \n",
      " and feeling\n",
      "234/234 [==============================] - 150s 643ms/step - loss: 1.5593 - accuracy: 0.6117 - val_loss: 26.4413 - val_accuracy: 0.1088\n",
      "Epoch 72/100\n",
      "234/234 [==============================] - 164s 700ms/step - loss: 1.5586 - accuracy: 0.6135 - val_loss: 25.8446 - val_accuracy: 0.1130\n",
      "Epoch 73/100\n",
      "234/234 [==============================] - 160s 684ms/step - loss: 1.5396 - accuracy: 0.6176 - val_loss: 26.2517 - val_accuracy: 0.1118\n",
      "Epoch 74/100\n",
      "234/234 [==============================] - 167s 712ms/step - loss: 1.5382 - accuracy: 0.6181 - val_loss: 26.8967 - val_accuracy: 0.1091\n",
      "Epoch 75/100\n",
      "234/234 [==============================] - 172s 734ms/step - loss: 1.5510 - accuracy: 0.6146 - val_loss: 28.0759 - val_accuracy: 0.1100\n",
      "Epoch 76/100\n",
      "234/234 [==============================] - ETA: 0s - loss: 1.4968 - accuracy: 0.6263\n",
      "As a soup of be bell to shout \n",
      " and the much would wants in a fits \n",
      " since a name then the\n",
      "234/234 [==============================] - 179s 765ms/step - loss: 1.4968 - accuracy: 0.6263 - val_loss: 26.5649 - val_accuracy: 0.1097\n",
      "Epoch 77/100\n",
      "234/234 [==============================] - 175s 748ms/step - loss: 1.5045 - accuracy: 0.6258 - val_loss: 26.8015 - val_accuracy: 0.1091\n",
      "Epoch 78/100\n",
      "234/234 [==============================] - 170s 726ms/step - loss: 1.4723 - accuracy: 0.6326 - val_loss: 26.7910 - val_accuracy: 0.1073\n",
      "Epoch 79/100\n",
      "234/234 [==============================] - 177s 756ms/step - loss: 1.4674 - accuracy: 0.6342 - val_loss: 26.5833 - val_accuracy: 0.1064\n",
      "Epoch 80/100\n",
      "234/234 [==============================] - 190s 811ms/step - loss: 1.4376 - accuracy: 0.6395 - val_loss: 26.3687 - val_accuracy: 0.1088\n",
      "Epoch 81/100\n",
      "234/234 [==============================] - ETA: 0s - loss: 1.4483 - accuracy: 0.6362\n",
      "As a soup bisque the mouth i'll pup \n",
      " saw our minefields cells was rash \n",
      " and a degrees like him \n",
      " when\n",
      "234/234 [==============================] - 173s 737ms/step - loss: 1.4483 - accuracy: 0.6362 - val_loss: 29.2043 - val_accuracy: 0.1049\n",
      "Epoch 82/100\n",
      "234/234 [==============================] - 191s 816ms/step - loss: 1.4275 - accuracy: 0.6401 - val_loss: 26.1267 - val_accuracy: 0.1145\n",
      "Epoch 83/100\n",
      "234/234 [==============================] - 189s 810ms/step - loss: 1.4305 - accuracy: 0.6389 - val_loss: 27.9092 - val_accuracy: 0.1103\n",
      "Epoch 84/100\n",
      "234/234 [==============================] - 173s 739ms/step - loss: 1.3946 - accuracy: 0.6475 - val_loss: 25.8217 - val_accuracy: 0.1088\n",
      "Epoch 85/100\n",
      "234/234 [==============================] - 169s 720ms/step - loss: 1.4120 - accuracy: 0.6451 - val_loss: 28.8368 - val_accuracy: 0.1049\n",
      "Epoch 86/100\n",
      "234/234 [==============================] - ETA: 0s - loss: 1.3751 - accuracy: 0.6501\n",
      "As a soup bisque a mouth i'll pup roaming \n",
      " ensure the circular haphazard \n",
      " still false colours thereby \n",
      " providing that thought\n",
      "234/234 [==============================] - 175s 746ms/step - loss: 1.3751 - accuracy: 0.6501 - val_loss: 26.5713 - val_accuracy: 0.1094\n",
      "Epoch 87/100\n",
      "234/234 [==============================] - 174s 744ms/step - loss: 1.3756 - accuracy: 0.6522 - val_loss: 27.9066 - val_accuracy: 0.1112\n",
      "Epoch 88/100\n",
      "234/234 [==============================] - 172s 733ms/step - loss: 1.3518 - accuracy: 0.6568 - val_loss: 26.8909 - val_accuracy: 0.1064\n",
      "Epoch 89/100\n",
      "234/234 [==============================] - 147s 629ms/step - loss: 1.3558 - accuracy: 0.6551 - val_loss: 26.5991 - val_accuracy: 0.1085\n",
      "Epoch 90/100\n",
      "234/234 [==============================] - 126s 537ms/step - loss: 1.3428 - accuracy: 0.6530 - val_loss: 23.9242 - val_accuracy: 0.1100\n",
      "Epoch 91/100\n",
      "234/234 [==============================] - ETA: 0s - loss: 1.3341 - accuracy: 0.6595\n",
      "As a soup bisque some best we given note \n",
      " but the circular measure \n",
      " da examines colours thereby \n",
      " every cilium are\n",
      "234/234 [==============================] - 130s 557ms/step - loss: 1.3341 - accuracy: 0.6595 - val_loss: 28.6678 - val_accuracy: 0.1088\n",
      "Epoch 92/100\n",
      "234/234 [==============================] - 127s 542ms/step - loss: 1.2977 - accuracy: 0.6669 - val_loss: 27.6126 - val_accuracy: 0.1082\n",
      "Epoch 93/100\n",
      "234/234 [==============================] - 126s 538ms/step - loss: 1.3024 - accuracy: 0.6656 - val_loss: 26.9771 - val_accuracy: 0.1073\n",
      "Epoch 94/100\n",
      "234/234 [==============================] - 126s 536ms/step - loss: 1.3084 - accuracy: 0.6671 - val_loss: 29.5644 - val_accuracy: 0.1085\n",
      "Epoch 95/100\n",
      "234/234 [==============================] - 124s 529ms/step - loss: 1.2760 - accuracy: 0.6713 - val_loss: 30.9891 - val_accuracy: 0.1088\n",
      "Epoch 96/100\n",
      "234/234 [==============================] - ETA: 0s - loss: 1.2846 - accuracy: 0.6691\n",
      "As a soup bisque the best can pup \n",
      " me your minefields measure \n",
      " da same worth has svelter fine \n",
      " autumn give\n",
      "234/234 [==============================] - 128s 545ms/step - loss: 1.2846 - accuracy: 0.6691 - val_loss: 27.7077 - val_accuracy: 0.1082\n",
      "Epoch 97/100\n",
      "234/234 [==============================] - 124s 530ms/step - loss: 1.2600 - accuracy: 0.6741 - val_loss: 28.2624 - val_accuracy: 0.1067\n",
      "Epoch 98/100\n",
      "234/234 [==============================] - 124s 529ms/step - loss: 1.2401 - accuracy: 0.6805 - val_loss: 30.8980 - val_accuracy: 0.1049\n",
      "Epoch 99/100\n",
      "234/234 [==============================] - 125s 534ms/step - loss: 1.2680 - accuracy: 0.6721 - val_loss: 29.2848 - val_accuracy: 0.1070\n",
      "Epoch 100/100\n",
      "234/234 [==============================] - 131s 562ms/step - loss: 1.2366 - accuracy: 0.6800 - val_loss: 29.3076 - val_accuracy: 0.1022\n"
     ]
    }
   ],
   "source": [
    "HISTORY = MODEL.fit(\n",
    "    X,\n",
    "    y,\n",
    "    epochs=100,\n",
    "    validation_split=0.1,\n",
    "    verbose=1,\n",
    "    batch_size=128,\n",
    "    shuffle=True,\n",
    "    callbacks=create_callbacks()\n",
    ")\n",
    "\n",
    "MODEL.save(MODEL_PATH)"
   ],
   "metadata": {
    "collapsed": false
   }
  },
  {
   "cell_type": "code",
   "execution_count": 21,
   "outputs": [],
   "source": [
    "with open(f\"data/models/{MODEL_NAME}/tokenizer.pickle\", \"wb\") as f:\n",
    "    pickle.dump(TOKENIZER, f, protocol=pickle.HIGHEST_PROTOCOL)\n",
    "\n",
    "with open(f\"data/models/{MODEL_NAME}/history.pickle\", \"wb\") as f:\n",
    "    pickle.dump(HISTORY.history, f, protocol=pickle.HIGHEST_PROTOCOL)"
   ],
   "metadata": {
    "collapsed": false
   }
  },
  {
   "cell_type": "code",
   "execution_count": 19,
   "outputs": [
    {
     "data": {
      "text/plain": "<Figure size 700x400 with 2 Axes>",
      "image/png": "[encoded data removed]"
     },
     "metadata": {},
     "output_type": "display_data"
    }
   ],
   "source": [
    "with open(f\"data/models/{MODEL_NAME}/history.pickle\", \"rb\") as f:\n",
    "    history = pickle.load(f)\n",
    "\n",
    "fig, (ax1, ax2) = plt.subplots(1, 2)\n",
    "fig.suptitle(\"Learning curve of structure model\")\n",
    "\n",
    "ax1.plot(history['accuracy'])\n",
    "ax1.set_xlabel('epoch')\n",
    "ax1.set_ylabel('accuracy')\n",
    "\n",
    "ax2.plot(history['loss'])\n",
    "ax2.set_xlabel('epoch')\n",
    "ax2.set_ylabel('loss')\n",
    "fig.tight_layout()\n",
    "fig.set_size_inches(7, 4)\n",
    "fig.savefig(f\"data/models/{MODEL_NAME}/learning_curve.png\")\n",
    "plt.show()"
   ],
   "metadata": {
    "collapsed": false
   }
  },
  {
   "cell_type": "code",
   "execution_count": 31,
   "outputs": [
    {
     "name": "stdout",
     "output_type": "stream",
     "text": [
      "Oh a shrub of played to carry \n",
      " that i was form and saying out \n",
      " to eternally galled \n",
      " as my meeting up \n",
      " you be points to his grin \n",
      " and the number that be open we became die \n",
      " i our vet when the book \n",
      " long short it repeat \n",
      " something where this which feet moon afar\n"
     ]
    }
   ],
   "source": [
    "print(generate_seq(MODEL, TOKENIZER, SEQUENCE_LENGTH, \"Oh\"))"
   ],
   "metadata": {
    "collapsed": false
   }
  },
  {
   "cell_type": "code",
   "execution_count": null,
   "outputs": [],
   "source": [],
   "metadata": {
    "collapsed": false
   }
  }
 ],
 "metadata": {
  "kernelspec": {
   "display_name": "Python 3",
   "language": "python",
   "name": "python3"
  },
  "language_info": {
   "codemirror_mode": {
    "name": "ipython",
    "version": 2
   },
   "file_extension": ".py",
   "mimetype": "text/x-python",
   "name": "python",
   "nbconvert_exporter": "python",
   "pygments_lexer": "ipython2",
   "version": "2.7.6"
  }
 },
 "nbformat": 4,
 "nbformat_minor": 0
}
