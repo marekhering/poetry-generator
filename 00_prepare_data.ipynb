{
 "cells": [
  {
   "cell_type": "code",
   "execution_count": 16,
   "outputs": [],
   "source": [
    "import typing as tp\n",
    "import requests\n",
    "import os\n",
    "from bs4 import BeautifulSoup\n",
    "\n",
    "from tqdm import tqdm\n",
    "import numpy as np\n",
    "import pandas as pd"
   ],
   "metadata": {
    "collapsed": false
   }
  },
  {
   "cell_type": "code",
   "execution_count": 40,
   "outputs": [
    {
     "name": "stderr",
     "output_type": "stream",
     "text": [
      "  5%|▍         | 11/236 [00:01<00:39,  5.64it/s]Some characters could not be decoded, and were replaced with REPLACEMENT CHARACTER.\n",
      "  9%|▉         | 21/236 [00:03<00:34,  6.18it/s]Some characters could not be decoded, and were replaced with REPLACEMENT CHARACTER.\n",
      " 50%|█████     | 118/236 [00:20<00:29,  4.01it/s]Some characters could not be decoded, and were replaced with REPLACEMENT CHARACTER.\n",
      " 73%|███████▎  | 172/236 [00:30<00:10,  6.29it/s]Some characters could not be decoded, and were replaced with REPLACEMENT CHARACTER.\n",
      " 77%|███████▋  | 182/236 [00:32<00:14,  3.61it/s]Some characters could not be decoded, and were replaced with REPLACEMENT CHARACTER.\n",
      "100%|██████████| 236/236 [00:41<00:00,  5.63it/s]"
     ]
    },
    {
     "name": "stdout",
     "output_type": "stream",
     "text": [
      "Saved 713 poems\n"
     ]
    },
    {
     "name": "stderr",
     "output_type": "stream",
     "text": [
      "\n"
     ]
    }
   ],
   "source": [
    "def mine(url, author):\n",
    "    response = requests.get(url)\n",
    "    if response.status_code == 200:\n",
    "        soup = BeautifulSoup(response.content, 'html.parser')\n",
    "        links = get_links(soup, url)\n",
    "        if not os.path.exists(author):\n",
    "            os.makedirs(author)\n",
    "\n",
    "        content = []\n",
    "        for link in tqdm(links):\n",
    "            try:\n",
    "                page = requests.get(link).content\n",
    "                poem_soup = BeautifulSoup(page, 'html.parser')\n",
    "                title, poem = get_poem(poem_soup)\n",
    "                if \"Å\" in poem:\n",
    "                    poem = poem.encode('cp1252').decode()\n",
    "\n",
    "                if \"english\" not in title and \"esperanto\" not in title and \"[en]\" not in title:\n",
    "                    poem_lines = [line.strip() for line in poem.split('\\n') if len(line.split(' ')) > 1]\n",
    "                    if len(poem_lines) % 4:\n",
    "                        continue\n",
    "                    for verse in np.array(poem_lines).reshape(-1, 4):\n",
    "                        correct_verse = '\\n'.join(verse)\n",
    "                        correct_verse = correct_verse + '\\n' if not correct_verse.endswith('\\n') else correct_verse\n",
    "                        if len(correct_verse) < 200:\n",
    "                            content.append(correct_verse)\n",
    "            except requests.exceptions.ConnectionError:\n",
    "                print(\"Failed to connect with %s.\" % link)\n",
    "        print(f\"Saved {len(content)} poems\")\n",
    "        dataframe = pd.DataFrame(content)\n",
    "        dataframe.to_csv(f\"data/poems/pl/{author}.csv\", encoding='UTF-8', index=False, header=False)\n",
    "\n",
    "\n",
    "def get_links(soup, url):\n",
    "    return [a.get('href') for a in soup.find_all('a') if a.get('href').startswith(url) and not a.get('href').startswith(f\"{url}#\")]\n",
    "\n",
    "\n",
    "def get_poem(soup):\n",
    "    title = soup.title.text\n",
    "    poem = soup.find(attrs={\"itemprop\": \"text\"}).text\n",
    "    return title, poem\n",
    "\n",
    "# mine('https://poezja.org/wz/Miron_Bialoszewski/', 'bialoszewski')\n",
    "# mine('https://poezja.org/wz/Krzysztof_Kamil_Baczynski/', 'baczynski')\n",
    "# mine('https://poezja.org/wz/Zbigniew_Herbert/', 'herbert')\n",
    "# mine('https://poezja.org/wz/Bolesław_Lesmian/', 'lesmian')\n",
    "# mine('https://poezja.org/wz/Wislawa_Szymborska/', 'szymborska')\n",
    "# mine('https://poezja.org/wz/Adam_Mickiewicz/', 'mickiewicz')\n",
    "# mine('https://poezja.org/wz/Jan_Kochanowski/', 'kochanowski')\n",
    "mine('https://poezja.org/wz/Juliusz_Slowacki/', 'slowacki')"
   ],
   "metadata": {
    "collapsed": false
   }
  },
  {
   "cell_type": "code",
   "execution_count": null,
   "outputs": [],
   "source": [
    "INPUT_FILE = \"data/poems/pl/treny.txt\"\n",
    "OUTPUT_FILE = \"data/poems/pl/treny.csv\"\n",
    "\n",
    "def load_data(path: str, excluded_start: tp.List[str]):\n",
    "    with open(path, encoding=\"UTF-8\") as f:\n",
    "        text = list(filter(lambda x: not any([x.startswith(ex) for ex in excluded_start]), f.readlines()))\n",
    "    return text\n",
    "\n",
    "TEXT = load_data(INPUT_FILE, ['#', '﻿#', '\\n', ' '])\n",
    "print(*TEXT[:20])"
   ],
   "metadata": {
    "collapsed": false
   }
  },
  {
   "cell_type": "code",
   "execution_count": 3,
   "outputs": [],
   "source": [
    "LINES_IN_VERSE = 4\n",
    "CUT_LINES = len(TEXT) % LINES_IN_VERSE\n",
    "GROUPED = [''.join(verse) for verse in np.array(TEXT[:-CUT_LINES]).reshape(-1, LINES_IN_VERSE)]\n"
   ],
   "metadata": {
    "collapsed": false
   }
  },
  {
   "cell_type": "code",
   "execution_count": 4,
   "outputs": [],
   "source": [
    "dataframe = pd.DataFrame(GROUPED)\n",
    "dataframe.to_csv(OUTPUT_FILE, encoding='utf-8', index=False, header=False)\n"
   ],
   "metadata": {
    "collapsed": false
   }
  },
  {
   "cell_type": "code",
   "execution_count": 4,
   "outputs": [],
   "source": [],
   "metadata": {
    "collapsed": false
   }
  }
 ],
 "metadata": {
  "kernelspec": {
   "display_name": "Python 3",
   "language": "python",
   "name": "python3"
  },
  "language_info": {
   "codemirror_mode": {
    "name": "ipython",
    "version": 2
   },
   "file_extension": ".py",
   "mimetype": "text/x-python",
   "name": "python",
   "nbconvert_exporter": "python",
   "pygments_lexer": "ipython2",
   "version": "2.7.6"
  }
 },
 "nbformat": 4,
 "nbformat_minor": 0
}
