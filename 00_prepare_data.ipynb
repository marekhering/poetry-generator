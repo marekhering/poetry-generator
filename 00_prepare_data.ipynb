{
 "cells": [
  {
   "cell_type": "code",
   "execution_count": 12,
   "outputs": [],
   "source": [
    "import random\n",
    "import requests\n",
    "import os\n",
    "from bs4 import BeautifulSoup\n",
    "from bs4.element import NavigableString\n",
    "\n",
    "import time\n",
    "from tqdm import tqdm\n",
    "import pandas as pd"
   ],
   "metadata": {
    "collapsed": false
   }
  },
  {
   "cell_type": "code",
   "execution_count": 4,
   "outputs": [
    {
     "name": "stderr",
     "output_type": "stream",
     "text": [
      "  3%|▎         | 16/538 [00:03<03:00,  2.89it/s]Some characters could not be decoded, and were replaced with REPLACEMENT CHARACTER.\n",
      " 17%|█▋        | 90/538 [00:17<01:13,  6.06it/s]Some characters could not be decoded, and were replaced with REPLACEMENT CHARACTER.\n",
      " 17%|█▋        | 94/538 [00:18<01:18,  5.65it/s]Some characters could not be decoded, and were replaced with REPLACEMENT CHARACTER.\n",
      " 25%|██▌       | 136/538 [00:25<00:58,  6.89it/s]Some characters could not be decoded, and were replaced with REPLACEMENT CHARACTER.\n",
      " 52%|█████▏    | 279/538 [00:52<00:41,  6.24it/s]Some characters could not be decoded, and were replaced with REPLACEMENT CHARACTER.\n",
      " 60%|██████    | 324/538 [01:01<00:48,  4.40it/s]Some characters could not be decoded, and were replaced with REPLACEMENT CHARACTER.\n",
      " 76%|███████▌  | 408/538 [01:16<00:18,  6.97it/s]Some characters could not be decoded, and were replaced with REPLACEMENT CHARACTER.\n",
      " 88%|████████▊ | 475/538 [01:29<00:09,  6.38it/s]Some characters could not be decoded, and were replaced with REPLACEMENT CHARACTER.\n",
      "100%|██████████| 538/538 [01:41<00:00,  5.29it/s]"
     ]
    },
    {
     "name": "stdout",
     "output_type": "stream",
     "text": [
      "Saved 536 poems\n"
     ]
    },
    {
     "name": "stderr",
     "output_type": "stream",
     "text": [
      "\n"
     ]
    }
   ],
   "source": [
    "def mine_poezja_org(url: str, author: str):\n",
    "    response = requests.get(url)\n",
    "    if response.status_code == 200:\n",
    "        soup = BeautifulSoup(response.content, 'html.parser')\n",
    "        links = [a.get('href') for a in soup.find_all('a') if a.get('href').startswith(url) and not a.get('href').startswith(f\"{url}#\")]\n",
    "        if not os.path.exists(author):\n",
    "            os.makedirs(author)\n",
    "\n",
    "        content = []\n",
    "        for link in tqdm(links):\n",
    "            try:\n",
    "                page = requests.get(link).content\n",
    "                poem_soup = BeautifulSoup(page, 'html.parser')\n",
    "                title = poem_soup.title.text\n",
    "                poem = poem_soup.find(attrs={\"itemprop\": \"text\"}).text\n",
    "                if \"Å\" in poem:\n",
    "                    poem = poem.encode('cp1252').decode()\n",
    "\n",
    "                if \"english\" not in title and \"esperanto\" not in title and \"[en]\" not in title:\n",
    "                    poem = '\\n'.join([line.strip() for line in poem.split('\\n') if len(line.split(' ')) > 1])\n",
    "                    lines_length = [len(line) for line in poem.split('\\n')]\n",
    "                    poem += '\\n'\n",
    "                    poem.replace(\"e\", \"e\")\n",
    "                    if max(lines_length) < 80:\n",
    "                        content.append(poem)\n",
    "\n",
    "            except requests.exceptions.ConnectionError:\n",
    "                print(\"Failed to connect with %s.\" % link)\n",
    "        dataframe = pd.DataFrame(content)\n",
    "        dataframe.to_csv(f\"data/poems/pl/{author}.csv\", encoding='UTF-8', index=False, header=False)\n",
    "\n",
    "\n",
    "# mine_poezja_org('https://poezja.org/wz/Miron_Bialoszewski/', 'bialoszewski')\n",
    "# mine_poezja_org('https://poezja.org/wz/Krzysztof_Kamil_Baczynski/', 'baczynski')\n",
    "# mine_poezja_org('https://poezja.org/wz/Zbigniew_Herbert/', 'herbert')\n",
    "# mine_poezja_org('https://poezja.org/wz/Bolesław_Lesmian/', 'lesmian')\n",
    "# mine_poezja_org('https://poezja.org/wz/Wislawa_Szymborska/', 'szymborska')\n",
    "# mine_poezja_org('https://poezja.org/wz/Adam_Mickiewicz/', 'mickiewicz')\n",
    "mine_poezja_org('https://poezja.org/wz/Jan_Kochanowski/', 'kochanowski')\n",
    "mine_poezja_org('https://poezja.org/wz/Juliusz_Slowacki/', 'slowacki')"
   ],
   "metadata": {
    "collapsed": false
   }
  },
  {
   "cell_type": "code",
   "execution_count": 16,
   "outputs": [
    {
     "name": "stderr",
     "output_type": "stream",
     "text": [
      "100%|██████████| 30/30 [03:19<00:00,  6.66s/it]\n"
     ]
    }
   ],
   "source": [
    "def mine_azlyrics(url, author, skip:int = 0, _max: int = None):\n",
    "    response = requests.get(url)\n",
    "    if response.status_code == 200:\n",
    "        soup = BeautifulSoup(response.content, 'html.parser')\n",
    "        links = [a.get('href') for a in soup.find_all('a')]\n",
    "        links = [href for href in links if href and href.startswith(\"/lyrics/\")]\n",
    "        content = []\n",
    "\n",
    "        for link in tqdm(links[skip:skip + _max] if _max else links[skip:]):\n",
    "            time.sleep(random.randint(1, 10))\n",
    "            try:\n",
    "                page = requests.get(f\"https://www.azlyrics.com{link}\").content\n",
    "                poem_soup = BeautifulSoup(page, 'html.parser')\n",
    "                divs = poem_soup.find_all('div')\n",
    "                index = divs.index(poem_soup.find(attrs={\"class\": \"ringtone\"})) + 1\n",
    "                text_lines = [str(content) for content in divs[index].contents if isinstance(content, NavigableString)][2:]\n",
    "                text_lines = [line.strip() for line in text_lines if line and line != '\\n']\n",
    "                song = '\\n'.join(text_lines) + '\\n'\n",
    "                content.append(song)\n",
    "            except requests.exceptions.ConnectionError:\n",
    "                print(\"Failed to connect with %s.\" % link)\n",
    "            dataframe = pd.DataFrame(content)\n",
    "            dataframe.to_csv(f\"data/poems/pl/{author}.csv\", encoding='UTF-8', index=False, header=False)\n",
    "\n",
    "mine_azlyrics(\"https://www.azlyrics.com/t/tacohemingway.html\", \"tacohemingway\", skip=8)\n",
    "mine_azlyrics(\"https://www.azlyrics.com/o/ostr.html\", \"ostr\", _max=30)"
   ],
   "metadata": {
    "collapsed": false
   }
  },
  {
   "cell_type": "code",
   "execution_count": 4,
   "outputs": [],
   "source": [],
   "metadata": {
    "collapsed": false
   }
  }
 ],
 "metadata": {
  "kernelspec": {
   "display_name": "Python 3",
   "language": "python",
   "name": "python3"
  },
  "language_info": {
   "codemirror_mode": {
    "name": "ipython",
    "version": 2
   },
   "file_extension": ".py",
   "mimetype": "text/x-python",
   "name": "python",
   "nbconvert_exporter": "python",
   "pygments_lexer": "ipython2",
   "version": "2.7.6"
  }
 },
 "nbformat": 4,
 "nbformat_minor": 0
}
