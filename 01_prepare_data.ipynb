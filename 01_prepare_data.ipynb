{
 "cells": [
  {
   "cell_type": "markdown",
   "metadata": {
    "collapsed": true
   },
   "source": [
    "### Download data\n",
    "\n",
    "- Download the dataset from https://www.kaggle.com/datasets/michaelarman/poemsdataset/code\n",
    "- Unpack the downloaded zip inside the './data/poems' folder\n"
   ]
  },
  {
   "cell_type": "code",
   "execution_count": null,
   "metadata": {},
   "outputs": [],
   "source": [
    "import typing as tp\n",
    "import os\n",
    "from pathlib import Path\n",
    "\n",
    "import eng_to_ipa as ipa"
   ]
  },
  {
   "cell_type": "code",
   "execution_count": null,
   "metadata": {},
   "outputs": [],
   "source": [
    "poems_path = './data/poems/forms/abc'\n",
    "output_path = './data/poems/phonetic'"
   ]
  },
  {
   "cell_type": "markdown",
   "source": [
    "### Read"
   ],
   "metadata": {
    "collapsed": false
   }
  },
  {
   "cell_type": "code",
   "execution_count": null,
   "metadata": {},
   "outputs": [],
   "source": [
    "def read_abc_poems(_filepath: str) -> tp.Dict[str, tp.List[str]]:\n",
    "    _poems = {}\n",
    "    for filename in os.listdir(_filepath)[:3]:\n",
    "        _poem = []\n",
    "        _full_path = os.path.join(_filepath, filename)\n",
    "        with open(_full_path, 'r', encoding='utf-8-sig') as f:\n",
    "            _poems[filename] = f.read().splitlines()\n",
    "    return _poems\n",
    "\n",
    "def print_poem(_poems: dict, _poem_number: int):\n",
    "    print('\\n'.join(list(_poems.values())[_poem_number]))\n",
    "\n",
    "poems_raw = read_abc_poems(poems_path)\n",
    "print_poem(poems_raw, 0)"
   ]
  },
  {
   "cell_type": "markdown",
   "source": [
    "### Prepare\n"
   ],
   "metadata": {
    "collapsed": false
   }
  },
  {
   "cell_type": "code",
   "execution_count": null,
   "metadata": {},
   "outputs": [],
   "source": [
    "def validate_line(_line: str) -> bool:\n",
    "    if _line.startswith('-') or _line.startswith('*'):\n",
    "        return False\n",
    "    return True # TODO\n",
    "\n",
    "def preprocess(_poem: tp.List[str]) -> tp.List[str]:\n",
    "    _result = []\n",
    "    for _line in _poem:\n",
    "        if validate_line(_line):\n",
    "            _line = _line.lower()\n",
    "            _result.append(_line)\n",
    "    return _result\n",
    "\n",
    "poems_processed = {title: preprocess(poem) for title, poem in poems_raw.items()}\n",
    "print_poem(poems_processed, 0)"
   ]
  },
  {
   "cell_type": "markdown",
   "source": [
    "### Convert into phonetic"
   ],
   "metadata": {
    "collapsed": false
   }
  },
  {
   "cell_type": "code",
   "execution_count": null,
   "outputs": [],
   "source": [
    "def to_ipa(_poem: tp.List[str]) -> tp.List[str]:\n",
    "    return [ipa.convert(_line) for _line in _poem]\n",
    "\n",
    "poems_phonetically = {title: to_ipa(poem) for title, poem in poems_raw.items()}\n",
    "print_poem(poems_phonetically, 0)"
   ],
   "metadata": {
    "collapsed": false
   }
  },
  {
   "cell_type": "markdown",
   "source": [
    "### Save"
   ],
   "metadata": {
    "collapsed": false
   }
  },
  {
   "cell_type": "code",
   "execution_count": null,
   "outputs": [],
   "source": [
    "def save_poems(_poems: tp.Dict[str, tp.List[str]], _output_path: str):\n",
    "    for _poem_title, _poem_text in _poems.items():\n",
    "        Path(_output_path).mkdir(parents=True, exist_ok=True)\n",
    "        _full_path = os.path.join(_output_path, _poem_title)\n",
    "        with open(_full_path, 'w', encoding='utf-8-sig') as f:\n",
    "            f.writelines('\\n'.join(_poem_text))\n",
    "    print(\"Poems saved\")\n",
    "\n",
    "save_poems(poems_phonetically, output_path)\n"
   ],
   "metadata": {
    "collapsed": false
   }
  }
 ],
 "metadata": {
  "kernelspec": {
   "display_name": "Python 3 (ipykernel)",
   "language": "python",
   "name": "python3"
  },
  "language_info": {
   "codemirror_mode": {
    "name": "ipython",
    "version": 3
   },
   "file_extension": ".py",
   "mimetype": "text/x-python",
   "name": "python",
   "nbconvert_exporter": "python",
   "pygments_lexer": "ipython3",
   "version": "3.9.13"
  }
 },
 "nbformat": 4,
 "nbformat_minor": 1
}
