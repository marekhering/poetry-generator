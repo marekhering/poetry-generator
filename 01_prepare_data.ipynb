{
 "cells": [
  {
   "cell_type": "markdown",
   "metadata": {
    "collapsed": true
   },
   "source": [
    "### Download data\n",
    "\n",
    "- Download the dataset from https://www.kaggle.com/datasets/michaelarman/poemsdataset/code\n",
    "- Unpack the downloaded zip inside the './data/poems' folder\n"
   ]
  },
  {
   "cell_type": "code",
   "execution_count": 1,
   "metadata": {},
   "outputs": [],
   "source": [
    "import typing as tp\n",
    "import os\n",
    "from pathlib import Path\n",
    "\n",
    "import eng_to_ipa as ipa"
   ]
  },
  {
   "cell_type": "code",
   "execution_count": 2,
   "metadata": {},
   "outputs": [],
   "source": [
    "poems_path = './data/poems/forms/abc'\n",
    "output_path = './data/poems/phonetic'"
   ]
  },
  {
   "cell_type": "markdown",
   "source": [
    "### Read"
   ],
   "metadata": {
    "collapsed": false,
    "pycharm": {
     "name": "#%% md\n"
    }
   }
  },
  {
   "cell_type": "code",
   "execution_count": 3,
   "metadata": {
    "pycharm": {
     "name": "#%%\n"
    }
   },
   "outputs": [
    {
     "name": "stdout",
     "output_type": "stream",
     "text": [
      "2 ABC of H.k. and China revised vision.\n",
      "Barrels tears are wines and salts.\n",
      "With a whisk on goody tails!\n",
      "Wiggle maces to fix the heads.\n",
      "Heads in jack on boxes are ceased.\n",
      "Cry to paranoid truly bosses.\n",
      "Bosses are jokers take your boys.\n",
      "Studs are bogs with fire apples.\n",
      "True predicates worth cases.’\n",
      "Descents wash in badly bands.\n",
      "Wholly sales are smart with cats.\n",
      "Who got tenth honors in China?\n",
      "Homage grand to play and plays!\n",
      "Trim the times of hearts then cry.\n",
      "Tanks in steels but voice wail.\n",
      "Bossy dragged by tails that whisked.\n",
      "Go very timid and love the wise.\n",
      "Hands are lent but laws are ends.\n",
      "Cases on courts are borrowed lands.\n",
      "Length long with treads to retch!\n",
      "Straps on times and watch here.\n",
      "Arrays tanks but all are men.\n",
      "Cross all suctions steal the ends.\n",
      "Cave on minds are cages on objects.\n",
      "Rouser rockets powers holes.\n",
      "Confine curses to stop our wounds.\n",
      "Whirl your bodies and jump on grounds.\n",
      "Crouch of soldiers after kicks with flings.\n",
      "Block one leg and hit the middle.\n",
      "Cauchy3 know the tricks to kill.\n",
      "Threaten weak oppressed ill.\n",
      "Surpass scores are bad in honors.\n",
      "Wash to think that build the homes.\n",
      "Angel sins but cauchy3 has funs.\n",
      "Make ones tools when hats are found.\n",
      "Worlds are drawers on bottom noses.\n",
      "Singular ugly piece is rose.\n",
      "Wily mores are teeth of sharks.\n",
      "Saw with tooth is laws in arts.\n",
      "Artful men power with grids.\n",
      "Bodies stamped and wills are ridden.\n",
      "Sign in forth with battles conquered.\n",
      "Triumphs on candles whip the stands.\n",
      "Soups are soaps and faiths not come.\n",
      "We are meats in balls and rice to constants.\n",
      "---Cheung Shun Sang=Cauchy3---\n"
     ]
    }
   ],
   "source": [
    "def read_abc_poems(_filepath: str) -> tp.Dict[str, tp.List[str]]:\n",
    "    _poems = {}\n",
    "    for filename in os.listdir(_filepath)[:3]:\n",
    "        _poem = []\n",
    "        _full_path = os.path.join(_filepath, filename)\n",
    "        with open(_full_path, 'r', encoding='utf-8-sig') as f:\n",
    "            _poems[filename] = f.read().splitlines()\n",
    "    return _poems\n",
    "\n",
    "def print_poem(_poems: dict, _poem_number: int):\n",
    "    print('\\n'.join(list(_poems.values())[_poem_number]))\n",
    "\n",
    "poems_raw = read_abc_poems(poems_path)\n",
    "print_poem(poems_raw, 0)"
   ]
  },
  {
   "cell_type": "markdown",
   "source": [
    "### Prepare\n"
   ],
   "metadata": {
    "collapsed": false,
    "pycharm": {
     "name": "#%% md\n"
    }
   }
  },
  {
   "cell_type": "code",
   "execution_count": 4,
   "metadata": {},
   "outputs": [
    {
     "name": "stdout",
     "output_type": "stream",
     "text": [
      "2 abc of h.k. and china revised vision.\n",
      "barrels tears are wines and salts.\n",
      "with a whisk on goody tails!\n",
      "wiggle maces to fix the heads.\n",
      "heads in jack on boxes are ceased.\n",
      "cry to paranoid truly bosses.\n",
      "bosses are jokers take your boys.\n",
      "studs are bogs with fire apples.\n",
      "true predicates worth cases.’\n",
      "descents wash in badly bands.\n",
      "wholly sales are smart with cats.\n",
      "who got tenth honors in china?\n",
      "homage grand to play and plays!\n",
      "trim the times of hearts then cry.\n",
      "tanks in steels but voice wail.\n",
      "bossy dragged by tails that whisked.\n",
      "go very timid and love the wise.\n",
      "hands are lent but laws are ends.\n",
      "cases on courts are borrowed lands.\n",
      "length long with treads to retch!\n",
      "straps on times and watch here.\n",
      "arrays tanks but all are men.\n",
      "cross all suctions steal the ends.\n",
      "cave on minds are cages on objects.\n",
      "rouser rockets powers holes.\n",
      "confine curses to stop our wounds.\n",
      "whirl your bodies and jump on grounds.\n",
      "crouch of soldiers after kicks with flings.\n",
      "block one leg and hit the middle.\n",
      "cauchy3 know the tricks to kill.\n",
      "threaten weak oppressed ill.\n",
      "surpass scores are bad in honors.\n",
      "wash to think that build the homes.\n",
      "angel sins but cauchy3 has funs.\n",
      "make ones tools when hats are found.\n",
      "worlds are drawers on bottom noses.\n",
      "singular ugly piece is rose.\n",
      "wily mores are teeth of sharks.\n",
      "saw with tooth is laws in arts.\n",
      "artful men power with grids.\n",
      "bodies stamped and wills are ridden.\n",
      "sign in forth with battles conquered.\n",
      "triumphs on candles whip the stands.\n",
      "soups are soaps and faiths not come.\n",
      "we are meats in balls and rice to constants.\n"
     ]
    }
   ],
   "source": [
    "def validate_line(_line: str) -> bool:\n",
    "    if _line.startswith('-') or _line.startswith('*'):\n",
    "        return False\n",
    "    return True # TODO\n",
    "\n",
    "def preprocess(_poem: tp.List[str]) -> tp.List[str]:\n",
    "    _result = []\n",
    "    for _line in _poem:\n",
    "        if validate_line(_line):\n",
    "            _line = _line.lower()\n",
    "            _result.append(_line)\n",
    "    return _result\n",
    "\n",
    "poems_processed = {title: preprocess(poem) for title, poem in poems_raw.items()}\n",
    "print_poem(poems_processed, 0)"
   ]
  },
  {
   "cell_type": "markdown",
   "source": [
    "### Convert into phonetic"
   ],
   "metadata": {
    "collapsed": false
   }
  },
  {
   "cell_type": "code",
   "execution_count": 5,
   "outputs": [
    {
     "name": "stdout",
     "output_type": "stream",
     "text": [
      "2 ˈeɪˌbiˌsi əv h.k*. ənd ˈʧaɪnə rɪˈvaɪzd ˈvɪʒən.\n",
      "ˈbɛrəlz tɪrz ər waɪnz ənd sɔlts.\n",
      "wɪθ ə wɪsk ɔn ˈgʊdi teɪlz!\n",
      "ˈwɪgəl maces* tɪ fɪks ðə hɛdz.\n",
      "hɛdz ɪn ʤæk ɔn ˈbɑksɪz ər sist.\n",
      "kraɪ tɪ ˈpɛrəˌnɔɪd ˈtruli ˈbɔsɪz.\n",
      "ˈbɔsɪz ər ˈʤoʊkərz teɪk jʊr bɔɪz.\n",
      "stədz ər bɔgz wɪθ faɪər ˈæpəlz.\n",
      "tru ˈprɛdɪkəts wərθ cases.’*.’\n",
      "dɪˈsɛnts wɑʃ ɪn ˈbædli bændz.\n",
      "ˈhoʊli seɪlz ər smɑrt wɪθ kæts.\n",
      "hu gɑt tɛnθ ˈɑnərz ɪn ˈʧaɪnə?\n",
      "ˈɑməʤ grænd tɪ pleɪ ənd pleɪz!\n",
      "trɪm ðə taɪmz əv hɑrts ðɛn kraɪ.\n",
      "tæŋks ɪn stilz bət vɔɪs weɪl.\n",
      "ˈbɔsi drægd baɪ teɪlz ðət wɪskt.\n",
      "goʊ ˈvɛri ˈtɪmɪd ənd ləv ðə waɪz.\n",
      "hænz ər lɛnt bət lɔz ər ɛndz.\n",
      "ˈkeɪsɪz ɔn kɔrts ər ˈbɑˌroʊd lændz.\n",
      "lɛŋθ lɔŋ wɪθ trɛdz tɪ retch*!\n",
      "stræps ɔn taɪmz ənd wɔʧ hir.\n",
      "əreɪz tæŋks bət ɔl ər mɛn.\n",
      "krɔs ɔl suctions* stil ðə ɛndz.\n",
      "keɪv ɔn maɪndz ər ˈkeɪʤɪz ɔn ˈɑbʤɛkts.\n",
      "ˈraʊzər ˈrɑkəts paʊərz hoʊlz.\n",
      "kənˈfaɪn ˈkərsɪz tɪ stɑp ɑr wundz.\n",
      "wərl jʊr ˈbɑdiz ənd ʤəmp ɔn graʊnz.\n",
      "kraʊʧ əv ˈsoʊlʤərz ˈæftər kɪks wɪθ flɪŋz.\n",
      "blɑk wən lɛg ənd hɪt ðə ˈmɪdəl.\n",
      "cauchy3* noʊ ðə trɪks tɪ kɪl.\n",
      "θˈrɛtən wik əˈprɛst ɪl.\n",
      "sərˈpæs skɔrz ər bæd ɪn ˈɑnərz.\n",
      "wɑʃ tɪ θɪŋk ðət bɪld ðə hoʊmz.\n",
      "ˈeɪnʤəl sɪnz bət cauchy3* həz fənz.\n",
      "meɪk wənz tulz wɪn hæts ər faʊnd.\n",
      "wərldz ər drɔrz ɔn ˈbɑtəm ˈnoʊzɪz.\n",
      "ˈsɪŋgjələr ˈəgli pis ɪz roʊz.\n",
      "ˈwaɪli ˈmɔˌriz ər tiθ əv ʃɑrks.\n",
      "sɔ wɪθ tuθ ɪz lɔz ɪn ɑrts.\n",
      "ˈɑrtfəl mɛn paʊər wɪθ grɪdz.\n",
      "ˈbɑdiz stæmpt ənd wɪlz ər ˈrɪdən.\n",
      "saɪn ɪn fɔrθ wɪθ ˈbætəlz ˈkɑŋkərd.\n",
      "traɪəmfs ɔn ˈkændəlz wɪp ðə stændz.\n",
      "sups ər soʊps ənd feɪθs nɑt kəm.\n",
      "wi ər mits ɪn bɔlz ənd raɪs tɪ ˈkɑnstənts.\n",
      "---ʧjuŋ ʃən sang=cauchy3*\n"
     ]
    }
   ],
   "source": [
    "def to_ipa(_poem: tp.List[str]) -> tp.List[str]:\n",
    "    return [ipa.convert(_line) for _line in _poem]\n",
    "\n",
    "poems_phonetically = {title: to_ipa(poem) for title, poem in poems_raw.items()}\n",
    "print_poem(poems_phonetically, 0)"
   ],
   "metadata": {
    "collapsed": false,
    "pycharm": {
     "name": "#%%\n"
    }
   }
  },
  {
   "cell_type": "markdown",
   "source": [
    "### Save"
   ],
   "metadata": {
    "collapsed": false
   }
  },
  {
   "cell_type": "code",
   "execution_count": 6,
   "outputs": [
    {
     "name": "stdout",
     "output_type": "stream",
     "text": [
      "Poems saved\n"
     ]
    }
   ],
   "source": [
    "def save_poems(_poems: tp.Dict[str, tp.List[str]], _output_path: str):\n",
    "    for _poem_title, _poem_text in _poems.items():\n",
    "        Path(_output_path).mkdir(parents=True, exist_ok=True)\n",
    "        _full_path = os.path.join(_output_path, _poem_title)\n",
    "        with open(_full_path, 'w', encoding='utf-8-sig') as f:\n",
    "            f.writelines('\\n'.join(_poem_text))\n",
    "    print(\"Poems saved\")\n",
    "\n",
    "save_poems(poems_phonetically, output_path)\n"
   ],
   "metadata": {
    "collapsed": false,
    "pycharm": {
     "name": "#%%\n"
    }
   }
  }
 ],
 "metadata": {
  "kernelspec": {
   "display_name": "Python 3 (ipykernel)",
   "language": "python",
   "name": "python3"
  },
  "language_info": {
   "codemirror_mode": {
    "name": "ipython",
    "version": 3
   },
   "file_extension": ".py",
   "mimetype": "text/x-python",
   "name": "python",
   "nbconvert_exporter": "python",
   "pygments_lexer": "ipython3",
   "version": "3.9.13"
  }
 },
 "nbformat": 4,
 "nbformat_minor": 1
}