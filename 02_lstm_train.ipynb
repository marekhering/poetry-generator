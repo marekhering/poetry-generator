{
 "cells": [
  {
   "cell_type": "code",
   "execution_count": 3,
   "outputs": [],
   "source": [
    "import os\n",
    "import re\n",
    "\n",
    "import numpy as np\n",
    "from matplotlib import pyplot as plt\n",
    "import keras\n",
    "from keras.utils import pad_sequences, to_categorical\n",
    "from keras.callbacks import EarlyStopping, ModelCheckpoint\n",
    "from keras.preprocessing.text import Tokenizer\n",
    "\n",
    "from models import LSTMModel"
   ],
   "metadata": {
    "collapsed": false
   }
  },
  {
   "cell_type": "code",
   "execution_count": 4,
   "outputs": [],
   "source": [
    "to_exclude = '!\"#$%&()*+-/:;<=>@[\\\\]^_`{|}~\\t'\n",
    "to_tokenize = '.,:;!?\\n'\n",
    "tokenizer = Tokenizer(filters=to_exclude)"
   ],
   "metadata": {
    "collapsed": false
   }
  },
  {
   "cell_type": "code",
   "execution_count": 5,
   "outputs": [
    {
     "name": "stdout",
     "output_type": "stream",
     "text": [
      "the burden of hard hitting .  slug away \n",
      " like honus wagner or like tyrus cobb .  \n",
      " else fandom shouteth :  \"who said you could play ?  \n",
      " back to the jasper league ,  you minor slob ! \" \n",
      " swat ,  hit ,  connect ,  line out ,  goet on the job .  \n",
      " else you shall feel the brunt of fandom's ire \n",
      " biff ,  bang it ,  clout it ,  hit it on the knob - \n",
      " this is the end of every fan's desire .  \n",
      " the burden of good pitching .  curved or straight .  \n",
      " or in or out ,  or haply up or down ,  \n",
      " to puzzle him that standeth by the plate ,  \n",
      " to lessen ,  so to speak ,  his bat-renown :  \n",
      " like christy mathewson or miner brown ,  \n",
      " so pitch that every man can but admire \n",
      " and offer you the freedom of the town - \n",
      " this is the end of every fan's desire .  \n",
      " the burden of loud cheering .  o the sounds !  \n",
      " the tumult and the shouting from the throats \n",
      " of forty thousand at the polo grounds \n",
      " sitting ,  ay ,  standing sans their hats and coats .  \n",
      " a mighty cheer that possibly denotes \n",
      " that cub or pirate fat is in the fire ;  \n",
      " or ,  as h .  james would say ,  we've got their goats - \n",
      " this is the end of every fan's desire .  \n",
      " the burden of a pennant .  o the hope ,  \n",
      " the tenuous hope ,  the hope that's half a fear ,  \n",
      " the lengthy season and the boundless dope ,  \n",
      " and the bromidic ,  \"wait until next year . \" \n",
      " o dread disgrace of trailing in the rear ,  \n",
      " o piece of bunting ,  flying high and higher \n",
      " that next october it shall flutter here :  \n",
      " this is the end of every fan's desire .  \n",
      " envoy \n",
      " ah ,  fans ,  let not the quarry but the chase \n",
      " be that to which most fondly we aspire !  \n",
      " for us not stake ,  but game ;  not goal ,  but race - \n",
      " this is the end of every fan's desire .  \n",
      "\n"
     ]
    }
   ],
   "source": [
    "poem_dir = \"data/poems/forms/ballad\"\n",
    "text = []\n",
    "for file in sorted(os.listdir(poem_dir)):\n",
    "    full_path = os.path.join(poem_dir, file)\n",
    "    with open(full_path, encoding='utf-8-sig') as f:\n",
    "        data = f.read()\n",
    "    data = re.sub(r'(['+to_tokenize+'])', r' \\1 ', data)\n",
    "    text.append(data.lower() + ' \\n')\n",
    "text = text[:5]\n",
    "print(text[0])"
   ],
   "metadata": {
    "collapsed": false
   }
  },
  {
   "cell_type": "code",
   "execution_count": 6,
   "outputs": [
    {
     "name": "stdout",
     "output_type": "stream",
     "text": [
      "791\n"
     ]
    }
   ],
   "source": [
    "tokenizer.fit_on_texts(text)\n",
    "total_words = len(tokenizer.word_index) + 1\n",
    "print(total_words)"
   ],
   "metadata": {
    "collapsed": false
   }
  },
  {
   "cell_type": "code",
   "execution_count": 7,
   "metadata": {},
   "outputs": [
    {
     "name": "stdout",
     "output_type": "stream",
     "text": [
      "[3, 23, 5, 252, 253, 6, 254, 255, 1, 33, 256, 257]\n",
      "['the', 'burden', 'of', 'hard', 'hitting', '.', '', 'slug', 'away', '\\n']\n"
     ]
    }
   ],
   "source": [
    "input_sequences = []\n",
    "max_sequence_len = 20\n",
    "\n",
    "for line in text:\n",
    "    token_list = tokenizer.texts_to_sequences([line])[0]\n",
    "    seq = []\n",
    "    for i in range(1, len(token_list)):\n",
    "        start_index = max(0, i - max_sequence_len + 1)\n",
    "        end_index = i + 1\n",
    "        n_gram_sequence = token_list[start_index:end_index]\n",
    "        seq.append(n_gram_sequence)\n",
    "    input_sequences.extend(seq)\n",
    "\n",
    "max_sequence_len = max([len(line) for line in input_sequences])\n",
    "pad_input_sequences = np.array(pad_sequences(input_sequences, maxlen=max_sequence_len, padding='pre'))\n",
    "\n",
    "print(input_sequences[10])\n",
    "print(text[0].split(' ')[:10])"
   ]
  },
  {
   "cell_type": "code",
   "execution_count": 8,
   "metadata": {},
   "outputs": [],
   "source": [
    "X, labels = pad_input_sequences[:, :-1], pad_input_sequences[:, -1]\n",
    "y = to_categorical(labels, num_classes=total_words)"
   ]
  },
  {
   "cell_type": "code",
   "execution_count": 18,
   "metadata": {},
   "outputs": [
    {
     "name": "stdout",
     "output_type": "stream",
     "text": [
      "Model: \"model\"\n",
      "_________________________________________________________________\n",
      " Layer (type)                Output Shape              Param #   \n",
      "=================================================================\n",
      " input_1 (InputLayer)        [(None, None)]            0         \n",
      "                                                                 \n",
      " embedding_1 (Embedding)     (None, None, 512)         404992    \n",
      "                                                                 \n",
      " lstm_1 (LSTM)               (None, None, 256)         787456    \n",
      "                                                                 \n",
      " attention (Attention)       (None, 791)               470528    \n",
      "                                                                 \n",
      "=================================================================\n",
      "Total params: 1,662,976\n",
      "Trainable params: 1,662,976\n",
      "Non-trainable params: 0\n",
      "_________________________________________________________________\n"
     ]
    }
   ],
   "source": [
    "model = LSTMModel().create_with_attention(total_words=total_words, output_dim=512, max_sequence_len=max_sequence_len)\n",
    "model.model.summary()"
   ]
  },
  {
   "cell_type": "code",
   "execution_count": 19,
   "outputs": [],
   "source": [
    "class PredictionCallback(keras.callbacks.Callback):\n",
    "    def on_epoch_end(self, epoch, logs=None):\n",
    "        seed = \"All ours\"\n",
    "        next_words = 20\n",
    "\n",
    "        for _ in range(next_words):\n",
    "            token_list = tokenizer.texts_to_sequences([seed])[0]\n",
    "            token_list = pad_sequences([token_list], maxlen=max_sequence_len-1, padding='pre')\n",
    "            predicted = model.predict(token_list)[0]\n",
    "            output_word = \"\"\n",
    "            for word, index in tokenizer.word_index.items():\n",
    "                if index == predicted:\n",
    "                    output_word = word\n",
    "                    break\n",
    "            seed = \" \".join([seed, output_word])\n",
    "        print('\\n', seed, '\\n')"
   ],
   "metadata": {
    "collapsed": false
   }
  },
  {
   "cell_type": "code",
   "execution_count": 20,
   "metadata": {},
   "outputs": [
    {
     "name": "stdout",
     "output_type": "stream",
     "text": [
      "Epoch 1/20\n",
      " 5/21 [======>.......................] - ETA: 1s - loss: 9.5573WARNING:tensorflow:Callback method `on_train_batch_end` is slow compared to the batch time (batch time: 0.0216s vs `on_train_batch_end` time: 0.0448s). Check your callbacks.\n",
      "20/21 [===========================>..] - ETA: 0s - loss: 7.8837\n",
      " All ours trailing trailing trailing trailing trailing trailing trailing trailing trailing trailing trailing trailing trailing trailing trailing trailing barrels barrels barrels barrels \n",
      "\n",
      "21/21 [==============================] - 5s 141ms/step - loss: 7.8723\n",
      "Epoch 2/20\n",
      "19/21 [==========================>...] - ETA: 0s - loss: 6.7298\n",
      " All ours trailing trailing trailing trailing trailing trailing trailing trailing trailing trailing trailing trailing trailing trailing trailing trailing trailing trailing trailing trailing \n",
      "\n",
      "21/21 [==============================] - 2s 114ms/step - loss: 6.7285\n",
      "Epoch 3/20\n",
      "18/21 [========================>.....] - ETA: 0s - loss: 6.7074\n",
      " All ours bloodless bloodless bloodless wake bloodless bloodless wake bloodless bloodless wake bloodless bloodless wake bloodless wake bloodless bloodless wake wearier wearier \n",
      "\n",
      "21/21 [==============================] - 2s 115ms/step - loss: 6.7117\n",
      "Epoch 4/20\n",
      "20/21 [===========================>..] - ETA: 0s - loss: 6.7391\n",
      " All ours few few few few few few few few few few few few few few few few few few few few \n",
      "\n",
      "21/21 [==============================] - 2s 117ms/step - loss: 6.7375\n",
      "Epoch 5/20\n",
      "21/21 [==============================] - ETA: 0s - loss: 6.7186\n",
      " All ours garments garments garments garments garments garments garments garments garments garments garments garments garments garments garments garments garments garments garments garments \n",
      "\n",
      "21/21 [==============================] - 3s 118ms/step - loss: 6.7186\n",
      "Epoch 6/20\n",
      "20/21 [===========================>..] - ETA: 0s - loss: 6.7329\n",
      " All ours mathewson mathewson mathewson mathewson mathewson mathewson mathewson mathewson mathewson mathewson mathewson mathewson mathewson mathewson mathewson mathewson mathewson mathewson mathewson mathewson \n",
      "\n",
      "21/21 [==============================] - 2s 119ms/step - loss: 6.7307\n",
      "Epoch 7/20\n",
      "19/21 [==========================>...] - ETA: 0s - loss: 6.7393\n",
      " All ours curved curved curved curved curved curved curved curved curved curved curved curved curved curved curved curved curved curved curved curved \n",
      "\n",
      "21/21 [==============================] - 3s 127ms/step - loss: 6.7452\n",
      "Epoch 8/20\n",
      "21/21 [==============================] - ETA: 0s - loss: 6.7605\n",
      " All ours thin thin thin thin thin thin thin thin thin thin thin thin thin thin thin thin thin thin thin thin \n",
      "\n",
      "21/21 [==============================] - 2s 123ms/step - loss: 6.7605\n",
      "Epoch 9/20\n",
      "20/21 [===========================>..] - ETA: 0s - loss: 6.7867\n",
      " All ours pitch pitch pitch pitch pitch pitch pitch pitch pitch pitch pitch pitch pitch pitch pitch pitch pitch pitch pitch pitch \n",
      "\n",
      "21/21 [==============================] - 2s 118ms/step - loss: 6.7902\n",
      "Epoch 10/20\n",
      "21/21 [==============================] - ETA: 0s - loss: 6.7875\n",
      " All ours spikenard spikenard spikenard spikenard spikenard spikenard spikenard spikenard spikenard spikenard spikenard spikenard spikenard spikenard spikenard spikenard spikenard spikenard spikenard spikenard \n",
      "\n",
      "21/21 [==============================] - 2s 113ms/step - loss: 6.7875\n",
      "Epoch 11/20\n",
      "20/21 [===========================>..] - ETA: 0s - loss: 6.8140\n",
      " All ours bought bought bought bought bought bought bought bought bought bought bought bought bought bought bought kings kneel kneel spikenard spikenard \n",
      "\n",
      "21/21 [==============================] - 2s 117ms/step - loss: 6.8119\n",
      "Epoch 12/20\n",
      "19/21 [==========================>...] - ETA: 0s - loss: 6.8037\n",
      " All ours kneel kneel kneel kneel kneel kneel kneel kneel kneel kneel kneel kneel kneel kneel kneel kneel kneel kneel kneel kneel \n",
      "\n",
      "21/21 [==============================] - 2s 113ms/step - loss: 6.8094\n",
      "Epoch 13/20\n",
      "21/21 [==============================] - ETA: 0s - loss: 6.8255\n",
      " All ours most most most most most most most most most most most most most most most most most most most most \n",
      "\n",
      "21/21 [==============================] - 2s 114ms/step - loss: 6.8255\n",
      "Epoch 14/20\n",
      "20/21 [===========================>..] - ETA: 0s - loss: 6.7465\n",
      " All ours black black black black black black black black black black black black black black black black black black black black \n",
      "\n",
      "21/21 [==============================] - 2s 118ms/step - loss: 6.7538\n",
      "Epoch 15/20\n",
      "21/21 [==============================] - ETA: 0s - loss: 11.8393\n",
      " All ours face face face face face face face face face face face face face face face face face face face face \n",
      "\n",
      "21/21 [==============================] - 2s 116ms/step - loss: 11.8393\n",
      "Epoch 16/20\n",
      "20/21 [===========================>..] - ETA: 0s - loss: 13.6849\n",
      " All ours face face face face face face face face face face face face face face face face face face face face \n",
      "\n",
      "21/21 [==============================] - 2s 114ms/step - loss: 13.6805\n",
      "Epoch 17/20\n",
      "19/21 [==========================>...] - ETA: 0s - loss: 13.6499\n",
      " All ours face face face face face face face face face face face face face face face face face face face face \n",
      "\n",
      "21/21 [==============================] - 2s 116ms/step - loss: 13.6678\n",
      "Epoch 18/20\n",
      "21/21 [==============================] - ETA: 0s - loss: 13.6638\n",
      " All ours face face face face face face face face face face face face face face face face face face face face \n",
      "\n",
      "21/21 [==============================] - 2s 121ms/step - loss: 13.6638\n",
      "Epoch 19/20\n",
      "20/21 [===========================>..] - ETA: 0s - loss: 13.6540\n",
      " All ours face face face face face face face face face face face face face face face face face face face face \n",
      "\n",
      "21/21 [==============================] - 2s 116ms/step - loss: 13.6632\n",
      "Epoch 20/20\n",
      "21/21 [==============================] - ETA: 0s - loss: 13.6735\n",
      " All ours face face face face face face face face face face face face face face face face face face face face \n",
      "\n",
      "21/21 [==============================] - 2s 114ms/step - loss: 13.6735\n"
     ]
    }
   ],
   "source": [
    "early_stopping = EarlyStopping(monitor=\"loss\", patience=3)\n",
    "model_checkpoint = ModelCheckpoint(\n",
    "    filepath=model.MODEL_CHECKPOINT,\n",
    "    save_weights_only=True,\n",
    "    save_freq=5)\n",
    "\n",
    "history = model.model.fit(\n",
    "    X, y,\n",
    "    epochs=20,\n",
    "    batch_size=128,\n",
    "    shuffle=True,\n",
    "    callbacks=[model_checkpoint, PredictionCallback()]\n",
    ")"
   ]
  },
  {
   "cell_type": "code",
   "execution_count": 12,
   "metadata": {},
   "outputs": [
    {
     "data": {
      "text/plain": "<Figure size 600x600 with 1 Axes>",
      "image/png": "[encoded data removed]"
     },
     "metadata": {},
     "output_type": "display_data"
    }
   ],
   "source": [
    "fig = plt.figure(figsize=(6, 6))\n",
    "plt.plot(history.history['accuracy'], label=\"accuracy\")\n",
    "plt.plot(history.history['loss'], label=\"loss\")\n",
    "plt.ylim((0, 1))\n",
    "plt.legend()\n",
    "plt.title('model accuracy')\n",
    "plt.xlabel('epoch')\n",
    "plt.ylabel('accuracy')\n",
    "plt.show()\n"
   ]
  },
  {
   "cell_type": "code",
   "execution_count": 13,
   "metadata": {},
   "outputs": [],
   "source": [
    "model.save()"
   ]
  },
  {
   "cell_type": "code",
   "execution_count": 14,
   "outputs": [],
   "source": [
    "model = LSTMModel().load()"
   ],
   "metadata": {
    "collapsed": false
   }
  },
  {
   "cell_type": "code",
   "execution_count": 17,
   "outputs": [
    {
     "name": "stdout",
     "output_type": "stream",
     "text": [
      "Oh down here i chance to die , \n",
      " solemnly i beg you take \n",
      " all that is left of i \n",
      " to the hills for\n"
     ]
    }
   ],
   "source": [
    "seed = \"Oh\"\n",
    "next_words = 25\n",
    "\n",
    "for _ in range(next_words):\n",
    "    token_list = tokenizer.texts_to_sequences([seed])[0]\n",
    "    token_list = pad_sequences([token_list], maxlen=max_sequence_len-1, padding='pre')\n",
    "    predicted = model.predict(token_list)[0]\n",
    "    output_word = \"\"\n",
    "    for word, index in tokenizer.word_index.items():\n",
    "        if index == predicted:\n",
    "            output_word = word\n",
    "            break\n",
    "    seed = \" \".join([seed, output_word])\n",
    "print(seed)"
   ],
   "metadata": {
    "collapsed": false
   }
  },
  {
   "cell_type": "code",
   "execution_count": null,
   "outputs": [],
   "source": [],
   "metadata": {
    "collapsed": false
   }
  }
 ],
 "metadata": {
  "kernelspec": {
   "display_name": "Python 3 (ipykernel)",
   "language": "python",
   "name": "python3"
  },
  "language_info": {
   "codemirror_mode": {
    "name": "ipython",
    "version": 3
   },
   "file_extension": ".py",
   "mimetype": "text/x-python",
   "name": "python",
   "nbconvert_exporter": "python",
   "pygments_lexer": "ipython3",
   "version": "3.9.13"
  }
 },
 "nbformat": 4,
 "nbformat_minor": 1
}
