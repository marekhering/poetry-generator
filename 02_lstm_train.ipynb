{
 "cells": [
  {
   "cell_type": "code",
   "execution_count": 20,
   "outputs": [],
   "source": [
    "import os\n",
    "import re\n",
    "\n",
    "import numpy as np\n",
    "from matplotlib import pyplot as plt\n",
    "import keras\n",
    "from keras.utils import pad_sequences, to_categorical\n",
    "from keras.callbacks import EarlyStopping, ModelCheckpoint\n",
    "from keras.preprocessing.text import Tokenizer\n",
    "\n",
    "from models import LSTMModel"
   ],
   "metadata": {
    "collapsed": false
   }
  },
  {
   "cell_type": "code",
   "execution_count": 5,
   "outputs": [],
   "source": [
    "to_exclude = '!\"#$%&()*+-/:;<=>@[\\\\]^_`{|}~\\t'\n",
    "to_tokenize = '.,:;!?\\n'\n",
    "tokenizer = Tokenizer(filters=to_exclude)"
   ],
   "metadata": {
    "collapsed": false
   }
  },
  {
   "cell_type": "code",
   "execution_count": 6,
   "outputs": [
    {
     "name": "stdout",
     "output_type": "stream",
     "text": [
      "the burden of hard hitting .  slug away \n",
      " like honus wagner or like tyrus cobb .  \n",
      " else fandom shouteth :  \"who said you could play ?  \n",
      " back to the jasper league ,  you minor slob ! \" \n",
      " swat ,  hit ,  connect ,  line out ,  goet on the job .  \n",
      " else you shall feel the brunt of fandom's ire \n",
      " biff ,  bang it ,  clout it ,  hit it on the knob - \n",
      " this is the end of every fan's desire .  \n",
      " the burden of good pitching .  curved or straight .  \n",
      " or in or out ,  or haply up or down ,  \n",
      " to puzzle him that standeth by the plate ,  \n",
      " to lessen ,  so to speak ,  his bat-renown :  \n",
      " like christy mathewson or miner brown ,  \n",
      " so pitch that every man can but admire \n",
      " and offer you the freedom of the town - \n",
      " this is the end of every fan's desire .  \n",
      " the burden of loud cheering .  o the sounds !  \n",
      " the tumult and the shouting from the throats \n",
      " of forty thousand at the polo grounds \n",
      " sitting ,  ay ,  standing sans their hats and coats .  \n",
      " a mighty cheer that possibly denotes \n",
      " that cub or pirate fat is in the fire ;  \n",
      " or ,  as h .  james would say ,  we've got their goats - \n",
      " this is the end of every fan's desire .  \n",
      " the burden of a pennant .  o the hope ,  \n",
      " the tenuous hope ,  the hope that's half a fear ,  \n",
      " the lengthy season and the boundless dope ,  \n",
      " and the bromidic ,  \"wait until next year . \" \n",
      " o dread disgrace of trailing in the rear ,  \n",
      " o piece of bunting ,  flying high and higher \n",
      " that next october it shall flutter here :  \n",
      " this is the end of every fan's desire .  \n",
      " envoy \n",
      " ah ,  fans ,  let not the quarry but the chase \n",
      " be that to which most fondly we aspire !  \n",
      " for us not stake ,  but game ;  not goal ,  but race - \n",
      " this is the end of every fan's desire . \n"
     ]
    }
   ],
   "source": [
    "poem_dir = \"data/poems/forms/ballad\"\n",
    "text = []\n",
    "for file in sorted(os.listdir(poem_dir)):\n",
    "    full_path = os.path.join(poem_dir, file)\n",
    "    with open(full_path, encoding='utf-8-sig') as f:\n",
    "        data = f.read()\n",
    "    data = re.sub(r'(['+to_tokenize+'])', r' \\1 ', data)\n",
    "    text.append(data.lower())\n",
    "print(text[0])"
   ],
   "metadata": {
    "collapsed": false
   }
  },
  {
   "cell_type": "code",
   "execution_count": 8,
   "outputs": [
    {
     "name": "stdout",
     "output_type": "stream",
     "text": [
      "8478\n"
     ]
    }
   ],
   "source": [
    "tokenizer.fit_on_texts(text)\n",
    "total_words = len(tokenizer.word_index) + 1\n",
    "print(total_words)"
   ],
   "metadata": {
    "collapsed": false
   }
  },
  {
   "cell_type": "code",
   "execution_count": 9,
   "metadata": {},
   "outputs": [
    {
     "name": "stdout",
     "output_type": "stream",
     "text": [
      "[3, 521, 6, 289, 4127, 5, 4128, 138, 1, 26, 4129, 4130]\n",
      "['the', 'burden', 'of', 'hard', 'hitting', '.', '', 'slug', 'away', '\\n']\n"
     ]
    }
   ],
   "source": [
    "input_sequences = []\n",
    "max_sequence_len = 20\n",
    "\n",
    "for line in text:\n",
    "    token_list = tokenizer.texts_to_sequences([line])[0]\n",
    "    seq = []\n",
    "    for i in range(1, len(token_list)):\n",
    "        start_index = max(0, i - max_sequence_len + 1)\n",
    "        end_index = i + 1\n",
    "        n_gram_sequence = token_list[start_index:end_index]\n",
    "        seq.append(n_gram_sequence)\n",
    "    input_sequences.extend(seq)\n",
    "\n",
    "max_sequence_len = max([len(line) for line in input_sequences])\n",
    "pad_input_sequences = np.array(pad_sequences(input_sequences, maxlen=max_sequence_len, padding='pre'))\n",
    "\n",
    "print(input_sequences[10])\n",
    "print(text[0].split(' ')[:10])"
   ]
  },
  {
   "cell_type": "code",
   "execution_count": 10,
   "metadata": {},
   "outputs": [],
   "source": [
    "X, labels = pad_input_sequences[:, :-1], pad_input_sequences[:, -1]\n",
    "y = to_categorical(labels, num_classes=total_words)"
   ]
  },
  {
   "cell_type": "code",
   "execution_count": 11,
   "metadata": {},
   "outputs": [
    {
     "name": "stdout",
     "output_type": "stream",
     "text": [
      "Metal device set to: Apple M1 Pro\n"
     ]
    },
    {
     "name": "stderr",
     "output_type": "stream",
     "text": [
      "2022-12-08 23:18:26.547898: I tensorflow/core/common_runtime/pluggable_device/pluggable_device_factory.cc:306] Could not identify NUMA node of platform GPU ID 0, defaulting to 0. Your kernel may not have been built with NUMA support.\n",
      "2022-12-08 23:18:26.548172: I tensorflow/core/common_runtime/pluggable_device/pluggable_device_factory.cc:272] Created TensorFlow device (/job:localhost/replica:0/task:0/device:GPU:0 with 0 MB memory) -> physical PluggableDevice (device: 0, name: METAL, pci bus id: <undefined>)\n"
     ]
    },
    {
     "name": "stdout",
     "output_type": "stream",
     "text": [
      "Model: \"sequential\"\n",
      "_________________________________________________________________\n",
      " Layer (type)                Output Shape              Param #   \n",
      "=================================================================\n",
      " embedding (Embedding)       (None, 19, 2048)          17362944  \n",
      "                                                                 \n",
      " bidirectional (Bidirectiona  (None, 512)              4720640   \n",
      " l)                                                              \n",
      "                                                                 \n",
      " dense (Dense)               (None, 8478)              4349214   \n",
      "                                                                 \n",
      "=================================================================\n",
      "Total params: 26,432,798\n",
      "Trainable params: 26,432,798\n",
      "Non-trainable params: 0\n",
      "_________________________________________________________________\n"
     ]
    }
   ],
   "source": [
    "model = LSTMModel().create(total_words=total_words, output_dim=2048, max_sequence_len=max_sequence_len)\n",
    "model.model.summary()"
   ]
  },
  {
   "cell_type": "code",
   "execution_count": 12,
   "outputs": [],
   "source": [
    "class PredictionCallback(keras.callbacks.Callback):\n",
    "    def on_epoch_end(self, epoch, logs=None):\n",
    "        seed = \"All ours\"\n",
    "        next_words = 20\n",
    "\n",
    "        for _ in range(next_words):\n",
    "            token_list = tokenizer.texts_to_sequences([seed])[0]\n",
    "            token_list = pad_sequences([token_list], maxlen=max_sequence_len-1, padding='pre')\n",
    "            predicted = model.predict(token_list)[0]\n",
    "            output_word = \"\"\n",
    "            for word, index in tokenizer.word_index.items():\n",
    "                if index == predicted:\n",
    "                    output_word = word\n",
    "                    break\n",
    "            seed = \" \".join([seed, output_word])\n",
    "        print('\\n', seed, '\\n')"
   ],
   "metadata": {
    "collapsed": false
   }
  },
  {
   "cell_type": "code",
   "execution_count": 13,
   "metadata": {},
   "outputs": [
    {
     "name": "stdout",
     "output_type": "stream",
     "text": [
      "Epoch 1/10\n"
     ]
    },
    {
     "name": "stderr",
     "output_type": "stream",
     "text": [
      "2022-12-08 23:18:33.281486: W tensorflow/core/platform/profile_utils/cpu_utils.cc:128] Failed to get CPU frequency: 0 Hz\n",
      "2022-12-08 23:18:34.562489: I tensorflow/core/grappler/optimizers/custom_graph_optimizer_registry.cc:114] Plugin optimizer for device_type GPU is enabled.\n",
      "2022-12-08 23:18:34.741725: I tensorflow/core/grappler/optimizers/custom_graph_optimizer_registry.cc:114] Plugin optimizer for device_type GPU is enabled.\n",
      "2022-12-08 23:18:34.760648: I tensorflow/core/grappler/optimizers/custom_graph_optimizer_registry.cc:114] Plugin optimizer for device_type GPU is enabled.\n"
     ]
    },
    {
     "name": "stdout",
     "output_type": "stream",
     "text": [
      "  1/637 [..............................] - ETA: 18:54 - loss: 9.0456 - accuracy: 0.0000e+00"
     ]
    },
    {
     "name": "stderr",
     "output_type": "stream",
     "text": [
      "2022-12-08 23:18:34.902793: I tensorflow/core/grappler/optimizers/custom_graph_optimizer_registry.cc:114] Plugin optimizer for device_type GPU is enabled.\n",
      "2022-12-08 23:18:34.920347: I tensorflow/core/grappler/optimizers/custom_graph_optimizer_registry.cc:114] Plugin optimizer for device_type GPU is enabled.\n"
     ]
    },
    {
     "name": "stdout",
     "output_type": "stream",
     "text": [
      "  6/637 [..............................] - ETA: 2:44 - loss: 8.1236 - accuracy: 0.0859WARNING:tensorflow:Callback method `on_train_batch_end` is slow compared to the batch time (batch time: 0.0667s vs `on_train_batch_end` time: 0.1654s). Check your callbacks.\n",
      "637/637 [==============================] - ETA: 0s - loss: 5.8128 - accuracy: 0.1880"
     ]
    },
    {
     "name": "stderr",
     "output_type": "stream",
     "text": [
      "2022-12-08 23:21:11.334984: I tensorflow/core/grappler/optimizers/custom_graph_optimizer_registry.cc:114] Plugin optimizer for device_type GPU is enabled.\n",
      "2022-12-08 23:21:11.389545: I tensorflow/core/grappler/optimizers/custom_graph_optimizer_registry.cc:114] Plugin optimizer for device_type GPU is enabled.\n",
      "2022-12-08 23:21:11.398986: I tensorflow/core/grappler/optimizers/custom_graph_optimizer_registry.cc:114] Plugin optimizer for device_type GPU is enabled.\n"
     ]
    },
    {
     "name": "stdout",
     "output_type": "stream",
     "text": [
      "\n",
      " All ours , \n",
      " and the little of the world , \n",
      " and the little of the world , \n",
      " and the \n",
      "\n",
      "637/637 [==============================] - 159s 247ms/step - loss: 5.8128 - accuracy: 0.1880\n",
      "Epoch 2/10\n",
      "637/637 [==============================] - ETA: 0s - loss: 4.8609 - accuracy: 0.2333\n",
      " All ours , \n",
      " and the great stern was the world \n",
      " and the great stern was the world . \n",
      " and \n",
      "\n",
      "637/637 [==============================] - 155s 243ms/step - loss: 4.8609 - accuracy: 0.2333\n",
      "Epoch 3/10\n",
      "637/637 [==============================] - ETA: 0s - loss: 3.8608 - accuracy: 0.3006\n",
      " All ours , \n",
      " and the moon is in the moon is , \n",
      " and the moon swam is in the thing \n",
      "\n",
      "637/637 [==============================] - 159s 249ms/step - loss: 3.8608 - accuracy: 0.3006\n",
      "Epoch 4/10\n",
      "637/637 [==============================] - ETA: 0s - loss: 2.9600 - accuracy: 0.3994\n",
      " All ours \n",
      " in the rolling plain , \n",
      " where the rolling plain , \n",
      " and the dockyard on him , \n",
      " \n",
      "\n",
      "637/637 [==============================] - 156s 245ms/step - loss: 2.9600 - accuracy: 0.3994\n",
      "Epoch 5/10\n",
      "637/637 [==============================] - ETA: 0s - loss: 2.3131 - accuracy: 0.4999\n",
      " All ours \n",
      " the mackerel loves the world \n",
      " the wash of the world goes in the shin \n",
      " when the world \n",
      "\n",
      "637/637 [==============================] - 157s 246ms/step - loss: 2.3131 - accuracy: 0.4999\n",
      "Epoch 6/10\n",
      "636/637 [============================>.] - ETA: 0s - loss: 1.8618 - accuracy: 0.5780\n",
      " All ours \n",
      " the mackerel loves the honourable t . \n",
      " so he was fair and the withered ferns \n",
      " to the \n",
      "\n",
      "637/637 [==============================] - 155s 244ms/step - loss: 1.8619 - accuracy: 0.5780\n",
      "Epoch 7/10\n",
      "636/637 [============================>.] - ETA: 0s - loss: 1.5751 - accuracy: 0.6322\n",
      " All ours \n",
      " the morning of the morning of dolorous of the forge \n",
      " in legend and teviotdale , \n",
      " and harco \n",
      "\n",
      "637/637 [==============================] - 155s 244ms/step - loss: 1.5751 - accuracy: 0.6322\n",
      "Epoch 8/10\n",
      "637/637 [==============================] - ETA: 0s - loss: 1.3787 - accuracy: 0.6705\n",
      " All ours \n",
      " c . w . \n",
      " now is the lion , \n",
      " and brightly flowing , \n",
      " and the stark \n",
      "\n",
      "637/637 [==============================] - 159s 248ms/step - loss: 1.3787 - accuracy: 0.6705\n",
      "Epoch 9/10\n",
      "637/637 [==============================] - ETA: 0s - loss: 1.2538 - accuracy: 0.6943\n",
      " All ours stable , \n",
      " archipiada or thais \n",
      " sometime trooper of the risen sun tried \n",
      " and the staves laid long \n",
      "\n",
      "637/637 [==============================] - 156s 245ms/step - loss: 1.2538 - accuracy: 0.6943\n",
      "Epoch 10/10\n",
      "637/637 [==============================] - ETA: 0s - loss: 1.1584 - accuracy: 0.7129\n",
      " All ours famous in twain . \n",
      " the wreath is beautiful bait \n",
      " certain tongues triggers , \n",
      " and the hangman , \n",
      "\n",
      "637/637 [==============================] - 160s 251ms/step - loss: 1.1584 - accuracy: 0.7129\n"
     ]
    }
   ],
   "source": [
    "early_stopping = EarlyStopping(monitor=\"loss\", patience=3)\n",
    "model_checkpoint = ModelCheckpoint(\n",
    "    filepath=model.MODEL_CHECKPOINT,\n",
    "    save_weights_only=True,\n",
    "    save_freq=5)\n",
    "\n",
    "history = model.model.fit(\n",
    "    X, y,\n",
    "    epochs=10,\n",
    "    batch_size=128,\n",
    "    shuffle=True,\n",
    "    callbacks=[model_checkpoint, early_stopping, PredictionCallback()]\n",
    ")"
   ]
  },
  {
   "cell_type": "code",
   "execution_count": 14,
   "metadata": {},
   "outputs": [
    {
     "data": {
      "text/plain": "<Figure size 600x600 with 1 Axes>",
      "image/png": "[encoded data removed]"
     },
     "metadata": {},
     "output_type": "display_data"
    }
   ],
   "source": [
    "fig = plt.figure(figsize=(6, 6))\n",
    "plt.plot(history.history['accuracy'], label=\"accuracy\")\n",
    "plt.plot(history.history['loss'], label=\"loss\")\n",
    "plt.ylim((0, 1))\n",
    "plt.legend()\n",
    "plt.title('model accuracy')\n",
    "plt.xlabel('epoch')\n",
    "plt.ylabel('accuracy')\n",
    "plt.show()\n"
   ]
  },
  {
   "cell_type": "code",
   "execution_count": 15,
   "metadata": {},
   "outputs": [],
   "source": [
    "model.save()"
   ]
  },
  {
   "cell_type": "code",
   "execution_count": 16,
   "outputs": [],
   "source": [
    "model = LSTMModel().load()"
   ],
   "metadata": {
    "collapsed": false
   }
  },
  {
   "cell_type": "code",
   "execution_count": 25,
   "outputs": [
    {
     "name": "stdout",
     "output_type": "stream",
     "text": [
      "Let my son of gentleness , \n",
      " and the wreath is beautiful , \n",
      " with the wash of the world , \n",
      " and hear with the floor , \n",
      " that , chewing king alfred's ears . \n",
      " and he stamped on the father of the happy town \n",
      " that is with laughter , \n",
      " that is the maid a stone to stray , \n",
      " and all their remains that watches a rain that rules , \n",
      " and burn of sweet a plough and weep \n",
      " xxix . \n",
      " to marienne god is bright with the head , \n",
      " and the solemn\n"
     ]
    }
   ],
   "source": [
    "seed = \"Let\"\n",
    "next_words = 100\n",
    "\n",
    "for _ in range(next_words):\n",
    "    token_list = tokenizer.texts_to_sequences([seed])[0]\n",
    "    token_list = pad_sequences([token_list], maxlen=max_sequence_len-1, padding='pre')\n",
    "    predicted = model.predict(token_list)[0]\n",
    "    output_word = \"\"\n",
    "    for word, index in tokenizer.word_index.items():\n",
    "        if index == predicted:\n",
    "            output_word = word\n",
    "            break\n",
    "    seed = \" \".join([seed, output_word])\n",
    "print(seed)"
   ],
   "metadata": {
    "collapsed": false
   }
  },
  {
   "cell_type": "code",
   "execution_count": null,
   "outputs": [],
   "source": [],
   "metadata": {
    "collapsed": false
   }
  }
 ],
 "metadata": {
  "kernelspec": {
   "display_name": "Python 3 (ipykernel)",
   "language": "python",
   "name": "python3"
  },
  "language_info": {
   "codemirror_mode": {
    "name": "ipython",
    "version": 3
   },
   "file_extension": ".py",
   "mimetype": "text/x-python",
   "name": "python",
   "nbconvert_exporter": "python",
   "pygments_lexer": "ipython3",
   "version": "3.9.13"
  }
 },
 "nbformat": 4,
 "nbformat_minor": 1
}
