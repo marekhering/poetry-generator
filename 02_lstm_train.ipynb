{
 "cells": [
  {
   "cell_type": "code",
   "execution_count": 28,
   "metadata": {},
   "outputs": [],
   "source": [
    "import os\n",
    "import re\n",
    "\n",
    "import numpy as np\n",
    "from matplotlib import pyplot as plt\n",
    "from keras.utils import pad_sequences, to_categorical\n",
    "from keras.preprocessing.text import Tokenizer\n",
    "\n",
    "from models import LSTMModel"
   ]
  },
  {
   "cell_type": "code",
   "execution_count": 33,
   "outputs": [],
   "source": [
    "to_exclude = '!\"#$%&()*+-/:;<=>@[\\\\]^_`{|}~\\t'\n",
    "to_tokenize = '.,:;!?'\n",
    "tokenizer = Tokenizer(filters=to_exclude)\n"
   ],
   "metadata": {
    "collapsed": false
   }
  },
  {
   "cell_type": "code",
   "execution_count": 43,
   "outputs": [
    {
     "name": "stdout",
     "output_type": "stream",
     "text": [
      "['2 abc of h . k .  and china revised vision . \\n', 'barrels tears are wines and salts . \\n', 'with a whisk on goody tails ! \\n', 'wiggle maces to fix the heads . \\n', 'heads in jack on boxes are ceased . \\n', 'cry to paranoid truly bosses . \\n', 'bosses are jokers take your boys . \\n', 'studs are bogs with fire apples . \\n', 'true predicates worth cases . ’\\n', 'descents wash in badly bands . \\n']\n"
     ]
    }
   ],
   "source": [
    "poem_dir = \"data/poems/forms/abc\"\n",
    "text = []\n",
    "for file in os.listdir(poem_dir):\n",
    "    full_path = os.path.join(poem_dir, file)\n",
    "    with open(full_path, encoding='utf-8-sig') as f:\n",
    "        data = f.read()\n",
    "    data = re.sub(r'(['+to_tokenize+'])', r' \\1 ', data)\n",
    "    data = data.replace('\\n', '\\n!stop!')\n",
    "    text.extend(data.lower().split('!stop!'))\n",
    "\n",
    "print(text[:10])"
   ],
   "metadata": {
    "collapsed": false
   }
  },
  {
   "cell_type": "code",
   "execution_count": 44,
   "outputs": [
    {
     "name": "stdout",
     "output_type": "stream",
     "text": [
      "6828\n"
     ]
    }
   ],
   "source": [
    "tokenizer.fit_on_texts(text)\n",
    "total_words = len(tokenizer.word_index) + 1\n",
    "print(total_words)"
   ],
   "metadata": {
    "collapsed": false
   }
  },
  {
   "cell_type": "code",
   "execution_count": 53,
   "metadata": {},
   "outputs": [
    {
     "name": "stdout",
     "output_type": "stream",
     "text": [
      "[898, 67]\n",
      "2 abc of h . k .  and china revised vision . \n",
      "\n"
     ]
    }
   ],
   "source": [
    "input_sequences = []\n",
    "for line in text:\n",
    "    token_list = tokenizer.texts_to_sequences([line])[0]\n",
    "    # print(token_list)\n",
    "    seq = []\n",
    "    for i in range(1, len(token_list)):\n",
    "        n_gram_sequence = token_list[:i+1]\n",
    "        seq.append(n_gram_sequence)\n",
    "    input_sequences.extend(seq)\n",
    "\n",
    "\n",
    "print(input_sequences[0])\n",
    "print(text[0])"
   ]
  },
  {
   "cell_type": "code",
   "execution_count": 54,
   "metadata": {},
   "outputs": [],
   "source": [
    "max_sequence_len = max([len(x) for x in input_sequences])\n",
    "pad_input_sequences = np.array(pad_sequences(input_sequences, maxlen=max_sequence_len, padding='pre'))"
   ]
  },
  {
   "cell_type": "code",
   "execution_count": 55,
   "metadata": {},
   "outputs": [],
   "source": [
    "X, labels = pad_input_sequences[:, :-1], pad_input_sequences[:, -1]\n",
    "y = to_categorical(labels, num_classes=total_words)"
   ]
  },
  {
   "cell_type": "code",
   "execution_count": 57,
   "metadata": {},
   "outputs": [],
   "source": [
    "model = LSTMModel(total_words=total_words, max_sequence_len=max_sequence_len, load=False)"
   ]
  },
  {
   "cell_type": "code",
   "execution_count": null,
   "metadata": {
    "pycharm": {
     "is_executing": true
    }
   },
   "outputs": [
    {
     "name": "stdout",
     "output_type": "stream",
     "text": [
      "Epoch 1/1000\n",
      "277/277 [==============================] - 47s 171ms/step - loss: 6.8191 - accuracy: 0.0730\n",
      "Epoch 2/1000\n",
      "277/277 [==============================] - 47s 171ms/step - loss: 6.4118 - accuracy: 0.0922\n",
      "Epoch 3/1000\n",
      "277/277 [==============================] - 48s 172ms/step - loss: 6.1959 - accuracy: 0.0980\n",
      "Epoch 4/1000\n",
      "277/277 [==============================] - 47s 171ms/step - loss: 6.0123 - accuracy: 0.1046\n",
      "Epoch 5/1000\n",
      "277/277 [==============================] - 48s 172ms/step - loss: 5.8611 - accuracy: 0.1090\n",
      "Epoch 6/1000\n",
      "277/277 [==============================] - 47s 170ms/step - loss: 5.7061 - accuracy: 0.1121\n",
      "Epoch 7/1000\n",
      "  2/277 [..............................] - ETA: 15s - loss: 5.6183 - accuracy: 0.1016"
     ]
    }
   ],
   "source": [
    "history = model.train(X, y, epochs=1000, batch_size=64)"
   ]
  },
  {
   "cell_type": "code",
   "execution_count": null,
   "metadata": {},
   "outputs": [],
   "source": [
    "fig = plt.figure(figsize=(6, 6))\n",
    "plt.plot((history.history['accuracy']))\n",
    "plt.title('model accuracy')\n",
    "plt.xlabel('epoch')\n",
    "plt.ylabel('accuracy')\n",
    "plt.show()\n"
   ]
  },
  {
   "cell_type": "code",
   "execution_count": null,
   "metadata": {},
   "outputs": [],
   "source": [
    "model.save()\n"
   ]
  },
  {
   "cell_type": "code",
   "execution_count": null,
   "outputs": [],
   "source": [
    "seed = \"Oh dear\"\n",
    "next_words = 40\n",
    "\n",
    "for _ in range(next_words):\n",
    "    token_list = tokenizer.texts_to_sequences([seed])[0]\n",
    "    token_list = pad_sequences([token_list], maxlen=max_sequence_len-1, padding='pre')\n",
    "    predicted = model.predict(token_list)[0]\n",
    "    output_word = \"\"\n",
    "    for word, index in tokenizer.word_index.items():\n",
    "        if index == predicted:\n",
    "            output_word = word\n",
    "            break\n",
    "    # output_word = tokenizer.word_index[predicted]\n",
    "    seed = \" \".join([seed, output_word])\n",
    "print(seed)"
   ],
   "metadata": {
    "collapsed": false
   }
  }
 ],
 "metadata": {
  "kernelspec": {
   "display_name": "Python 3 (ipykernel)",
   "language": "python",
   "name": "python3"
  },
  "language_info": {
   "codemirror_mode": {
    "name": "ipython",
    "version": 3
   },
   "file_extension": ".py",
   "mimetype": "text/x-python",
   "name": "python",
   "nbconvert_exporter": "python",
   "pygments_lexer": "ipython3",
   "version": "3.9.13"
  }
 },
 "nbformat": 4,
 "nbformat_minor": 1
}
