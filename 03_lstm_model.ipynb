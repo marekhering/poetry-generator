{
 "cells": [
  {
   "cell_type": "code",
   "execution_count": 33,
   "metadata": {
    "collapsed": true
   },
   "outputs": [],
   "source": [
    "import csv\n",
    "import typing as tp\n",
    "import re\n",
    "from collections import defaultdict\n",
    "\n",
    "import numpy as np\n",
    "import keras\n",
    "import keras.layers\n",
    "import keras.optimizers\n",
    "import keras.callbacks\n",
    "\n",
    "from tqdm import tqdm\n",
    "from matplotlib import pyplot as plt\n",
    "from keras.utils import pad_sequences, to_categorical\n",
    "from keras.preprocessing.text import Tokenizer\n",
    "\n",
    "import pickle"
   ]
  },
  {
   "cell_type": "code",
   "execution_count": 2,
   "outputs": [],
   "source": [
    "TO_EXCLUDE = '!\"#$%&()*+-/:;<=>@[\\\\]^_`{|}~.,:;!?\\t'\n",
    "TO_TOKENIZE = '\\n'"
   ],
   "metadata": {
    "collapsed": false
   }
  },
  {
   "cell_type": "code",
   "execution_count": 38,
   "outputs": [
    {
     "name": "stderr",
     "output_type": "stream",
     "text": [
      "100%|██████████| 1000/1000 [00:00<00:00, 66670.44it/s]"
     ]
    },
    {
     "name": "stdout",
     "output_type": "stream",
     "text": [
      "cap'n jack was washed over the side \n",
      " his crew searched but found not hair nor hide \n",
      " no longer the helm \n",
      " but the deep benthic realm \n",
      " is where jack will forever reside \n",
      "  ablactation to wean off the breast \n",
      " should wait 'til age 2 this is best \n",
      " though some men never quit \n",
      " bet you thought i'd rhyme tit \n",
      " because they're mammarially obsessed \n",
      "  as a soup bisque is best when served hot \n",
      " made with lobster it hits the right spot \n",
      " i think it tastes dreamy \n",
      " it's so rich and creamy \n",
      " it's the soup you'd be served on a yacht \n",
      " \n"
     ]
    },
    {
     "name": "stderr",
     "output_type": "stream",
     "text": [
      "\n"
     ]
    }
   ],
   "source": [
    "def load_data(file, include: str, exclude: str, size: int = None):\n",
    "    _text =  []\n",
    "    with open(file) as f:\n",
    "        data = csv.reader(f)\n",
    "        for verse, *_ in tqdm(list(data)[:size] if size is not None else list(data)):\n",
    "            # Separate characters that we want to tokenize\n",
    "            correct_verse = re.sub(r'(['+include+'])', r' \\1 ', verse)\n",
    "            # Exclude characters that we do not want to tokenize\n",
    "            correct_verse = correct_verse.translate(str.maketrans('', '', exclude))\n",
    "            _text.append(correct_verse.lower() + ' \\n')\n",
    "    return _text\n",
    "\n",
    "TEXT = load_data('data/poems/limericks.csv', TO_TOKENIZE, TO_EXCLUDE, 1000)\n",
    "print(*TEXT[:3])"
   ],
   "metadata": {
    "collapsed": false
   }
  },
  {
   "cell_type": "code",
   "execution_count": 39,
   "outputs": [
    {
     "name": "stdout",
     "output_type": "stream",
     "text": [
      "7609\n"
     ]
    }
   ],
   "source": [
    "TOKENIZER = Tokenizer(filters=TO_EXCLUDE)\n",
    "TOKENIZER.fit_on_texts(TEXT)\n",
    "TOTAL_WORDS = len(TOKENIZER.word_index) + 1\n",
    "print(TOTAL_WORDS)"
   ],
   "metadata": {
    "collapsed": false
   }
  },
  {
   "cell_type": "code",
   "execution_count": 40,
   "outputs": [
    {
     "name": "stderr",
     "output_type": "stream",
     "text": [
      "100%|██████████| 1000/1000 [00:00<00:00, 22331.51it/s]"
     ]
    },
    {
     "name": "stdout",
     "output_type": "stream",
     "text": [
      "Total Sequences: 33262\n"
     ]
    },
    {
     "name": "stderr",
     "output_type": "stream",
     "text": [
      "\n"
     ]
    }
   ],
   "source": [
    "def create_sequences(text, tokenizer):\n",
    "    sequences = list()\n",
    "    for verse in tqdm(text):\n",
    "        # for line in verse.strip().split('\\n'):\n",
    "        encoded = tokenizer.texts_to_sequences([verse])[0]\n",
    "        for i in range(1, len(encoded)):\n",
    "            sequence = encoded[:i+1]\n",
    "            sequences.append(sequence)\n",
    "    return sequences\n",
    "\n",
    "SEQUENCES = create_sequences(TEXT, TOKENIZER)\n",
    "print(f\"Total Sequences: {len(SEQUENCES)}\")"
   ],
   "metadata": {
    "collapsed": false
   }
  },
  {
   "cell_type": "code",
   "execution_count": 41,
   "outputs": [
    {
     "name": "stdout",
     "output_type": "stream",
     "text": [
      "Max Sequence Length: 43\n"
     ]
    }
   ],
   "source": [
    "SEQUENCE_LENGTH = max([len(seq) for seq in SEQUENCES])\n",
    "ENCODED_SEQUENCES = pad_sequences(SEQUENCES, maxlen=SEQUENCE_LENGTH, padding='pre')\n",
    "X, y = ENCODED_SEQUENCES[:,:-1], to_categorical(ENCODED_SEQUENCES[:,-1], num_classes=TOTAL_WORDS)\n",
    "print(f'Max Sequence Length: {SEQUENCE_LENGTH}')"
   ],
   "metadata": {
    "collapsed": false
   }
  },
  {
   "cell_type": "code",
   "execution_count": 42,
   "outputs": [
    {
     "name": "stdout",
     "output_type": "stream",
     "text": [
      "WARNING:tensorflow:Layer lstm_6 will not use cuDNN kernels since it doesn't meet the criteria. It will use a generic GPU kernel as fallback when running on GPU.\n",
      "WARNING:tensorflow:Layer lstm_7 will not use cuDNN kernels since it doesn't meet the criteria. It will use a generic GPU kernel as fallback when running on GPU.\n",
      "Model: \"sequential_4\"\n",
      "_________________________________________________________________\n",
      " Layer (type)                Output Shape              Param #   \n",
      "=================================================================\n",
      " embedding_4 (Embedding)     (None, 42, 16)            121744    \n",
      "                                                                 \n",
      " lstm_6 (LSTM)               (None, 42, 128)           74240     \n",
      "                                                                 \n",
      " lstm_7 (LSTM)               (None, 64)                49408     \n",
      "                                                                 \n",
      " dense_3 (Dense)             (None, 7609)              494585    \n",
      "                                                                 \n",
      "=================================================================\n",
      "Total params: 739,977\n",
      "Trainable params: 739,977\n",
      "Non-trainable params: 0\n",
      "_________________________________________________________________\n",
      "None\n"
     ]
    }
   ],
   "source": [
    "def create_model(total_words: int, sequence_length: int):\n",
    "    # define model\n",
    "    model = keras.models.Sequential()\n",
    "    model.add(keras.layers.Embedding(total_words, 16, input_length=sequence_length - 1))\n",
    "    model.add(keras.layers.LSTM(128, return_sequences=True, activation='relu'))\n",
    "    model.add(keras.layers.LSTM(64, activation='relu'))\n",
    "    model.add(keras.layers.Dense(total_words, activation='softmax'))\n",
    "    model.compile(loss='categorical_crossentropy', optimizer='adam', metrics=['accuracy'])\n",
    "    return model\n",
    "\n",
    "MODEL_NAME = \"LSTMModel2\"\n",
    "MODEL_PATH = f\"data/models/{MODEL_NAME}/weights.h5\"\n",
    "# MODEL = keras.models.load_model(MODEL_PATH)\n",
    "MODEL = create_model(TOTAL_WORDS, SEQUENCE_LENGTH)\n",
    "print(MODEL.summary())"
   ],
   "metadata": {
    "collapsed": false
   }
  },
  {
   "cell_type": "code",
   "execution_count": 29,
   "outputs": [],
   "source": [
    "REVERSE_TOKEN_INDEX = {v: k for k, v in TOKENIZER.word_index.items()}\n",
    "\n",
    "def generate_seq(model: keras.Model, tokenizer: Tokenizer, sequence_length: int, in_text: str, max_words: int = 60):\n",
    "    for _ in range(max_words):\n",
    "        encoded = tokenizer.texts_to_sequences([in_text])[0]\n",
    "        encoded = pad_sequences([encoded], maxlen=sequence_length - 1, padding='pre')\n",
    "        predicted = np.argmax(model.predict(encoded, verbose=0))\n",
    "        out_word = REVERSE_TOKEN_INDEX.get(predicted, None)\n",
    "        in_text += ' ' + out_word\n",
    "        if in_text.endswith('\\n \\n'):\n",
    "            break\n",
    "    return in_text\n"
   ],
   "metadata": {
    "collapsed": false
   }
  },
  {
   "cell_type": "code",
   "execution_count": 18,
   "outputs": [],
   "source": [
    "def create_callbacks():\n",
    "    callbacks = []\n",
    "\n",
    "    class PredictionCallback(keras.callbacks.Callback):\n",
    "        def on_epoch_end(self, epoch, logs=None):\n",
    "            frequency = 5\n",
    "            if epoch % frequency == 0:\n",
    "                seq = generate_seq(MODEL, TOKENIZER, SEQUENCE_LENGTH, \"As a soup\", 20)\n",
    "                print(f\"\\n{seq}\")\n",
    "\n",
    "    callbacks.append(PredictionCallback())\n",
    "    callbacks.append(keras.callbacks.EarlyStopping(monitor=\"loss\", patience=3))\n",
    "    callbacks.append(keras.callbacks.ModelCheckpoint(\n",
    "        filepath=f\"data/models/{MODEL_NAME}/checkpoint\",\n",
    "        save_weights_only=True,\n",
    "        save_freq=5\n",
    "    ))\n",
    "    return callbacks\n"
   ],
   "metadata": {
    "collapsed": false
   }
  },
  {
   "cell_type": "code",
   "execution_count": 19,
   "outputs": [
    {
     "name": "stdout",
     "output_type": "stream",
     "text": [
      "Epoch 1/100\n",
      "268/268 [==============================] - ETA: 0s - loss: 7.6795 - accuracy: 0.1413\n",
      "As a soup \n",
      " \n",
      " \n",
      " \n",
      " \n",
      " \n",
      " \n",
      " \n",
      " \n",
      " \n",
      " \n",
      " \n",
      " \n",
      " \n",
      " \n",
      " \n",
      " \n",
      " \n",
      " \n",
      " \n",
      "\n",
      "268/268 [==============================] - 138s 507ms/step - loss: 7.6795 - accuracy: 0.1413\n",
      "Epoch 2/100\n",
      "268/268 [==============================] - 132s 494ms/step - loss: 6.4369 - accuracy: 0.1751\n",
      "Epoch 3/100\n",
      "268/268 [==============================] - 132s 494ms/step - loss: 6.3970 - accuracy: 0.1751\n",
      "Epoch 4/100\n",
      "268/268 [==============================] - 133s 495ms/step - loss: 6.3772 - accuracy: 0.1751\n",
      "Epoch 5/100\n",
      "268/268 [==============================] - 135s 504ms/step - loss: 6.3659 - accuracy: 0.1751\n",
      "Epoch 6/100\n",
      "268/268 [==============================] - ETA: 0s - loss: 6.3606 - accuracy: 0.1751\n",
      "As a soup \n",
      " \n",
      " \n",
      " \n",
      " \n",
      " \n",
      " \n",
      " \n",
      " \n",
      " \n",
      " \n",
      " \n",
      " \n",
      " \n",
      " \n",
      " \n",
      " \n",
      " \n",
      " \n",
      " \n",
      "\n",
      "268/268 [==============================] - 134s 502ms/step - loss: 6.3606 - accuracy: 0.1751\n",
      "Epoch 7/100\n",
      "268/268 [==============================] - 133s 495ms/step - loss: 6.3456 - accuracy: 0.1751\n",
      "Epoch 8/100\n",
      "268/268 [==============================] - 129s 481ms/step - loss: 6.3240 - accuracy: 0.1751\n",
      "Epoch 9/100\n",
      "268/268 [==============================] - 130s 486ms/step - loss: 6.2829 - accuracy: 0.1751\n",
      "Epoch 10/100\n",
      "268/268 [==============================] - 129s 482ms/step - loss: 6.1974 - accuracy: 0.1752\n",
      "Epoch 11/100\n",
      "268/268 [==============================] - ETA: 0s - loss: 6.0698 - accuracy: 0.1891\n",
      "As a soup \n",
      " the the the the the the \n",
      " the the the the \n",
      " the the the \n",
      " the the the\n",
      "268/268 [==============================] - 132s 492ms/step - loss: 6.0698 - accuracy: 0.1891\n",
      "Epoch 12/100\n",
      "268/268 [==============================] - 130s 486ms/step - loss: 5.8571 - accuracy: 0.2020\n",
      "Epoch 13/100\n",
      "268/268 [==============================] - 129s 481ms/step - loss: 5.7086 - accuracy: 0.2063\n",
      "Epoch 14/100\n",
      "268/268 [==============================] - 130s 484ms/step - loss: 5.5500 - accuracy: 0.2095\n",
      "Epoch 15/100\n",
      "268/268 [==============================] - 129s 481ms/step - loss: 5.3972 - accuracy: 0.2128\n",
      "Epoch 16/100\n",
      "268/268 [==============================] - ETA: 0s - loss: 5.2531 - accuracy: 0.2150\n",
      "As a soup the the the the a a a a a \n",
      " a a a a the the \n",
      " to the the\n",
      "268/268 [==============================] - 131s 491ms/step - loss: 5.2531 - accuracy: 0.2150\n",
      "Epoch 17/100\n",
      "268/268 [==============================] - 130s 484ms/step - loss: 5.1139 - accuracy: 0.2170\n",
      "Epoch 18/100\n",
      "268/268 [==============================] - 131s 489ms/step - loss: 4.9822 - accuracy: 0.2194\n",
      "Epoch 19/100\n",
      "268/268 [==============================] - 131s 489ms/step - loss: 4.8598 - accuracy: 0.2202\n",
      "Epoch 20/100\n",
      "268/268 [==============================] - 131s 489ms/step - loss: 4.7392 - accuracy: 0.2217\n",
      "Epoch 21/100\n",
      "268/268 [==============================] - ETA: 0s - loss: 4.6086 - accuracy: 0.2230\n",
      "As a soup of a not a be \n",
      " a a heard a a \n",
      " a a a white \n",
      " and the sleek\n",
      "268/268 [==============================] - 133s 497ms/step - loss: 4.6086 - accuracy: 0.2230\n",
      "Epoch 22/100\n",
      "268/268 [==============================] - 131s 487ms/step - loss: 4.4750 - accuracy: 0.2261\n",
      "Epoch 23/100\n",
      "268/268 [==============================] - 129s 483ms/step - loss: 4.3460 - accuracy: 0.2279\n",
      "Epoch 24/100\n",
      "268/268 [==============================] - 129s 482ms/step - loss: 4.2044 - accuracy: 0.2318\n",
      "Epoch 25/100\n",
      "268/268 [==============================] - 129s 481ms/step - loss: 4.0616 - accuracy: 0.2412\n",
      "Epoch 26/100\n",
      "268/268 [==============================] - ETA: 0s - loss: 3.9491 - accuracy: 0.2495\n",
      "As a soup that a seen \n",
      " the rump parliament's disdainful \n",
      " to components and consistent dead \n",
      " and primary absolution \n",
      " with\n",
      "268/268 [==============================] - 131s 490ms/step - loss: 3.9491 - accuracy: 0.2495\n",
      "Epoch 27/100\n",
      "268/268 [==============================] - 130s 485ms/step - loss: 3.8117 - accuracy: 0.2637\n",
      "Epoch 28/100\n",
      "268/268 [==============================] - 130s 485ms/step - loss: 3.6943 - accuracy: 0.2766\n",
      "Epoch 29/100\n",
      "268/268 [==============================] - 129s 482ms/step - loss: 3.5767 - accuracy: 0.2903\n",
      "Epoch 30/100\n",
      "268/268 [==============================] - 130s 486ms/step - loss: 3.4728 - accuracy: 0.3077\n",
      "Epoch 31/100\n",
      "268/268 [==============================] - ETA: 0s - loss: 3.3672 - accuracy: 0.3215\n",
      "As a soup is a seen \n",
      " the conjecture bottles to vinegar fly \n",
      " it dineric division \n",
      " and wait 'marry and churning\n",
      "268/268 [==============================] - 131s 491ms/step - loss: 3.3672 - accuracy: 0.3215\n",
      "Epoch 32/100\n",
      "268/268 [==============================] - 129s 483ms/step - loss: 3.2598 - accuracy: 0.3393\n",
      "Epoch 33/100\n",
      "268/268 [==============================] - 136s 507ms/step - loss: 3.1615 - accuracy: 0.3519\n",
      "Epoch 34/100\n",
      "268/268 [==============================] - 133s 496ms/step - loss: 3.0618 - accuracy: 0.3667\n",
      "Epoch 35/100\n",
      "268/268 [==============================] - 134s 499ms/step - loss: 2.9682 - accuracy: 0.3827\n",
      "Epoch 36/100\n",
      "268/268 [==============================] - ETA: 0s - loss: 2.9054 - accuracy: 0.3912\n",
      "As a soup of a john rogue \n",
      " inundation abundance arrayed \n",
      " on the onslaught not the trickle \n",
      " and just write and\n",
      "268/268 [==============================] - 147s 547ms/step - loss: 2.9054 - accuracy: 0.3912\n",
      "Epoch 37/100\n",
      "268/268 [==============================] - 133s 495ms/step - loss: 2.8168 - accuracy: 0.4068\n",
      "Epoch 38/100\n",
      "268/268 [==============================] - 133s 496ms/step - loss: 2.7435 - accuracy: 0.4175\n",
      "Epoch 39/100\n",
      "268/268 [==============================] - 133s 495ms/step - loss: 2.6820 - accuracy: 0.4249\n",
      "Epoch 40/100\n",
      "268/268 [==============================] - 133s 495ms/step - loss: 2.6267 - accuracy: 0.4356\n",
      "Epoch 41/100\n",
      "268/268 [==============================] - ETA: 0s - loss: 2.5594 - accuracy: 0.4466\n",
      "As a soup that new wouldn't \n",
      " shut perpetual war and daresay \n",
      " but donated thought \n",
      " and the tightly affair \n",
      " growing\n",
      "268/268 [==============================] - 135s 502ms/step - loss: 2.5594 - accuracy: 0.4466\n",
      "Epoch 42/100\n",
      "268/268 [==============================] - 132s 494ms/step - loss: 2.5052 - accuracy: 0.4555\n",
      "Epoch 43/100\n",
      "268/268 [==============================] - 130s 486ms/step - loss: 2.4509 - accuracy: 0.4645\n",
      "Epoch 44/100\n",
      "268/268 [==============================] - 130s 484ms/step - loss: 2.4065 - accuracy: 0.4719\n",
      "Epoch 45/100\n",
      "268/268 [==============================] - 131s 489ms/step - loss: 2.3722 - accuracy: 0.4760\n",
      "Epoch 46/100\n",
      "268/268 [==============================] - ETA: 0s - loss: 2.3241 - accuracy: 0.4871\n",
      "As a soup of new cause and started \n",
      " injustice stenographer life low anything done \n",
      " 'til you're book and groans \n",
      " so\n",
      "268/268 [==============================] - 133s 495ms/step - loss: 2.3241 - accuracy: 0.4871\n",
      "Epoch 47/100\n",
      "268/268 [==============================] - 130s 485ms/step - loss: 2.2836 - accuracy: 0.4897\n",
      "Epoch 48/100\n",
      "268/268 [==============================] - 130s 485ms/step - loss: 2.2274 - accuracy: 0.5008\n",
      "Epoch 49/100\n",
      "268/268 [==============================] - 130s 486ms/step - loss: 2.1880 - accuracy: 0.5108\n",
      "Epoch 50/100\n",
      "268/268 [==============================] - 130s 484ms/step - loss: 2.1565 - accuracy: 0.5144\n",
      "Epoch 51/100\n",
      "268/268 [==============================] - ETA: 0s - loss: 2.1321 - accuracy: 0.5160\n",
      "As a soup of new cause and depicts \n",
      " fighting serve to define i'd demand \n",
      " with the magical two filler \n",
      " we'll\n",
      "268/268 [==============================] - 131s 490ms/step - loss: 2.1321 - accuracy: 0.5160\n",
      "Epoch 52/100\n",
      "268/268 [==============================] - 130s 484ms/step - loss: 2.0925 - accuracy: 0.5248\n",
      "Epoch 53/100\n",
      "268/268 [==============================] - 130s 487ms/step - loss: 2.0715 - accuracy: 0.5272\n",
      "Epoch 54/100\n",
      "268/268 [==============================] - 130s 483ms/step - loss: 2.0334 - accuracy: 0.5348\n",
      "Epoch 55/100\n",
      "268/268 [==============================] - 130s 486ms/step - loss: 2.0043 - accuracy: 0.5397\n",
      "Epoch 56/100\n",
      "268/268 [==============================] - ETA: 0s - loss: 1.9795 - accuracy: 0.5426\n",
      "As a soup that new can't blues up the door \n",
      " but a father who's helps to rise \n",
      " if the canopy bits\n",
      "268/268 [==============================] - 131s 490ms/step - loss: 1.9795 - accuracy: 0.5426\n",
      "Epoch 57/100\n",
      "268/268 [==============================] - 130s 486ms/step - loss: 1.9442 - accuracy: 0.5494\n",
      "Epoch 58/100\n",
      "268/268 [==============================] - 130s 486ms/step - loss: 1.9296 - accuracy: 0.5504\n",
      "Epoch 59/100\n",
      "268/268 [==============================] - 130s 484ms/step - loss: 1.9062 - accuracy: 0.5555\n",
      "Epoch 60/100\n",
      "268/268 [==============================] - 131s 487ms/step - loss: 1.8812 - accuracy: 0.5602\n",
      "Epoch 61/100\n",
      "268/268 [==============================] - ETA: 0s - loss: 1.8555 - accuracy: 0.5651\n",
      "As a soup that stuck on the bell \n",
      " started sentiment mindful devotion \n",
      " but rational thought \n",
      " helps the judge starts \n",
      "\n",
      "268/268 [==============================] - 131s 490ms/step - loss: 1.8555 - accuracy: 0.5651\n",
      "Epoch 62/100\n",
      "268/268 [==============================] - 130s 487ms/step - loss: 1.8428 - accuracy: 0.5657\n",
      "Epoch 63/100\n",
      "268/268 [==============================] - 129s 482ms/step - loss: 1.8033 - accuracy: 0.5735\n",
      "Epoch 64/100\n",
      "268/268 [==============================] - 129s 482ms/step - loss: 1.7842 - accuracy: 0.5778\n",
      "Epoch 65/100\n",
      "268/268 [==============================] - 131s 487ms/step - loss: 1.7693 - accuracy: 0.5803\n",
      "Epoch 66/100\n",
      "268/268 [==============================] - ETA: 0s - loss: 1.7480 - accuracy: 0.5843\n",
      "As a soup bisque is side to basher \n",
      " they the clock displayed in the team \n",
      " with the soft i'd filler \n",
      "\n",
      "268/268 [==============================] - 132s 491ms/step - loss: 1.7480 - accuracy: 0.5843\n",
      "Epoch 67/100\n",
      "268/268 [==============================] - 130s 484ms/step - loss: 1.7442 - accuracy: 0.5817\n",
      "Epoch 68/100\n",
      "268/268 [==============================] - 130s 484ms/step - loss: 1.7053 - accuracy: 0.5909\n",
      "Epoch 69/100\n",
      "268/268 [==============================] - 130s 486ms/step - loss: 1.6881 - accuracy: 0.5947\n",
      "Epoch 70/100\n",
      "268/268 [==============================] - 130s 484ms/step - loss: 1.7251 - accuracy: 0.5840\n",
      "Epoch 71/100\n",
      "268/268 [==============================] - ETA: 0s - loss: 1.6742 - accuracy: 0.5986\n",
      "As a soup that a often fluoresce \n",
      " at shows the arms is astounding \n",
      " and gaffe day her the fellow \n",
      " people\n",
      "268/268 [==============================] - 131s 488ms/step - loss: 1.6742 - accuracy: 0.5986\n",
      "Epoch 72/100\n",
      "268/268 [==============================] - 131s 488ms/step - loss: 1.6501 - accuracy: 0.6012\n",
      "Epoch 73/100\n",
      "268/268 [==============================] - 130s 483ms/step - loss: 1.6193 - accuracy: 0.6059\n",
      "Epoch 74/100\n",
      "268/268 [==============================] - 130s 485ms/step - loss: 1.6075 - accuracy: 0.6104\n",
      "Epoch 75/100\n",
      "268/268 [==============================] - 130s 484ms/step - loss: 1.5952 - accuracy: 0.6117\n",
      "Epoch 76/100\n",
      "268/268 [==============================] - ETA: 0s - loss: 1.5783 - accuracy: 0.6153\n",
      "As a soup that new barely begun \n",
      " that the host's whose not lying are fun \n",
      " so will consonants constructive \n",
      " so\n",
      "268/268 [==============================] - 133s 495ms/step - loss: 1.5783 - accuracy: 0.6153\n",
      "Epoch 77/100\n",
      "268/268 [==============================] - 130s 487ms/step - loss: 1.5722 - accuracy: 0.6155\n",
      "Epoch 78/100\n",
      "268/268 [==============================] - 130s 484ms/step - loss: 1.5344 - accuracy: 0.6225\n",
      "Epoch 79/100\n",
      "268/268 [==============================] - 130s 487ms/step - loss: 1.5440 - accuracy: 0.6219\n",
      "Epoch 80/100\n",
      "268/268 [==============================] - 130s 486ms/step - loss: 1.5093 - accuracy: 0.6281\n",
      "Epoch 81/100\n",
      "268/268 [==============================] - ETA: 0s - loss: 1.5124 - accuracy: 0.6272\n",
      "As a soup bisque is seen to own drilling \n",
      " but i finance and the buddies a worry \n",
      " below it's stay and\n",
      "268/268 [==============================] - 131s 490ms/step - loss: 1.5124 - accuracy: 0.6272\n",
      "Epoch 82/100\n",
      "268/268 [==============================] - 130s 484ms/step - loss: 1.4989 - accuracy: 0.6297\n",
      "Epoch 83/100\n",
      "268/268 [==============================] - 133s 495ms/step - loss: 1.4633 - accuracy: 0.6371\n",
      "Epoch 84/100\n",
      "268/268 [==============================] - 138s 515ms/step - loss: 1.4593 - accuracy: 0.6394\n",
      "Epoch 85/100\n",
      "268/268 [==============================] - 134s 502ms/step - loss: 1.4548 - accuracy: 0.6365\n",
      "Epoch 86/100\n",
      "268/268 [==============================] - ETA: 0s - loss: 1.4715 - accuracy: 0.6349\n",
      "As a soup that new barely begun \n",
      " that the topical brought money \n",
      " to regard to compassion \n",
      " these lines' stingy ration\n",
      "268/268 [==============================] - 135s 504ms/step - loss: 1.4715 - accuracy: 0.6349\n",
      "Epoch 87/100\n",
      "268/268 [==============================] - 134s 501ms/step - loss: 1.4122 - accuracy: 0.6464\n",
      "Epoch 88/100\n",
      "268/268 [==============================] - 143s 534ms/step - loss: 1.4020 - accuracy: 0.6495\n",
      "Epoch 89/100\n",
      "268/268 [==============================] - 138s 513ms/step - loss: 1.4067 - accuracy: 0.6492\n",
      "Epoch 90/100\n",
      "268/268 [==============================] - 134s 499ms/step - loss: 1.3909 - accuracy: 0.6517\n",
      "Epoch 91/100\n",
      "268/268 [==============================] - ETA: 0s - loss: 1.3684 - accuracy: 0.6564\n",
      "As a soup bisque is may get feet \n",
      " till nine having the shape of the midge \n",
      " as your motto part \n",
      "\n",
      "268/268 [==============================] - 136s 507ms/step - loss: 1.3684 - accuracy: 0.6564\n",
      "Epoch 92/100\n",
      "268/268 [==============================] - 133s 497ms/step - loss: 1.3358 - accuracy: 0.6603\n",
      "Epoch 93/100\n",
      "268/268 [==============================] - 134s 502ms/step - loss: 1.3553 - accuracy: 0.6557\n",
      "Epoch 94/100\n",
      "268/268 [==============================] - 134s 498ms/step - loss: 1.3301 - accuracy: 0.6620\n",
      "Epoch 95/100\n",
      "268/268 [==============================] - 135s 504ms/step - loss: 1.3395 - accuracy: 0.6621\n",
      "Epoch 96/100\n",
      "268/268 [==============================] - ETA: 0s - loss: 1.2957 - accuracy: 0.6704\n",
      "As a soup bisque their stove hut \n",
      " in tinted that distraction the ahand element \n",
      " good magnificent faces \n",
      " give is comes\n",
      "268/268 [==============================] - 133s 497ms/step - loss: 1.2957 - accuracy: 0.6704\n",
      "Epoch 97/100\n",
      "268/268 [==============================] - 131s 489ms/step - loss: 1.2910 - accuracy: 0.6730\n",
      "Epoch 98/100\n",
      "268/268 [==============================] - 132s 491ms/step - loss: 1.2733 - accuracy: 0.6742\n",
      "Epoch 99/100\n",
      "268/268 [==============================] - 130s 486ms/step - loss: 1.3051 - accuracy: 0.6682\n",
      "Epoch 100/100\n",
      "268/268 [==============================] - 132s 491ms/step - loss: 1.2703 - accuracy: 0.6744\n"
     ]
    }
   ],
   "source": [
    "HISTORY = MODEL.fit(\n",
    "    X,\n",
    "    y,\n",
    "    epochs=100,\n",
    "    verbose=1,\n",
    "    batch_size=128,\n",
    "    shuffle=True,\n",
    "    callbacks=create_callbacks()\n",
    ")\n",
    "\n",
    "MODEL.save(MODEL_PATH)"
   ],
   "metadata": {
    "collapsed": false
   }
  },
  {
   "cell_type": "code",
   "execution_count": 20,
   "outputs": [
    {
     "data": {
      "text/plain": "<Figure size 640x480 with 1 Axes>",
      "image/png": "[encoded data removed]"
     },
     "metadata": {},
     "output_type": "display_data"
    },
    {
     "data": {
      "text/plain": "<Figure size 640x480 with 1 Axes>",
      "image/png": "[encoded data removed]"
     },
     "metadata": {},
     "output_type": "display_data"
    }
   ],
   "source": [
    "plt.plot(HISTORY.history['accuracy'], label=\"accuracy\")\n",
    "plt.title('Accuracy')\n",
    "plt.show()\n",
    "\n",
    "plt.plot(HISTORY.history['loss'], label=\"loss\")\n",
    "plt.title('Loss')\n",
    "plt.show()"
   ],
   "metadata": {
    "collapsed": false
   }
  },
  {
   "cell_type": "code",
   "execution_count": 37,
   "outputs": [
    {
     "name": "stdout",
     "output_type": "stream",
     "text": [
      "Oh a face what a name \n",
      " every great faces faces drastic \n",
      " earthy answer then \n",
      " listen up at three incidental \n",
      " \n",
      "\n"
     ]
    }
   ],
   "source": [
    "print(generate_seq(MODEL, TOKENIZER, SEQUENCE_LENGTH, \"Oh\"))"
   ],
   "metadata": {
    "collapsed": false
   }
  },
  {
   "cell_type": "code",
   "execution_count": 34,
   "outputs": [],
   "source": [
    "with open(f\"data/models/{MODEL_NAME}/tokenizer.pickle\", 'wb') as handle:\n",
    "    pickle.dump(TOKENIZER, handle, protocol=pickle.HIGHEST_PROTOCOL)"
   ],
   "metadata": {
    "collapsed": false
   }
  },
  {
   "cell_type": "code",
   "execution_count": null,
   "outputs": [],
   "source": [],
   "metadata": {
    "collapsed": false
   }
  }
 ],
 "metadata": {
  "kernelspec": {
   "display_name": "Python 3",
   "language": "python",
   "name": "python3"
  },
  "language_info": {
   "codemirror_mode": {
    "name": "ipython",
    "version": 2
   },
   "file_extension": ".py",
   "mimetype": "text/x-python",
   "name": "python",
   "nbconvert_exporter": "python",
   "pygments_lexer": "ipython2",
   "version": "2.7.6"
  }
 },
 "nbformat": 4,
 "nbformat_minor": 0
}
