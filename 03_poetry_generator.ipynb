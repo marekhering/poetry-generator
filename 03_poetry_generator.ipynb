{
 "cells": [
  {
   "cell_type": "code",
   "execution_count": 3,
   "metadata": {
    "collapsed": true
   },
   "outputs": [],
   "source": [
    "import pickle\n",
    "\n",
    "import numpy as np\n",
    "import keras\n",
    "import keras.utils\n",
    "from keras.preprocessing.text import Tokenizer\n"
   ]
  },
  {
   "cell_type": "code",
   "execution_count": 4,
   "outputs": [
    {
     "name": "stdout",
     "output_type": "stream",
     "text": [
      "WARNING:tensorflow:Layer lstm_8 will not use cuDNN kernels since it doesn't meet the criteria. It will use a generic GPU kernel as fallback when running on GPU.\n",
      "WARNING:tensorflow:Layer lstm_9 will not use cuDNN kernels since it doesn't meet the criteria. It will use a generic GPU kernel as fallback when running on GPU.\n",
      "WARNING:tensorflow:Layer lstm_10 will not use cuDNN kernels since it doesn't meet the criteria. It will use a generic GPU kernel as fallback when running on GPU.\n",
      "WARNING:tensorflow:Layer lstm_11 will not use cuDNN kernels since it doesn't meet the criteria. It will use a generic GPU kernel as fallback when running on GPU.\n",
      "WARNING:tensorflow:Layer lstm will not use cuDNN kernels since it doesn't meet the criteria. It will use a generic GPU kernel as fallback when running on GPU.\n",
      "WARNING:tensorflow:Layer lstm_1 will not use cuDNN kernels since it doesn't meet the criteria. It will use a generic GPU kernel as fallback when running on GPU.\n"
     ]
    }
   ],
   "source": [
    "RHYME_MODEL_NAME = \"RhymeModel\"\n",
    "SEQUENCE_MODEL_NAME = \"StructureModel\"\n",
    "RHYME_MODEL = keras.models.load_model(f\"data/models/{RHYME_MODEL_NAME}/weights.h5\")\n",
    "SEQUENCE_MODEL = keras.models.load_model(f\"data/models/{SEQUENCE_MODEL_NAME}/weights.h5\")"
   ],
   "metadata": {
    "collapsed": false
   }
  },
  {
   "cell_type": "code",
   "execution_count": 5,
   "outputs": [],
   "source": [
    "with open(f\"data/models/{RHYME_MODEL_NAME}/tokenizer.pickle\", 'rb') as handle:\n",
    "    CHAR_TOKENIZER = pickle.load(handle)\n",
    "\n",
    "with open(f\"data/models/{SEQUENCE_MODEL_NAME}/tokenizer.pickle\", 'rb') as handle:\n",
    "    WORD_TOKENIZER = pickle.load(handle)\n"
   ],
   "metadata": {
    "collapsed": false
   }
  },
  {
   "cell_type": "code",
   "execution_count": 6,
   "outputs": [],
   "source": [
    "REVERSE_CHAR_TOKEN_INDEX = {v: k for k, v in CHAR_TOKENIZER.word_index.items()}\n",
    "\n",
    "def generate_rhyme(model: keras.Model, tokenizer: Tokenizer, sequence_length: int, in_word: str, max_chars: int = 30):\n",
    "    out_word = ''\n",
    "    for i in range(max_chars):\n",
    "        encoded = tokenizer.texts_to_sequences([f\"{in_word} {out_word}\"])[0]\n",
    "        padded = keras.utils.pad_sequences([encoded], maxlen=sequence_length - 1, padding='pre')\n",
    "        predicted = np.argmax(model.predict(padded, verbose=0))\n",
    "        out_char = REVERSE_CHAR_TOKEN_INDEX.get(predicted, None)\n",
    "        if out_char == \" \" or out_char is None:\n",
    "            break\n",
    "        out_word += out_char\n",
    "    return out_word"
   ],
   "metadata": {
    "collapsed": false
   }
  },
  {
   "cell_type": "code",
   "execution_count": 7,
   "outputs": [],
   "source": [
    "REVERSE_WORD_TOKEN_INDEX = {v: k for k, v in WORD_TOKENIZER.word_index.items()}\n",
    "\n",
    "def generate_line(model: keras.Model, tokenizer: Tokenizer, sequence_length: int, in_line: str, max_words: int = 60):\n",
    "    out_line = \"\"\n",
    "    for _ in range(max_words):\n",
    "        encoded = tokenizer.texts_to_sequences([f\"{in_line} \\n {out_line}\"])[0]\n",
    "        padded = keras.utils.pad_sequences([encoded], maxlen=sequence_length - 1, padding='pre')\n",
    "        predicted = np.argmax(model.predict(padded, verbose=0))\n",
    "        out_word = REVERSE_WORD_TOKEN_INDEX.get(predicted, None)\n",
    "        out_line += ' ' + out_word\n",
    "        if out_word == '\\n':\n",
    "            break\n",
    "    return out_line"
   ],
   "metadata": {
    "collapsed": false
   }
  },
  {
   "cell_type": "code",
   "execution_count": 10,
   "outputs": [
    {
     "name": "stdout",
     "output_type": "stream",
     "text": [
      "SEED: \n",
      "Looks like the tree\n",
      "\n",
      "POEM: \n",
      "Looks like the tree \n",
      " john bar dogmas seventy sea \n",
      " also doctor need hook \n",
      " she wire cook \n",
      "\n"
     ]
    }
   ],
   "source": [
    "SEEDS = [\n",
    "    \" Scares me a lot\",\n",
    "    \" Looks like the tree\",\n",
    "    \" I wake up in the morning\"\n",
    "]\n",
    "\n",
    "SEED_LINE = SEEDS[1]\n",
    "\n",
    "POEM = SEED_LINE + ' \\n'\n",
    "\n",
    "for i in range(1, 4):\n",
    "    line = generate_line(SEQUENCE_MODEL, WORD_TOKENIZER, 43, POEM)\n",
    "    if i % 2:\n",
    "        poem_words = POEM.split(' ')\n",
    "        line_words = line.split(' ')\n",
    "        rhyme = generate_rhyme(RHYME_MODEL, CHAR_TOKENIZER, 62, poem_words[-2])\n",
    "        line_words[-2] = rhyme\n",
    "        line = ' '.join(line_words)\n",
    "    POEM += line\n",
    "print(f\"SEED: \\n{SEED_LINE}\")\n",
    "print()\n",
    "print(f\"POEM: \\n{POEM}\")"
   ],
   "metadata": {
    "collapsed": false
   }
  },
  {
   "cell_type": "code",
   "execution_count": 33,
   "outputs": [],
   "source": [],
   "metadata": {
    "collapsed": false
   }
  }
 ],
 "metadata": {
  "kernelspec": {
   "display_name": "Python 3",
   "language": "python",
   "name": "python3"
  },
  "language_info": {
   "codemirror_mode": {
    "name": "ipython",
    "version": 2
   },
   "file_extension": ".py",
   "mimetype": "text/x-python",
   "name": "python",
   "nbconvert_exporter": "python",
   "pygments_lexer": "ipython2",
   "version": "2.7.6"
  }
 },
 "nbformat": 4,
 "nbformat_minor": 0
}
