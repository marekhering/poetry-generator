{
 "cells": [
  {
   "cell_type": "code",
   "execution_count": 25,
   "metadata": {
    "collapsed": true
   },
   "outputs": [],
   "source": [
    "import pickle\n",
    "\n",
    "import numpy as np\n",
    "import keras\n",
    "import keras.utils\n",
    "from keras.preprocessing.text import Tokenizer\n"
   ]
  },
  {
   "cell_type": "code",
   "execution_count": 26,
   "outputs": [
    {
     "name": "stdout",
     "output_type": "stream",
     "text": [
      "WARNING:tensorflow:Layer lstm will not use cuDNN kernels since it doesn't meet the criteria. It will use a generic GPU kernel as fallback when running on GPU.\n",
      "WARNING:tensorflow:Layer lstm_1 will not use cuDNN kernels since it doesn't meet the criteria. It will use a generic GPU kernel as fallback when running on GPU.\n",
      "WARNING:tensorflow:Layer lstm_2 will not use cuDNN kernels since it doesn't meet the criteria. It will use a generic GPU kernel as fallback when running on GPU.\n",
      "WARNING:tensorflow:Layer lstm_3 will not use cuDNN kernels since it doesn't meet the criteria. It will use a generic GPU kernel as fallback when running on GPU.\n",
      "WARNING:tensorflow:Layer lstm will not use cuDNN kernels since it doesn't meet the criteria. It will use a generic GPU kernel as fallback when running on GPU.\n",
      "WARNING:tensorflow:Layer lstm_1 will not use cuDNN kernels since it doesn't meet the criteria. It will use a generic GPU kernel as fallback when running on GPU.\n"
     ]
    }
   ],
   "source": [
    "RHYME_MODEL_NAME = \"RhymeModelENG\"\n",
    "SEQUENCE_MODEL_NAME = \"StructureModelENG\"\n",
    "# RHYME_MODEL_NAME = \"RhymeModelPOL\"\n",
    "# SEQUENCE_MODEL_NAME = \"StructureModelPOL\"\n",
    "\n",
    "POL = True if RHYME_MODEL_NAME.endswith('POL') else False\n",
    "\n",
    "RHYME_MODEL = keras.models.load_model(f\"data/models/{RHYME_MODEL_NAME}/weights.h5\")\n",
    "SEQUENCE_MODEL = keras.models.load_model(f\"data/models/{SEQUENCE_MODEL_NAME}/weights.h5\")"
   ],
   "metadata": {
    "collapsed": false
   }
  },
  {
   "cell_type": "code",
   "execution_count": 27,
   "outputs": [],
   "source": [
    "with open(f\"data/models/{RHYME_MODEL_NAME}/tokenizer.pickle\", 'rb') as handle:\n",
    "    CHAR_TOKENIZER = pickle.load(handle)\n",
    "\n",
    "with open(f\"data/models/{SEQUENCE_MODEL_NAME}/tokenizer.pickle\", 'rb') as handle:\n",
    "    WORD_TOKENIZER = pickle.load(handle)\n"
   ],
   "metadata": {
    "collapsed": false
   }
  },
  {
   "cell_type": "code",
   "execution_count": 28,
   "outputs": [],
   "source": [
    "REVERSE_CHAR_TOKEN_INDEX = {v: k for k, v in CHAR_TOKENIZER.word_index.items()}\n",
    "\n",
    "def generate_rhyme(model: keras.Model, tokenizer: Tokenizer, in_word: str, max_chars: int = 30):\n",
    "    out_word = ''\n",
    "    for i in range(max_chars):\n",
    "        encoded = tokenizer.texts_to_sequences([f\"{in_word} {out_word}\"])[0]\n",
    "        padded = keras.utils.pad_sequences([encoded], maxlen=model.input_shape[-1], padding='pre')\n",
    "        predicted = np.argmax(model.predict(padded, verbose=0))\n",
    "        out_char = REVERSE_CHAR_TOKEN_INDEX.get(predicted, None)\n",
    "        if out_char == \" \" or out_char is None:\n",
    "            break\n",
    "        out_word += out_char\n",
    "    return out_word"
   ],
   "metadata": {
    "collapsed": false
   }
  },
  {
   "cell_type": "code",
   "execution_count": 29,
   "outputs": [],
   "source": [
    "REVERSE_WORD_TOKEN_INDEX = {v: k for k, v in WORD_TOKENIZER.word_index.items()}\n",
    "\n",
    "def generate_line(model: keras.Model, tokenizer: Tokenizer, in_line: str, max_words: int = 60):\n",
    "    out_line = \"\"\n",
    "    for _ in range(max_words):\n",
    "        encoded = tokenizer.texts_to_sequences([f\"{in_line} \\n {out_line}\"])[0]\n",
    "        padded = keras.utils.pad_sequences([encoded], maxlen=model.input_shape[-1], padding='pre')\n",
    "        predicted = np.argmax(model.predict(padded, verbose=0))\n",
    "        out_word = REVERSE_WORD_TOKEN_INDEX.get(predicted, None)\n",
    "        out_line += ' ' + out_word\n",
    "        if out_word == '\\n':\n",
    "            break\n",
    "    return out_line"
   ],
   "metadata": {
    "collapsed": false
   }
  },
  {
   "cell_type": "code",
   "execution_count": 36,
   "outputs": [
    {
     "name": "stdout",
     "output_type": "stream",
     "text": [
      "SEED: \n",
      " When i'm was joking\n",
      "\n",
      "POEM: \n",
      " When i'm was joking \n",
      " wed scathingly pensive sing \n",
      " scott nf more no rash \n",
      " my times was fuss'll it loud cash \n",
      "\n"
     ]
    }
   ],
   "source": [
    "SEEDS_ENG = [\n",
    "    \" Scares me a lot\",\n",
    "    \" Looks like the tree\",\n",
    "    \" I wake up in the morning\",\n",
    "    \" Maybe i am hired\",\n",
    "    \" When i'm was joking\"\n",
    "]\n",
    "\n",
    "SEEDS_POL = [\n",
    "    \" Obudziłem się wesoły\",\n",
    "    \" Kręcą się chmury\",\n",
    "    \" Jest mi nie dobrze\",\n",
    "    \" Dla ciebie moja kochana\",\n",
    "    \" Mam dla ciebie ciasto\",\n",
    "    \" Na tle będzie człowiek\"\n",
    "]\n",
    "\n",
    "INDEX = -1\n",
    "SEED_LINE = (SEEDS_POL if POL else SEEDS_ENG)[INDEX]\n",
    "\n",
    "POEM = SEED_LINE + ' \\n'\n",
    "\n",
    "for i in range(1, 4):\n",
    "    line = generate_line(SEQUENCE_MODEL, WORD_TOKENIZER, POEM)\n",
    "    if i % 2:\n",
    "        poem_words = POEM.split(' ')\n",
    "        line_words = line.split(' ')\n",
    "        rhyme = generate_rhyme(RHYME_MODEL, CHAR_TOKENIZER, poem_words[-2])\n",
    "        line_words[-2] = rhyme\n",
    "        line = ' '.join(line_words)\n",
    "    POEM += line\n",
    "print(f\"SEED: \\n{SEED_LINE}\")\n",
    "print()\n",
    "print(f\"POEM: \\n{POEM}\")"
   ],
   "metadata": {
    "collapsed": false
   }
  },
  {
   "cell_type": "code",
   "execution_count": 33,
   "outputs": [],
   "source": [],
   "metadata": {
    "collapsed": false
   }
  }
 ],
 "metadata": {
  "kernelspec": {
   "display_name": "Python 3",
   "language": "python",
   "name": "python3"
  },
  "language_info": {
   "codemirror_mode": {
    "name": "ipython",
    "version": 2
   },
   "file_extension": ".py",
   "mimetype": "text/x-python",
   "name": "python",
   "nbconvert_exporter": "python",
   "pygments_lexer": "ipython2",
   "version": "2.7.6"
  }
 },
 "nbformat": 4,
 "nbformat_minor": 0
}
