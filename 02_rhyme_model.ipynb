{
 "cells": [
  {
   "cell_type": "code",
   "execution_count": 14,
   "metadata": {
    "collapsed": true
   },
   "outputs": [],
   "source": [
    "import csv\n",
    "import random\n",
    "import typing as tp\n",
    "import pickle\n",
    "import re\n",
    "from collections import defaultdict\n",
    "\n",
    "import numpy as np\n",
    "import keras\n",
    "import keras.layers\n",
    "import keras.optimizers\n",
    "import keras.callbacks\n",
    "from tqdm import tqdm\n",
    "from keras.utils import pad_sequences, to_categorical\n",
    "from keras.preprocessing.text import Tokenizer\n",
    "from matplotlib import pyplot as plt\n"
   ]
  },
  {
   "cell_type": "code",
   "execution_count": 15,
   "outputs": [],
   "source": [
    "TO_EXCLUDE = '!\"#$%&()*+-/:;<=>@[\\\\]^_`{|}~.,:;!?\\t'\n",
    "TO_TOKENIZE = '\\n'"
   ],
   "metadata": {
    "collapsed": false
   }
  },
  {
   "cell_type": "code",
   "execution_count": 16,
   "outputs": [
    {
     "name": "stderr",
     "output_type": "stream",
     "text": [
      "100%|██████████| 4000/4000 [00:00<00:00, 57939.58it/s]"
     ]
    },
    {
     "name": "stdout",
     "output_type": "stream",
     "text": [
      "cap'n jack was washed over the side \n",
      " his crew searched but found not hair nor hide \n",
      " no longer the helm \n",
      " but the deep benthic realm \n",
      " is where jack will forever reside \n",
      "  ablactation to wean off the breast \n",
      " should wait 'til age 2 this is best \n",
      " though some men never quit \n",
      " bet you thought i'd rhyme tit \n",
      " because they're mammarially obsessed \n",
      "  as a soup bisque is best when served hot \n",
      " made with lobster it hits the right spot \n",
      " i think it tastes dreamy \n",
      " it's so rich and creamy \n",
      " it's the soup you'd be served on a yacht \n",
      " \n"
     ]
    },
    {
     "name": "stderr",
     "output_type": "stream",
     "text": [
      "\n"
     ]
    }
   ],
   "source": [
    "def load_data(file, include: str, exclude: str, size: int = None):\n",
    "    _text =  []\n",
    "    with open(file) as f:\n",
    "        data = csv.reader(f)\n",
    "        for verse, *_ in tqdm(list(data)[:size] if size is not None else list(data)):\n",
    "            # Separate characters that we want to tokenize\n",
    "            correct_verse = re.sub(r'(['+include+'])', r' \\1 ', verse)\n",
    "            # Exclude characters that we do not want to tokenize\n",
    "            correct_verse = correct_verse.translate(str.maketrans('', '', exclude))\n",
    "            _text.append(correct_verse.lower())\n",
    "    return _text\n",
    "\n",
    "TEXT = load_data('data/poems/limericks.csv', TO_TOKENIZE, TO_EXCLUDE, 4000)\n",
    "print(*TEXT[:3])"
   ],
   "metadata": {
    "collapsed": false
   }
  },
  {
   "cell_type": "code",
   "execution_count": 17,
   "outputs": [
    {
     "name": "stderr",
     "output_type": "stream",
     "text": [
      "100%|██████████| 4000/4000 [00:00<00:00, 124913.19it/s]"
     ]
    },
    {
     "name": "stdout",
     "output_type": "stream",
     "text": [
      "...\n",
      "abodes: ['modes']\n",
      " abolish: ['demolish', 'polish']\n",
      " abortive: ['contortive', 'supportive']\n",
      " abound: ['underground', 'found', 'unsound', 'sound', 'astound', 'blackcrowned', 'around', 'round', 'ground', 'drowned']\n",
      " abounding: ['astounding', 'dumbfounding']\n",
      " about: ['out', 'doubt', 'shout']\n",
      " aboutface: ['disgrace', 'erase']\n",
      " above: ['dove', 'guv', 'shove', 'love']\n",
      " abracadabra: ['zebra']\n",
      " abrachiocephalia: ['yer']\n",
      "\n",
      "...\n",
      "Most common rhyme: 'me' | Length: 55 | Rhymes: ['tea', 'dqmot', 'pygmy', 'parchfree', 'sea', 'free', 'mcgee', 'plea', 'knee', 'tv'] ...\n"
     ]
    },
    {
     "name": "stderr",
     "output_type": "stream",
     "text": [
      "\n"
     ]
    }
   ],
   "source": [
    "def extract_rhymes(_text: tp.List[str]):\n",
    "    rhymes = defaultdict(list)\n",
    "\n",
    "    def add_rhymes(rhyme_words: tp.List[str]):\n",
    "        for word in rhyme_words:\n",
    "            others = rhyme_words.copy()\n",
    "            others.remove(word)\n",
    "            rhymes[word].extend(others)\n",
    "\n",
    "    for verse in tqdm(_text):\n",
    "        lines = verse.strip().split('\\n')\n",
    "        try:\n",
    "            last_words = [line.strip().split(' ')[-1] for line in lines]\n",
    "            # The rhyme scheme in the limerick is aabba\n",
    "            a_rhymes = [last_words[0], last_words[1], last_words[4]]\n",
    "            b_rhymes = [last_words[2], last_words[3]]\n",
    "            add_rhymes(a_rhymes)\n",
    "            add_rhymes(b_rhymes)\n",
    "        except IndexError:\n",
    "            # Invalid limerick\n",
    "            continue\n",
    "    return {k: list(set(v)) for k, v in rhymes.items()}\n",
    "\n",
    "RHYMES = extract_rhymes(TEXT)\n",
    "print(\"...\")\n",
    "print(*[f\"{k}: {v}\\n\" for k, v in sorted(RHYMES.items())[100:110]])\n",
    "print(\"...\")\n",
    "most_common = max(RHYMES.keys(), key=lambda x: len(RHYMES[x]))\n",
    "print(f\"Most common rhyme: '{most_common}' | Length: {len(RHYMES[most_common])} | Rhymes: {RHYMES[most_common][:10]} ...\")"
   ],
   "metadata": {
    "collapsed": false
   }
  },
  {
   "cell_type": "code",
   "execution_count": 18,
   "outputs": [
    {
     "name": "stdout",
     "output_type": "stream",
     "text": [
      "40\n",
      "{' ': 1, 'e': 2, 't': 3, 'a': 4, 'o': 5, 's': 6, 'i': 7, 'n': 8, 'r': 9, 'h': 10, 'l': 11, '\\n': 12, 'd': 13, 'u': 14, 'c': 15, 'm': 16, 'w': 17, 'y': 18, 'g': 19, 'f': 20, 'p': 21, 'b': 22, \"'\": 23, 'k': 24, 'v': 25, 'j': 26, 'x': 27, 'q': 28, 'z': 29, '1': 30, '2': 31, '0': 32, '3': 33, '4': 34, '9': 35, '6': 36, '8': 37, '7': 38, '5': 39}\n"
     ]
    }
   ],
   "source": [
    "TOKENIZER = Tokenizer(filters=TO_EXCLUDE, char_level=True)\n",
    "TOKENIZER.fit_on_texts(TEXT)\n",
    "TOTAL_CHARS = len(TOKENIZER.word_index) + 1\n",
    "print(TOTAL_CHARS)\n",
    "print(TOKENIZER.word_index)"
   ],
   "metadata": {
    "collapsed": false
   }
  },
  {
   "cell_type": "code",
   "execution_count": 19,
   "outputs": [
    {
     "name": "stderr",
     "output_type": "stream",
     "text": [
      "100%|██████████| 8572/8572 [00:00<00:00, 9358.25it/s] "
     ]
    },
    {
     "name": "stdout",
     "output_type": "stream",
     "text": [
      "Size of training set 161304\n"
     ]
    },
    {
     "name": "stderr",
     "output_type": "stream",
     "text": [
      "\n"
     ]
    }
   ],
   "source": [
    "def create_sequences(rhymes: tp.Dict[str, tp.List[str]], tokenizer: Tokenizer, total_chars: int):\n",
    "    sequences = []\n",
    "    for base_word, rhymes_words in tqdm(rhymes.items()):\n",
    "        for rhyme_word in rhymes_words:\n",
    "            seq = f\"{base_word} {rhyme_word} \"\n",
    "            encoded = tokenizer.texts_to_sequences(seq)\n",
    "            for i in range(len(base_word) + 2, len(encoded) + 1):\n",
    "                sequences.append(encoded[:i])\n",
    "    return sequences\n",
    "\n",
    "SEQUENCES = create_sequences(RHYMES, TOKENIZER, TOTAL_CHARS)\n",
    "print(f\"Size of training set {len(SEQUENCES)}\")"
   ],
   "metadata": {
    "collapsed": false
   }
  },
  {
   "cell_type": "code",
   "execution_count": 20,
   "outputs": [
    {
     "name": "stdout",
     "output_type": "stream",
     "text": [
      "Max Sequence Length: 62\n"
     ]
    }
   ],
   "source": [
    "SEQUENCE_LENGTH = max([len(seq) for seq in SEQUENCES])\n",
    "ENCODED_SEQUENCES = pad_sequences(SEQUENCES, maxlen=SEQUENCE_LENGTH, padding='pre')\n",
    "X, y = ENCODED_SEQUENCES[:,:-1], to_categorical(ENCODED_SEQUENCES[:,-1], num_classes=TOTAL_CHARS)\n",
    "print(f'Max Sequence Length: {SEQUENCE_LENGTH}')"
   ],
   "metadata": {
    "collapsed": false
   }
  },
  {
   "cell_type": "code",
   "execution_count": 53,
   "outputs": [
    {
     "name": "stdout",
     "output_type": "stream",
     "text": [
      "WARNING:tensorflow:Layer lstm_8 will not use cuDNN kernels since it doesn't meet the criteria. It will use a generic GPU kernel as fallback when running on GPU.\n",
      "WARNING:tensorflow:Layer lstm_9 will not use cuDNN kernels since it doesn't meet the criteria. It will use a generic GPU kernel as fallback when running on GPU.\n",
      "WARNING:tensorflow:Layer lstm_10 will not use cuDNN kernels since it doesn't meet the criteria. It will use a generic GPU kernel as fallback when running on GPU.\n",
      "WARNING:tensorflow:Layer lstm_11 will not use cuDNN kernels since it doesn't meet the criteria. It will use a generic GPU kernel as fallback when running on GPU.\n",
      "Model: \"sequential_3\"\n",
      "_________________________________________________________________\n",
      " Layer (type)                Output Shape              Param #   \n",
      "=================================================================\n",
      " embedding_3 (Embedding)     (None, 1, 100)            4000      \n",
      "                                                                 \n",
      " lstm_8 (LSTM)               (None, 1, 64)             42240     \n",
      "                                                                 \n",
      " lstm_9 (LSTM)               (None, 1, 32)             12416     \n",
      "                                                                 \n",
      " lstm_10 (LSTM)              (None, 1, 32)             8320      \n",
      "                                                                 \n",
      " lstm_11 (LSTM)              (None, 32)                8320      \n",
      "                                                                 \n",
      " dense_3 (Dense)             (None, 40)                1320      \n",
      "                                                                 \n",
      "=================================================================\n",
      "Total params: 76,616\n",
      "Trainable params: 76,616\n",
      "Non-trainable params: 0\n",
      "_________________________________________________________________\n",
      "None\n"
     ]
    }
   ],
   "source": [
    "def create_model(total_chars: int, sequence_length: int):\n",
    "    model = keras.models.Sequential()\n",
    "    model.add(keras.layers.Embedding(total_chars, 100, input_length=sequence_length - 1))\n",
    "    model.add(keras.layers.LSTM(64, return_sequences=True, activation='relu'))\n",
    "    model.add(keras.layers.LSTM(32, return_sequences=True, activation='relu'))\n",
    "    model.add(keras.layers.LSTM(32, return_sequences=True, activation='relu'))\n",
    "    model.add(keras.layers.LSTM(32, activation='relu'))\n",
    "    model.add(keras.layers.Dense(total_chars, activation='softmax'))\n",
    "    model.compile(loss='categorical_crossentropy', optimizer='adam', metrics=['accuracy'])\n",
    "    return model\n",
    "\n",
    "MODEL_NAME = \"RhymeModel\"\n",
    "MODEL_PATH = f\"data/models/{MODEL_NAME}/weights.h5\"\n",
    "MODEL = keras.models.load_model(MODEL_PATH)\n",
    "# MODEL = create_model(TOTAL_CHARS, SEQUENCE_LENGTH)\n",
    "print(MODEL.summary())"
   ],
   "metadata": {
    "collapsed": false
   }
  },
  {
   "cell_type": "code",
   "execution_count": 67,
   "outputs": [],
   "source": [
    "REVERSE_TOKEN_INDEX = {v: k for k, v in TOKENIZER.word_index.items()}\n",
    "\n",
    "def generate_rhyme(model: keras.Model, sequence_length: int, in_word: str):\n",
    "    in_word = in_word + \" \" if in_word[-1] != \" \" else in_word\n",
    "    for i in range(20):\n",
    "        encoded = TOKENIZER.texts_to_sequences([in_word])[0]\n",
    "        padded = pad_sequences([encoded], maxlen=sequence_length - 1, padding='pre')\n",
    "        predicted = np.argmax(model.predict(padded, verbose=0))\n",
    "        out_char = REVERSE_TOKEN_INDEX.get(predicted, None)\n",
    "        if out_char == \" \" or out_char is None:\n",
    "            break\n",
    "        in_word += out_char\n",
    "    return in_word"
   ],
   "metadata": {
    "collapsed": false
   }
  },
  {
   "cell_type": "code",
   "execution_count": 41,
   "outputs": [],
   "source": [
    "def create_callbacks():\n",
    "    callbacks = []\n",
    "\n",
    "    class PredictionCallback(keras.callbacks.Callback):\n",
    "        def on_epoch_end(self, epoch, logs=None):\n",
    "            frequency = 1\n",
    "            if epoch % frequency:\n",
    "                return\n",
    "            print()\n",
    "            print(generate_rhyme(MODEL, SEQUENCE_LENGTH, \"before\"))\n",
    "            print(generate_rhyme(MODEL, SEQUENCE_LENGTH, \"above\"))\n",
    "            print(generate_rhyme(MODEL, SEQUENCE_LENGTH, \"set\"))\n",
    "            print(generate_rhyme(MODEL, SEQUENCE_LENGTH, \"night\"))\n",
    "\n",
    "    callbacks.append(PredictionCallback())\n",
    "    callbacks.append(keras.callbacks.EarlyStopping(monitor=\"loss\", patience=3))\n",
    "    callbacks.append(keras.callbacks.ModelCheckpoint(\n",
    "        filepath=f\"data/models/{MODEL_NAME}/checkpoint\",\n",
    "        save_weights_only=True,\n",
    "        save_freq=5\n",
    "    ))\n",
    "    return callbacks\n"
   ],
   "metadata": {
    "collapsed": false
   }
  },
  {
   "cell_type": "code",
   "execution_count": 11,
   "outputs": [
    {
     "name": "stdout",
     "output_type": "stream",
     "text": [
      "Epoch 1/20\n",
      "316/316 [==============================] - ETA: 0s - loss: 2.9479 - accuracy: 0.1717\n",
      "before aaee\n",
      "above aaee\n",
      "set aaee\n",
      "night aaae\n",
      "316/316 [==============================] - 392s 1s/step - loss: 2.9479 - accuracy: 0.1717\n",
      "Epoch 2/20\n",
      "316/316 [==============================] - ETA: 0s - loss: 2.6720 - accuracy: 0.2154\n",
      "before saee\n",
      "above saee\n",
      "set seee\n",
      "night saii\n",
      "316/316 [==============================] - 380s 1s/step - loss: 2.6720 - accuracy: 0.2154\n",
      "Epoch 3/20\n",
      "316/316 [==============================] - ETA: 0s - loss: 2.4356 - accuracy: 0.2912\n",
      "before sere\n",
      "above sere\n",
      "set sees\n",
      "night sile\n",
      "316/316 [==============================] - 400s 1s/step - loss: 2.4356 - accuracy: 0.2912\n",
      "Epoch 4/20\n",
      "316/316 [==============================] - ETA: 0s - loss: 2.2058 - accuracy: 0.3557\n",
      "before srore\n",
      "above sate\n",
      "set stest\n",
      "night slit\n",
      "316/316 [==============================] - 420s 1s/step - loss: 2.2058 - accuracy: 0.3557\n",
      "Epoch 5/20\n",
      "316/316 [==============================] - ETA: 0s - loss: 2.0500 - accuracy: 0.4010\n",
      "before soor\n",
      "above sooch\n",
      "set sas\n",
      "night sintt\n",
      "316/316 [==============================] - 422s 1s/step - loss: 2.0500 - accuracy: 0.4010\n",
      "Epoch 6/20\n",
      "316/316 [==============================] - ETA: 0s - loss: 1.9463 - accuracy: 0.4346\n",
      "before core\n",
      "above srome\n",
      "set slet\n",
      "night sigt\n",
      "316/316 [==============================] - 421s 1s/step - loss: 1.9463 - accuracy: 0.4346\n",
      "Epoch 7/20\n",
      "316/316 [==============================] - ETA: 0s - loss: 1.8720 - accuracy: 0.4575\n",
      "before sere\n",
      "above sarered\n",
      "set stet\n",
      "night sight\n",
      "316/316 [==============================] - 423s 1s/step - loss: 1.8720 - accuracy: 0.4575\n",
      "Epoch 8/20\n",
      "316/316 [==============================] - ETA: 0s - loss: 1.8063 - accuracy: 0.4763\n",
      "before core\n",
      "above slome\n",
      "set set\n",
      "night sintt\n",
      "316/316 [==============================] - 422s 1s/step - loss: 1.8063 - accuracy: 0.4763\n",
      "Epoch 9/20\n",
      "316/316 [==============================] - ETA: 0s - loss: 1.7534 - accuracy: 0.4919\n",
      "before bore\n",
      "above shame\n",
      "set stet\n",
      "night tight\n",
      "316/316 [==============================] - 421s 1s/step - loss: 1.7534 - accuracy: 0.4919\n",
      "Epoch 10/20\n",
      "316/316 [==============================] - ETA: 0s - loss: 1.7043 - accuracy: 0.5067\n",
      "before spore\n",
      "above shame\n",
      "set spret\n",
      "night stight\n",
      "316/316 [==============================] - 422s 1s/step - loss: 1.7043 - accuracy: 0.5067\n",
      "Epoch 11/20\n",
      "316/316 [==============================] - ETA: 0s - loss: 1.6613 - accuracy: 0.5181\n",
      "before sore\n",
      "above sorepe\n",
      "set set\n",
      "night stite\n",
      "316/316 [==============================] - 422s 1s/step - loss: 1.6613 - accuracy: 0.5181\n",
      "Epoch 12/20\n",
      "316/316 [==============================] - ETA: 0s - loss: 1.6230 - accuracy: 0.5282\n",
      "before soar\n",
      "above shomes\n",
      "set set\n",
      "night stight\n",
      "316/316 [==============================] - 389s 1s/step - loss: 1.6230 - accuracy: 0.5282\n",
      "Epoch 13/20\n",
      "316/316 [==============================] - ETA: 0s - loss: 1.5861 - accuracy: 0.5391\n",
      "before shore\n",
      "above shove\n",
      "set set\n",
      "night stite\n",
      "316/316 [==============================] - 389s 1s/step - loss: 1.5861 - accuracy: 0.5391\n",
      "Epoch 14/20\n",
      "316/316 [==============================] - ETA: 0s - loss: 1.5530 - accuracy: 0.5483\n",
      "before sore\n",
      "above compes\n",
      "set set\n",
      "night sight\n",
      "316/316 [==============================] - 421s 1s/step - loss: 1.5530 - accuracy: 0.5483\n",
      "Epoch 15/20\n",
      "316/316 [==============================] - ETA: 0s - loss: 1.5218 - accuracy: 0.5567\n",
      "before shore\n",
      "above shome\n",
      "set spret\n",
      "night stite\n",
      "316/316 [==============================] - 427s 1s/step - loss: 1.5218 - accuracy: 0.5567\n",
      "Epoch 16/20\n",
      "316/316 [==============================] - ETA: 0s - loss: 1.4983 - accuracy: 0.5621\n",
      "before shore\n",
      "above come\n",
      "set stret\n",
      "night stight\n",
      "316/316 [==============================] - 428s 1s/step - loss: 1.4983 - accuracy: 0.5621\n",
      "Epoch 17/20\n",
      "316/316 [==============================] - ETA: 0s - loss: 1.4744 - accuracy: 0.5684\n",
      "before shore\n",
      "above shome\n",
      "set stret\n",
      "night sight\n",
      "316/316 [==============================] - 413s 1s/step - loss: 1.4744 - accuracy: 0.5684\n",
      "Epoch 18/20\n",
      "316/316 [==============================] - ETA: 0s - loss: 1.4505 - accuracy: 0.5746\n",
      "before shore\n",
      "above suve\n",
      "set stet\n",
      "night sight\n",
      "316/316 [==============================] - 469s 1s/step - loss: 1.4505 - accuracy: 0.5746\n",
      "Epoch 19/20\n",
      "316/316 [==============================] - ETA: 0s - loss: 1.4327 - accuracy: 0.5790\n",
      "before shore\n",
      "above shome\n",
      "set stret\n",
      "night stite\n",
      "316/316 [==============================] - 452s 1s/step - loss: 1.4327 - accuracy: 0.5790\n",
      "Epoch 20/20\n",
      "316/316 [==============================] - ETA: 0s - loss: 1.4114 - accuracy: 0.5847\n",
      "before shore\n",
      "above some\n",
      "set set\n",
      "night sight\n",
      "316/316 [==============================] - 453s 1s/step - loss: 1.4114 - accuracy: 0.5847\n"
     ]
    }
   ],
   "source": [
    "HISTORY = MODEL.fit(\n",
    "    X,\n",
    "    y,\n",
    "    epochs=20,\n",
    "    verbose=1,\n",
    "    batch_size=512,\n",
    "    shuffle=True,\n",
    "    callbacks=create_callbacks()\n",
    ")\n",
    "\n",
    "MODEL.save(MODEL_PATH)"
   ],
   "metadata": {
    "collapsed": false
   }
  },
  {
   "cell_type": "code",
   "execution_count": 13,
   "outputs": [],
   "source": [
    "with open(f\"data/models/{MODEL_NAME}/tokenizer.pickle\", 'wb') as f:\n",
    "    pickle.dump(TOKENIZER, f, protocol=pickle.HIGHEST_PROTOCOL)\n",
    "\n",
    "with open(f\"data/models/{MODEL_NAME}/history.pickle\", 'wb') as f:\n",
    "    pickle.dump(HISTORY.history, f, protocol=pickle.HIGHEST_PROTOCOL)"
   ],
   "metadata": {
    "collapsed": false
   }
  },
  {
   "cell_type": "code",
   "execution_count": 12,
   "outputs": [
    {
     "data": {
      "text/plain": "<Figure size 700x400 with 2 Axes>",
      "image/png": "[encoded data removed]"
     },
     "metadata": {},
     "output_type": "display_data"
    }
   ],
   "source": [
    "with open(f\"data/models/{MODEL_NAME}/history.pickle\", \"rb\") as f:\n",
    "    history = pickle.load(f)\n",
    "\n",
    "fig, (ax1, ax2) = plt.subplots(1, 2)\n",
    "fig.suptitle(\"Learning curve of rhyme model\")\n",
    "\n",
    "ax1.plot(history['accuracy'])\n",
    "ax1.set_xlabel('epoch')\n",
    "ax1.set_ylabel('accuracy')\n",
    "\n",
    "ax2.plot(history['loss'])\n",
    "ax2.set_xlabel('epoch')\n",
    "ax2.set_ylabel('loss')\n",
    "fig.tight_layout()\n",
    "fig.set_size_inches(7, 4)\n",
    "fig.savefig(f\"data/models/{MODEL_NAME}/learning_curve.png\")\n",
    "plt.show()"
   ],
   "metadata": {
    "collapsed": false
   }
  },
  {
   "cell_type": "code",
   "execution_count": 76,
   "outputs": [
    {
     "name": "stdout",
     "output_type": "stream",
     "text": [
      "snows bows\n",
      "bested bested\n",
      "appear shear\n",
      "brain stain\n"
     ]
    }
   ],
   "source": [
    "for _ in range(4):\n",
    "    print(generate_rhyme(MODEL, SEQUENCE_LENGTH, random.choice(list(RHYMES.keys()))))"
   ],
   "metadata": {
    "collapsed": false
   }
  },
  {
   "cell_type": "code",
   "execution_count": null,
   "outputs": [],
   "source": [],
   "metadata": {
    "collapsed": false,
    "pycharm": {
     "is_executing": true
    }
   }
  }
 ],
 "metadata": {
  "kernelspec": {
   "display_name": "Python 3",
   "language": "python",
   "name": "python3"
  },
  "language_info": {
   "codemirror_mode": {
    "name": "ipython",
    "version": 2
   },
   "file_extension": ".py",
   "mimetype": "text/x-python",
   "name": "python",
   "nbconvert_exporter": "python",
   "pygments_lexer": "ipython2",
   "version": "2.7.6"
  }
 },
 "nbformat": 4,
 "nbformat_minor": 0
}
