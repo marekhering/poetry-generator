{
 "cells": [
  {
   "cell_type": "code",
   "execution_count": 1,
   "metadata": {
    "collapsed": true
   },
   "outputs": [],
   "source": [
    "import csv\n",
    "import typing as tp\n",
    "import pickle\n",
    "from collections import defaultdict\n",
    "import random\n",
    "\n",
    "import epitran\n",
    "import eng_to_ipa\n",
    "import numpy as np\n",
    "import keras\n",
    "import re\n",
    "import keras.layers\n",
    "import keras.optimizers\n",
    "import keras.callbacks\n",
    "from hyphen import Hyphenator\n",
    "from Levenshtein import distance as lev\n",
    "from matplotlib import pyplot as plt\n",
    "from keras.utils import pad_sequences, to_categorical\n",
    "from keras.preprocessing.text import Tokenizer\n",
    "from tqdm import tqdm\n"
   ]
  },
  {
   "cell_type": "code",
   "execution_count": 2,
   "outputs": [],
   "source": [
    "MODEL_NAME = 'RhymeModelPOL'\n",
    "POL = True if MODEL_NAME.endswith('POL') else False\n",
    "\n",
    "TO_EXCLUDE = '!\"#$%&()*+-—/:;<=>@[\\\\]^_`{|}~.,:;!?\\t«»\\''\n",
    "TO_TOKENIZE = '\\n'"
   ],
   "metadata": {
    "collapsed": false
   }
  },
  {
   "cell_type": "code",
   "execution_count": 9,
   "outputs": [
    {
     "name": "stderr",
     "output_type": "stream",
     "text": [
      "100%|██████████| 536/536 [00:00<00:00, 9749.84it/s]\n",
      "100%|██████████| 222/222 [00:00<00:00, 4633.97it/s]\n",
      "100%|██████████| 99/99 [00:00<00:00, 2886.21it/s]\n",
      "100%|██████████| 40/40 [00:00<00:00, 3037.04it/s]"
     ]
    },
    {
     "name": "stdout",
     "output_type": "stream",
     "text": [
      "tobie bądź chwała panie wszego świata \n",
      " żeś nam doczekać dał nowego lata \n",
      " daj byśmy się i sami odnowili \n",
      " grzech porzuciwszy  w niewinności żyli \n",
      " łaska twa święta niechaj będzie z nami \n",
      " bo nic dobrego nie uczynim sami \n",
      " mnóż w nas nadzieję przyspórz prawej wiary \n",
      " niech uważamy twe prawdziwe dary \n",
      " użycz pokoju nam i świętej zgody \n",
      " niech się nas boją pogańskie narody \n",
      " a ty nas nie chciej odstępować panie \n",
      " i owszem racz nam dopomagać na nie \n",
      " błogosław ziemi z twej szczodrobliwości \n",
      " niechaj nam dawa dostatek żywności \n",
      " uchowaj głodu i powietrza złego \n",
      " daj wszystko dobre z miłosierdzia swego \n",
      "  prózno uciec prózno się przed miłością schronić \n",
      " bo jako lotny nie ma pieszego dogonić \n",
      "  kupić by cię mądrości za drogie pieniądze \n",
      " która jesli prawdziwie mienią wszytki żądze \n",
      " wszytki ludzkie frasunki umiesz wykorzenić \n",
      " a człowieka tylko nie w anioła odmienić \n",
      " który nie wie co boleść frasunku nie czuje \n",
      " złym przygodom nie podległ strachom nie hołduje \n",
      " ty wszytki rzeczy ludzkie masz za fraszkę sobie \n",
      " jednaką myśl tak w szczęściu jako i w żałobie \n",
      " zawżdy niesiesz ty śmierci namniej się nie boisz \n",
      " bezpieczna nieodmienna niepożyta stoisz \n",
      " ty bogactwa nie złotem nie skarby wielkimi \n",
      " ale dosytem mierzysz i przyrodzonymi \n",
      " potrzebami ty okiem swym nieuchronionym \n",
      " nędznika upatrujesz pod dachem złoconym \n",
      " a uboższym nie zajźrzysz szczęśliwego mienia \n",
      " kto by jedno chciał słuchać twego upomnienia \n",
      " nieszczęśliwy ja człowiek którym lata swoje \n",
      " na tym strawił żebych był ujźrzał progi twoje \n",
      " terazem nagle z stopniów ostatnich zrzucony \n",
      " i między insze jeden z wiela policzony \n",
      " \n",
      "Number of lines: 30204\n"
     ]
    },
    {
     "name": "stderr",
     "output_type": "stream",
     "text": [
      "\n"
     ]
    }
   ],
   "source": [
    "def load_data(file, include: str, exclude: str, size: int = None):\n",
    "    _text =  []\n",
    "    with open(file, encoding='UTF-8') as f:\n",
    "        data = csv.reader(f)\n",
    "        for verse, *_ in tqdm(list(data)[:size] if size is not None else list(data)):\n",
    "            # Separate characters that we want to tokenize\n",
    "            correct_verse = re.sub(r'(['+include+'])', r' \\1 ', verse)\n",
    "            # Exclude characters that we do not want to tokenize\n",
    "            correct_verse = correct_verse.translate(str.maketrans('', '', exclude))\n",
    "            _text.append(correct_verse.lower())\n",
    "    return _text\n",
    "\n",
    "if POL:\n",
    "    TEXT = load_data('data/poems/pl/kochanowski.csv', TO_TOKENIZE, TO_EXCLUDE)\n",
    "    TEXT += load_data('data/poems/pl/slowacki.csv', TO_TOKENIZE, TO_EXCLUDE)\n",
    "    TEXT += load_data('data/poems/pl/tacohemingway.csv', TO_TOKENIZE, TO_EXCLUDE)\n",
    "    TEXT += load_data('data/poems/pl/ostr.csv', TO_TOKENIZE, TO_EXCLUDE)\n",
    "else:\n",
    "    TEXT = load_data('data/poems/eng/limericks.csv', TO_TOKENIZE, TO_EXCLUDE, 20000)\n",
    "print(*TEXT[:3])\n",
    "new_line = '\\n'\n",
    "print(f\"Number of lines: {sum([len(poem.split(new_line)) for poem in TEXT])}\")"
   ],
   "metadata": {
    "collapsed": false
   }
  },
  {
   "cell_type": "code",
   "execution_count": 4,
   "outputs": [
    {
     "name": "stdout",
     "output_type": "stream",
     "text": [
      "0.75\n",
      "0.33333333333333337\n",
      "0.6\n"
     ]
    }
   ],
   "source": [
    "def rhyme_levenshtein(token1: str, token2: str, pl: bool):\n",
    "    token1 = token1.lower()\n",
    "    token2 = token2.lower()\n",
    "\n",
    "    available_swaps = [\n",
    "        (\"p\", \"b\"), (\"w\", \"f\"), (\"ó\", \"u\"), (\"ę\", \"e\"), (\"r\", \"l\"), (\"d\", \"t\"), (\"ą\", \"o\"), (\"b\", \"t\"), (\"g\", \"k\"), (\"i\", \"j\")\n",
    "    ] if pl else []\n",
    "    available_swaps.extend([(v, k) for k, v in available_swaps])\n",
    "\n",
    "    distances = np.zeros((len(token1) + 1, len(token2) + 1))\n",
    "\n",
    "    for t1 in range(len(token1) + 1):\n",
    "        distances[t1][0] = t1\n",
    "\n",
    "    for t2 in range(len(token2) + 1):\n",
    "        distances[0][t2] = t2\n",
    "\n",
    "    for t1 in range(1, len(token1) + 1):\n",
    "        for t2 in range(1, len(token2) + 1):\n",
    "            letter1 = token1[t1 - 1]\n",
    "            letter2 = token2[t2 - 1]\n",
    "            if letter1 == letter2 or (letter1, letter2) in available_swaps:\n",
    "                distances[t1][t2] = distances[t1 - 1][t2 - 1]\n",
    "            else:\n",
    "                a = distances[t1][t2 - 1]\n",
    "                b = distances[t1 - 1][t2]\n",
    "                c = distances[t1 - 1][t2 - 1]\n",
    "\n",
    "                if a <= b and a <= c:\n",
    "                    distances[t1][t2] = a + 1\n",
    "                elif b <= a and b <= c:\n",
    "                    distances[t1][t2] = b + 1\n",
    "                else:\n",
    "                    distances[t1][t2] = c + 1\n",
    "    return distances[len(token1)][len(token2)]\n",
    "\n",
    "def rhyme_levenshtein_measure(word1: str, word2: str, pl: bool, syllables: int = 2):\n",
    "    hyphenator = Hyphenator('pl_PL' if pl else 'en_US')\n",
    "    syllable1 = ''.join(hyphenator.syllables(word1)[-syllables:])\n",
    "    syllable2 = ''.join(hyphenator.syllables(word2)[-syllables:])\n",
    "    distance = rhyme_levenshtein(syllable1, syllable2, pl)\n",
    "    return 1 - (distance / max(len(syllable1), len(syllable2)))\n",
    "\n",
    "print(rhyme_levenshtein_measure(\"Żaby\", \"Mapy\", True))\n",
    "print(rhyme_levenshtein_measure(\"Piekarni\", \"Przyćmionej\", True))\n",
    "print(rhyme_levenshtein_measure(\"sweet\", \"meet\", False))"
   ],
   "metadata": {
    "collapsed": false
   }
  },
  {
   "cell_type": "code",
   "execution_count": 5,
   "outputs": [
    {
     "name": "stdout",
     "output_type": "stream",
     "text": [
      "Number of poems: 897\n"
     ]
    },
    {
     "name": "stderr",
     "output_type": "stream",
     "text": [
      "16it [00:01, 12.71it/s]C:\\Users\\Sledz\\AppData\\Local\\Temp\\ipykernel_18920\\1038130506.py:42: RuntimeWarning: invalid value encountered in double_scalars\n",
      "  return 1 - (distance / max(len(syllable1), len(syllable2)))\n",
      "897it [01:58,  7.56it/s]"
     ]
    },
    {
     "name": "stdout",
     "output_type": "stream",
     "text": [
      "Size of vocabulary: 14841\n",
      "Size of reduced vocabulary: 9586\n",
      "...\n",
      "bagno: ['tango', 'dawno']\n",
      " bajki: ['fajki', 'najki', 'lajki']\n",
      " baksach: ['taksach']\n",
      " balety: ['wersety', 'rzepy', 'napięty']\n",
      " balkonie: ['płonie', 'ortalionie']\n",
      " balkonu: ['tronu']\n",
      " balsamowy: ['aronowy', 'jednorożcowy']\n",
      " balsamy: ['mamy', 'wołamy']\n",
      " baltazara: ['kotara', 'mara']\n",
      " balthazara: ['kotara']\n",
      " banana: ['orangutana']\n",
      " banda: ['propaganda']\n",
      " banknotów: ['idiotów']\n",
      " banku: ['taktu', 'mopanku', 'przystanku', 'karku', 'szwanku']\n",
      " barani: ['wybrani']\n",
      " baranka: ['kochanka']\n",
      " barany: ['zaspany', 'zalany', 'porwany', 'plany', 'rany']\n",
      " baraż: ['blamaż']\n",
      " bardony: ['strony']\n",
      " basem: ['razem', 'atlasem', 'czasem', 'pasem']\n",
      "\n",
      "...\n",
      "Most common rhyme: 'ziemi' | Length: 46 | Rhymes: ['drżącemi', 'niedawnemi', 'ludzkiemi', 'swojemi', 'utrapieni', 'czarnemi', 'żywemi', 'wiecznemi', 'umarłemi', 'wszystkiemi'] ...\n"
     ]
    },
    {
     "name": "stderr",
     "output_type": "stream",
     "text": [
      "\n"
     ]
    }
   ],
   "source": [
    "def extract_rhymes(_text: tp.List[str], rhyme_scheme: str = None):\n",
    "    rhymes_dict = defaultdict(list)\n",
    "\n",
    "    def find_rhyme_words(rhyme: str, n_last_words: tp.List[str], threshold: float = 0.5):\n",
    "        reduced_words = [w for w in n_last_words if w[-1] == rhyme[-1]]\n",
    "        scores = [(rhyme_levenshtein_measure(rhyme, w, POL), w) for w in reduced_words]\n",
    "        scores = [score for score in scores if score[0] > threshold]\n",
    "        return [s[1] for s in scores]\n",
    "\n",
    "    def add_rhymes(_rhyme_words: tp.List[str]):\n",
    "        for word in _rhyme_words:\n",
    "            others = _rhyme_words.copy()\n",
    "            reduce_letters = \"ňňéöĺéôľ\"\n",
    "            others = [w for w in others if w != word and not any([letter in w for letter in reduce_letters])]\n",
    "            rhymes_dict[word].extend(others)\n",
    "\n",
    "    print(f\"Number of poems: {len(_text)}\")\n",
    "    for verse_number, verse in tqdm(enumerate(_text)):\n",
    "        lines = [l for l in verse.strip().split('\\n') if l.strip()]\n",
    "        try:\n",
    "            last_words = [line.strip().split(' ')[-1] for line in lines]\n",
    "            if rhyme_scheme:\n",
    "                if len(last_words) != len(rhyme_scheme):\n",
    "                    raise IndexError\n",
    "                rhymes_by_letter = defaultdict(list)\n",
    "                [rhymes_by_letter[letter].append(word) for letter, word in zip(rhyme_scheme, last_words)]\n",
    "                [add_rhymes(rhyme) for rhyme in rhymes_by_letter.values()]\n",
    "            else:\n",
    "                for index, word in enumerate(last_words):\n",
    "                    n_words = last_words[max(index - 3, 0):index]\n",
    "                    rhyme_words = find_rhyme_words(word, n_words)\n",
    "                    add_rhymes([word, *rhyme_words])\n",
    "\n",
    "        except IndexError as e:\n",
    "            print(f\"Invalid verse with number {verse_number} {e}\")\n",
    "            continue\n",
    "    return {k: list(set(v)) for k, v in rhymes_dict.items()}\n",
    "\n",
    "RHYMES = extract_rhymes(TEXT, None if POL else \"AABBA\") # For english limericks use \"AABBA\" schema\n",
    "print(f\"Size of vocabulary: {len(RHYMES)}\")\n",
    "MINIMUM_OCCURRENCES = 1 if POL else 6\n",
    "RHYMES = {k:v for k, v in RHYMES.items() if len(v) >= MINIMUM_OCCURRENCES}\n",
    "print(f\"Size of reduced vocabulary: {len(RHYMES)}\")\n",
    "\n",
    "print(\"...\")\n",
    "print(*[f\"{k}: {v}\\n\" for k, v in sorted(RHYMES.items())[100:120]])\n",
    "print(\"...\")\n",
    "most_common = max(RHYMES.keys(), key=lambda x: len(RHYMES[x]))\n",
    "print(f\"Most common rhyme: '{most_common}' | Length: {len(RHYMES[most_common])} | Rhymes: {RHYMES[most_common][:10]} ...\")"
   ],
   "metadata": {
    "collapsed": false
   }
  },
  {
   "cell_type": "code",
   "execution_count": 6,
   "outputs": [
    {
     "name": "stdout",
     "output_type": "stream",
     "text": [
      "Number of rhyming pairs: 15658\n"
     ]
    }
   ],
   "source": [
    "print(f\"Number of rhyming pairs: {sum([len(v) for v in RHYMES.values()])}\")"
   ],
   "metadata": {
    "collapsed": false
   }
  },
  {
   "cell_type": "code",
   "execution_count": 49,
   "outputs": [
    {
     "name": "stdout",
     "output_type": "stream",
     "text": [
      "39\n",
      "{' ': 1, 'a': 2, 'i': 3, 'o': 4, 'e': 5, 'z': 6, 'n': 7, 'r': 8, 'w': 9, 'y': 10, 'c': 11, 's': 12, 'm': 13, 'p': 14, 't': 15, 'd': 16, 'k': 17, 'ł': 18, 'u': 19, 'l': 20, 'b': 21, 'j': 22, 'g': 23, 'ą': 24, 'h': 25, 'ę': 26, 'ś': 27, 'ż': 28, 'ó': 29, 'ć': 30, 'f': 31, 'ń': 32, 'ź': 33, 'v': 34, 'é': 35, 'q': 36, 'ü': 37, 'x': 38}\n"
     ]
    }
   ],
   "source": [
    "TOKENIZER = Tokenizer(filters=TO_EXCLUDE, char_level=True)\n",
    "WORDS = ' '.join(list(RHYMES.keys()) + [w for rhymes in RHYMES.values() for w in rhymes])\n",
    "TOKENIZER.fit_on_texts(WORDS)\n",
    "TOTAL_CHARS = len(TOKENIZER.word_index) + 1\n",
    "print(TOTAL_CHARS)\n",
    "print(TOKENIZER.word_index)"
   ],
   "metadata": {
    "collapsed": false
   }
  },
  {
   "cell_type": "code",
   "execution_count": 50,
   "outputs": [],
   "source": [
    "with open(f\"data/models/{MODEL_NAME}/tokenizer.pickle\", 'wb') as f:\n",
    "    pickle.dump(TOKENIZER, f, protocol=pickle.HIGHEST_PROTOCOL)"
   ],
   "metadata": {
    "collapsed": false
   }
  },
  {
   "cell_type": "code",
   "execution_count": 51,
   "outputs": [],
   "source": [
    "with open(f\"data/models/{MODEL_NAME}/tokenizer.pickle\", 'rb') as handle:\n",
    "    TOKENIZER = pickle.load(handle)"
   ],
   "metadata": {
    "collapsed": false
   }
  },
  {
   "cell_type": "code",
   "execution_count": 52,
   "outputs": [
    {
     "name": "stderr",
     "output_type": "stream",
     "text": [
      "100%|██████████| 9761/9761 [00:00<00:00, 14655.52it/s]"
     ]
    },
    {
     "name": "stdout",
     "output_type": "stream",
     "text": [
      "Size of training set 139123\n"
     ]
    },
    {
     "name": "stderr",
     "output_type": "stream",
     "text": [
      "\n"
     ]
    }
   ],
   "source": [
    "def create_sequences(rhymes: tp.Dict[str, tp.List[str]], tokenizer: Tokenizer):\n",
    "    sequences = []\n",
    "    for base_word, rhymes_words in tqdm(rhymes.items()):\n",
    "        for rhyme_word in rhymes_words:\n",
    "            seq = f\"{base_word} {rhyme_word} \"\n",
    "            encoded = tokenizer.texts_to_sequences(seq)\n",
    "            if [] in encoded:\n",
    "                print()\n",
    "            for i in range(len(base_word) + 2, len(encoded) + 1):\n",
    "                sequences.append(encoded[:i])\n",
    "    return sequences\n",
    "\n",
    "SEQUENCES = create_sequences(RHYMES, TOKENIZER)\n",
    "print(f\"Size of training set {len(SEQUENCES)}\")"
   ],
   "metadata": {
    "collapsed": false
   }
  },
  {
   "cell_type": "code",
   "execution_count": 53,
   "outputs": [
    {
     "name": "stdout",
     "output_type": "stream",
     "text": [
      "Max Sequence Length: 35\n"
     ]
    }
   ],
   "source": [
    "SEQUENCE_LENGTH = max([len(seq) for seq in SEQUENCES])\n",
    "ENCODED_SEQUENCES = pad_sequences(SEQUENCES, maxlen=SEQUENCE_LENGTH, padding='pre')\n",
    "X, y = ENCODED_SEQUENCES[:,:-1], to_categorical(ENCODED_SEQUENCES[:,-1], num_classes=TOTAL_CHARS)\n",
    "print(f'Max Sequence Length: {SEQUENCE_LENGTH}')"
   ],
   "metadata": {
    "collapsed": false
   }
  },
  {
   "cell_type": "code",
   "execution_count": 54,
   "outputs": [
    {
     "name": "stdout",
     "output_type": "stream",
     "text": [
      "Model: \"sequential\"\n",
      "_________________________________________________________________\n",
      " Layer (type)                Output Shape              Param #   \n",
      "=================================================================\n",
      " embedding (Embedding)       (None, 34, 128)           4992      \n",
      "                                                                 \n",
      " lstm (LSTM)                 (None, 34, 128)           131584    \n",
      "                                                                 \n",
      " dropout (Dropout)           (None, 34, 128)           0         \n",
      "                                                                 \n",
      " lstm_1 (LSTM)               (None, 34, 128)           131584    \n",
      "                                                                 \n",
      " dropout_1 (Dropout)         (None, 34, 128)           0         \n",
      "                                                                 \n",
      " lstm_2 (LSTM)               (None, 34, 128)           131584    \n",
      "                                                                 \n",
      " dropout_2 (Dropout)         (None, 34, 128)           0         \n",
      "                                                                 \n",
      " lstm_3 (LSTM)               (None, 34, 64)            49408     \n",
      "                                                                 \n",
      " dropout_3 (Dropout)         (None, 34, 64)            0         \n",
      "                                                                 \n",
      " lstm_4 (LSTM)               (None, 64)                33024     \n",
      "                                                                 \n",
      " dropout_4 (Dropout)         (None, 64)                0         \n",
      "                                                                 \n",
      " dense (Dense)               (None, 39)                2535      \n",
      "                                                                 \n",
      "=================================================================\n",
      "Total params: 484,711\n",
      "Trainable params: 484,711\n",
      "Non-trainable params: 0\n",
      "_________________________________________________________________\n",
      "None\n"
     ]
    }
   ],
   "source": [
    "def create_model(total_chars: int, sequence_length: int):\n",
    "    model = keras.models.Sequential()\n",
    "    model.add(keras.layers.Embedding(total_chars, 128, input_length=sequence_length - 1))\n",
    "    model.add(keras.layers.LSTM(128, return_sequences=True, activation='relu'))\n",
    "    model.add(keras.layers.Dropout(0.1))\n",
    "    model.add(keras.layers.LSTM(128, return_sequences=True, activation='relu'))\n",
    "    model.add(keras.layers.Dropout(0.1))\n",
    "    model.add(keras.layers.LSTM(128, return_sequences=True, activation='tanh'))\n",
    "    model.add(keras.layers.Dropout(0.1))\n",
    "    model.add(keras.layers.LSTM(64, return_sequences=True, activation='tanh'))\n",
    "    model.add(keras.layers.Dropout(0.1))\n",
    "    model.add(keras.layers.LSTM(64, activation='relu'))\n",
    "    model.add(keras.layers.Dropout(0.1))\n",
    "    model.add(keras.layers.Dense(total_chars, activation='softmax'))\n",
    "    model.compile(loss='categorical_crossentropy', optimizer='adam', metrics=['accuracy'])\n",
    "    return model\n",
    "\n",
    "MODEL_PATH = f\"data/models/{MODEL_NAME}/weights.h5\"\n",
    "MODEL = keras.models.load_model(MODEL_PATH)\n",
    "# MODEL = create_model(TOTAL_CHARS, SEQUENCE_LENGTH)\n",
    "print(MODEL.summary())"
   ],
   "metadata": {
    "collapsed": false
   }
  },
  {
   "cell_type": "code",
   "execution_count": 55,
   "outputs": [],
   "source": [
    "REVERSE_TOKEN_INDEX = {v: k for k, v in TOKENIZER.word_index.items()}\n",
    "\n",
    "def generate_rhyme(model: keras.Model, in_word: str):\n",
    "    in_word = in_word + \" \" if in_word[-1] != \" \" else in_word\n",
    "    for i in range(20):\n",
    "        encoded = TOKENIZER.texts_to_sequences([in_word])[0]\n",
    "        padded = pad_sequences([encoded], maxlen=model.input_shape[-1], padding='pre')\n",
    "        predicted = np.argmax(model.predict(padded, verbose=0))\n",
    "        out_char = REVERSE_TOKEN_INDEX.get(predicted, None)\n",
    "        if out_char == \" \" or out_char is None:\n",
    "            break\n",
    "        in_word += out_char\n",
    "    return in_word"
   ],
   "metadata": {
    "collapsed": false
   }
  },
  {
   "cell_type": "code",
   "execution_count": 14,
   "outputs": [],
   "source": [
    "def create_callbacks():\n",
    "    callbacks = []\n",
    "\n",
    "    class PredictionCallback(keras.callbacks.Callback):\n",
    "        def on_epoch_end(self, epoch, logs=None):\n",
    "            frequency = 1\n",
    "            if epoch % frequency:\n",
    "                return\n",
    "            rhyme_dict = list(RHYMES.keys())\n",
    "            print()\n",
    "            print(generate_rhyme(MODEL, rhyme_dict[10]))\n",
    "            print(generate_rhyme(MODEL, rhyme_dict[30]))\n",
    "            print(generate_rhyme(MODEL, rhyme_dict[50]))\n",
    "            print(generate_rhyme(MODEL, rhyme_dict[70]))\n",
    "\n",
    "    callbacks.append(PredictionCallback())\n",
    "    callbacks.append(keras.callbacks.EarlyStopping(monitor=\"loss\", patience=3))\n",
    "    callbacks.append(keras.callbacks.ModelCheckpoint(\n",
    "        filepath=f\"data/models/{MODEL_NAME}/checkpoint\",\n",
    "        save_weights_only=True,\n",
    "        monitor='loss',\n",
    "        save_best_only=True\n",
    "    ))\n",
    "    return callbacks\n"
   ],
   "metadata": {
    "collapsed": false
   }
  },
  {
   "cell_type": "code",
   "execution_count": 23,
   "outputs": [
    {
     "name": "stdout",
     "output_type": "stream",
     "text": [
      "Epoch 1/50\n",
      "272/272 [==============================] - ETA: 0s - loss: 1.0461 - accuracy: 0.6794\n",
      "żywności wielmożności\n",
      "policzony zaporzony\n",
      "ruszyła przystyła\n",
      "wezwany poznany\n",
      "272/272 [==============================] - 179s 657ms/step - loss: 1.0461 - accuracy: 0.6794\n",
      "Epoch 2/50\n",
      "272/272 [==============================] - ETA: 0s - loss: 1.0368 - accuracy: 0.6816\n",
      "żywności wieczności\n",
      "policzony zaporzony\n",
      "ruszyła przystyła\n",
      "wezwany porany\n",
      "272/272 [==============================] - 178s 654ms/step - loss: 1.0368 - accuracy: 0.6816\n",
      "Epoch 3/50\n",
      "272/272 [==============================] - ETA: 0s - loss: 1.0334 - accuracy: 0.6821\n",
      "żywności wieczności\n",
      "policzony zapomoszony\n",
      "ruszyła przysłyła\n",
      "wezwany porany\n",
      "272/272 [==============================] - 196s 720ms/step - loss: 1.0334 - accuracy: 0.6821\n",
      "Epoch 4/50\n",
      "272/272 [==============================] - ETA: 0s - loss: 1.0281 - accuracy: 0.6831\n",
      "żywności zacności\n",
      "policzony zapomniony\n",
      "ruszyła przestyła\n",
      "wezwany porany\n",
      "272/272 [==============================] - 190s 699ms/step - loss: 1.0281 - accuracy: 0.6831\n",
      "Epoch 5/50\n",
      "272/272 [==============================] - ETA: 0s - loss: 1.0209 - accuracy: 0.6853\n",
      "żywności zacności\n",
      "policzony zapomony\n",
      "ruszyła przestyła\n",
      "wezwany pochany\n",
      "272/272 [==============================] - 191s 703ms/step - loss: 1.0209 - accuracy: 0.6853\n",
      "Epoch 6/50\n",
      "272/272 [==============================] - ETA: 0s - loss: 1.0163 - accuracy: 0.6863\n",
      "żywności złości\n",
      "policzony zapomiony\n",
      "ruszyła postywa\n",
      "wezwany porany\n",
      "272/272 [==============================] - 189s 697ms/step - loss: 1.0163 - accuracy: 0.6863\n",
      "Epoch 7/50\n",
      "272/272 [==============================] - ETA: 0s - loss: 1.0095 - accuracy: 0.6888\n",
      "żywności wieczności\n",
      "policzony zapomniony\n",
      "ruszyła przestyła\n",
      "wezwany porany\n",
      "272/272 [==============================] - 190s 700ms/step - loss: 1.0095 - accuracy: 0.6888\n",
      "Epoch 8/50\n",
      "272/272 [==============================] - ETA: 0s - loss: 1.0035 - accuracy: 0.6899\n",
      "żywności złości\n",
      "policzony zaporzony\n",
      "ruszyła przychodziła\n",
      "wezwany porany\n",
      "272/272 [==============================] - 190s 699ms/step - loss: 1.0035 - accuracy: 0.6899\n",
      "Epoch 9/50\n",
      "272/272 [==============================] - ETA: 0s - loss: 1.0021 - accuracy: 0.6907\n",
      "żywności zacności\n",
      "policzony zaporony\n",
      "ruszyła przystłożyła\n",
      "wezwany porany\n",
      "272/272 [==============================] - 189s 696ms/step - loss: 1.0021 - accuracy: 0.6907\n",
      "Epoch 10/50\n",
      "272/272 [==============================] - ETA: 0s - loss: 1.0008 - accuracy: 0.6907\n",
      "żywności złości\n",
      "policzony zapomiesiony\n",
      "ruszyła przyczyniła\n",
      "wezwany porany\n",
      "272/272 [==============================] - 188s 692ms/step - loss: 1.0008 - accuracy: 0.6907\n",
      "Epoch 11/50\n",
      "272/272 [==============================] - ETA: 0s - loss: 0.9945 - accuracy: 0.6917\n",
      "żywności złości\n",
      "policzony zapomniony\n",
      "ruszyła przyszyła\n",
      "wezwany porany\n",
      "272/272 [==============================] - 189s 693ms/step - loss: 0.9945 - accuracy: 0.6917\n",
      "Epoch 12/50\n",
      "272/272 [==============================] - ETA: 0s - loss: 0.9880 - accuracy: 0.6941\n",
      "żywności złości\n",
      "policzony zapomiony\n",
      "ruszyła przebyła\n",
      "wezwany porany\n",
      "272/272 [==============================] - 188s 692ms/step - loss: 0.9880 - accuracy: 0.6941\n",
      "Epoch 13/50\n",
      "272/272 [==============================] - ETA: 0s - loss: 0.9853 - accuracy: 0.6957\n",
      "żywności złości\n",
      "policzony zapomniony\n",
      "ruszyła przystywa\n",
      "wezwany porany\n",
      "272/272 [==============================] - 188s 690ms/step - loss: 0.9853 - accuracy: 0.6957\n",
      "Epoch 14/50\n",
      "272/272 [==============================] - ETA: 0s - loss: 0.9815 - accuracy: 0.6971\n",
      "żywności zapalczywości\n",
      "policzony zaporony\n",
      "ruszyła postyła\n",
      "wezwany porany\n",
      "272/272 [==============================] - 188s 692ms/step - loss: 0.9815 - accuracy: 0.6971\n",
      "Epoch 15/50\n",
      "272/272 [==============================] - ETA: 0s - loss: 0.9795 - accuracy: 0.6972\n",
      "żywności złości\n",
      "policzony zapomniony\n",
      "ruszyła przysływa\n",
      "wezwany porany\n",
      "272/272 [==============================] - 188s 690ms/step - loss: 0.9795 - accuracy: 0.6972\n",
      "Epoch 16/50\n",
      "272/272 [==============================] - ETA: 0s - loss: 0.9711 - accuracy: 0.6985\n",
      "żywności zapalczywości\n",
      "policzony zapomniony\n",
      "ruszyła przestrzychotyła\n",
      "wezwany pochowany\n",
      "272/272 [==============================] - 189s 696ms/step - loss: 0.9711 - accuracy: 0.6985\n",
      "Epoch 17/50\n",
      "272/272 [==============================] - ETA: 0s - loss: 0.9704 - accuracy: 0.6994\n",
      "żywności złości\n",
      "policzony zapomiony\n",
      "ruszyła przyczyła\n",
      "wezwany pochowany\n",
      "272/272 [==============================] - 188s 692ms/step - loss: 0.9704 - accuracy: 0.6994\n",
      "Epoch 18/50\n",
      "272/272 [==============================] - ETA: 0s - loss: 0.9673 - accuracy: 0.7003\n",
      "żywności zapalczywości\n",
      "policzony zapomniony\n",
      "ruszyła przychyła\n",
      "wezwany porany\n",
      "272/272 [==============================] - 189s 696ms/step - loss: 0.9673 - accuracy: 0.7003\n",
      "Epoch 19/50\n",
      "272/272 [==============================] - ETA: 0s - loss: 0.9625 - accuracy: 0.7015\n",
      "żywności sprawiedliwości\n",
      "policzony zapomniony\n",
      "ruszyła przyszyła\n",
      "wezwany pochowany\n",
      "272/272 [==============================] - 190s 698ms/step - loss: 0.9625 - accuracy: 0.7015\n",
      "Epoch 20/50\n",
      "272/272 [==============================] - ETA: 0s - loss: 0.9596 - accuracy: 0.7018\n",
      "żywności złości\n",
      "policzony zapomiony\n",
      "ruszyła przychodziła\n",
      "wezwany porany\n",
      "272/272 [==============================] - 189s 694ms/step - loss: 0.9596 - accuracy: 0.7018\n",
      "Epoch 21/50\n",
      "272/272 [==============================] - ETA: 0s - loss: 0.9506 - accuracy: 0.7056\n",
      "żywności złości\n",
      "policzony zapomieniony\n",
      "ruszyła przychodziła\n",
      "wezwany pochowany\n",
      "272/272 [==============================] - 189s 694ms/step - loss: 0.9506 - accuracy: 0.7056\n",
      "Epoch 22/50\n",
      "272/272 [==============================] - ETA: 0s - loss: 0.9510 - accuracy: 0.7037\n",
      "żywności złości\n",
      "policzony zapomniony\n",
      "ruszyła przychodziła\n",
      "wezwany porany\n",
      "272/272 [==============================] - 190s 698ms/step - loss: 0.9510 - accuracy: 0.7037\n",
      "Epoch 23/50\n",
      "272/272 [==============================] - ETA: 0s - loss: 0.9488 - accuracy: 0.7060\n",
      "żywności złości\n",
      "policzony zapomiesiony\n",
      "ruszyła przyczyła\n",
      "wezwany porany\n",
      "272/272 [==============================] - 190s 700ms/step - loss: 0.9488 - accuracy: 0.7060\n",
      "Epoch 24/50\n",
      "272/272 [==============================] - ETA: 0s - loss: 0.9441 - accuracy: 0.7054\n",
      "żywności złości\n",
      "policzony zapomniony\n",
      "ruszyła przychodziła\n",
      "wezwany pochowany\n",
      "272/272 [==============================] - 189s 696ms/step - loss: 0.9441 - accuracy: 0.7054\n",
      "Epoch 25/50\n",
      "272/272 [==============================] - ETA: 0s - loss: 0.9397 - accuracy: 0.7072\n",
      "żywności złości\n",
      "policzony zapomniony\n",
      "ruszyła przyczyniła\n",
      "wezwany porany\n",
      "272/272 [==============================] - 189s 694ms/step - loss: 0.9397 - accuracy: 0.7072\n",
      "Epoch 26/50\n",
      "272/272 [==============================] - ETA: 0s - loss: 0.9386 - accuracy: 0.7076\n",
      "żywności złości\n",
      "policzony zapomniony\n",
      "ruszyła przystłoszyła\n",
      "wezwany porany\n",
      "272/272 [==============================] - 189s 694ms/step - loss: 0.9386 - accuracy: 0.7076\n",
      "Epoch 27/50\n",
      "272/272 [==============================] - ETA: 0s - loss: 0.9341 - accuracy: 0.7091\n",
      "żywności zapalczywości\n",
      "policzony zapomniony\n",
      "ruszyła przychodziła\n",
      "wezwany porany\n",
      "272/272 [==============================] - 189s 697ms/step - loss: 0.9341 - accuracy: 0.7091\n",
      "Epoch 28/50\n",
      "272/272 [==============================] - ETA: 0s - loss: 0.9313 - accuracy: 0.7093\n",
      "żywności złości\n",
      "policzony zapomiony\n",
      "ruszyła przystyła\n",
      "wezwany porany\n",
      "272/272 [==============================] - 189s 697ms/step - loss: 0.9313 - accuracy: 0.7093\n",
      "Epoch 29/50\n",
      "272/272 [==============================] - ETA: 0s - loss: 0.9264 - accuracy: 0.7109\n",
      "żywności zapalczywości\n",
      "policzony zawieszony\n",
      "ruszyła przychodziła\n",
      "wezwany porany\n",
      "272/272 [==============================] - 190s 699ms/step - loss: 0.9264 - accuracy: 0.7109\n",
      "Epoch 30/50\n",
      "272/272 [==============================] - ETA: 0s - loss: 0.9198 - accuracy: 0.7125\n",
      "żywności złości\n",
      "policzony zapomniony\n",
      "ruszyła przyszyła\n",
      "wezwany porany\n",
      "272/272 [==============================] - 189s 697ms/step - loss: 0.9198 - accuracy: 0.7125\n",
      "Epoch 31/50\n",
      "272/272 [==============================] - ETA: 0s - loss: 0.9198 - accuracy: 0.7134\n",
      "żywności złości\n",
      "policzony zapomniony\n",
      "ruszyła przychodziła\n",
      "wezwany pochany\n",
      "272/272 [==============================] - 190s 700ms/step - loss: 0.9198 - accuracy: 0.7134\n",
      "Epoch 32/50\n",
      "272/272 [==============================] - ETA: 0s - loss: 0.9166 - accuracy: 0.7150\n",
      "żywności złości\n",
      "policzony zapomniony\n",
      "ruszyła przychodziła\n",
      "wezwany porany\n",
      "272/272 [==============================] - 190s 698ms/step - loss: 0.9166 - accuracy: 0.7150\n",
      "Epoch 33/50\n",
      "272/272 [==============================] - ETA: 0s - loss: 0.9146 - accuracy: 0.7143\n",
      "żywności złości\n",
      "policzony zapomieniony\n",
      "ruszyła przychodziła\n",
      "wezwany pochany\n",
      "272/272 [==============================] - 192s 704ms/step - loss: 0.9146 - accuracy: 0.7143\n",
      "Epoch 34/50\n",
      "272/272 [==============================] - ETA: 0s - loss: 0.9122 - accuracy: 0.7163\n",
      "żywności zapalczywości\n",
      "policzony zapomniony\n",
      "ruszyła przychodziła\n",
      "wezwany pochowany\n",
      "272/272 [==============================] - 191s 702ms/step - loss: 0.9122 - accuracy: 0.7163\n",
      "Epoch 35/50\n",
      "272/272 [==============================] - ETA: 0s - loss: 0.9089 - accuracy: 0.7169\n",
      "żywności złości\n",
      "policzony zapomniony\n",
      "ruszyła przychodziła\n",
      "wezwany porany\n",
      "272/272 [==============================] - 190s 697ms/step - loss: 0.9089 - accuracy: 0.7169\n",
      "Epoch 36/50\n",
      "272/272 [==============================] - ETA: 0s - loss: 0.9057 - accuracy: 0.7164\n",
      "żywności złości\n",
      "policzony zapomieszony\n",
      "ruszyła przychodziła\n",
      "wezwany porany\n",
      "272/272 [==============================] - 192s 707ms/step - loss: 0.9057 - accuracy: 0.7164\n",
      "Epoch 37/50\n",
      "272/272 [==============================] - ETA: 0s - loss: 0.9052 - accuracy: 0.7171\n",
      "żywności zacności\n",
      "policzony zapomiesiony\n",
      "ruszyła przychodziła\n",
      "wezwany podany\n",
      "272/272 [==============================] - 191s 701ms/step - loss: 0.9052 - accuracy: 0.7171\n",
      "Epoch 38/50\n",
      "272/272 [==============================] - ETA: 0s - loss: 0.9011 - accuracy: 0.7177\n",
      "żywności złości\n",
      "policzony zapomniony\n",
      "ruszyła przychodziła\n",
      "wezwany podany\n",
      "272/272 [==============================] - 190s 700ms/step - loss: 0.9011 - accuracy: 0.7177\n",
      "Epoch 39/50\n",
      "272/272 [==============================] - ETA: 0s - loss: 0.8994 - accuracy: 0.7194\n",
      "żywności złości\n",
      "policzony zapomiesiony\n",
      "ruszyła przyczyła\n",
      "wezwany podany\n",
      "272/272 [==============================] - 193s 710ms/step - loss: 0.8994 - accuracy: 0.7194\n",
      "Epoch 40/50\n",
      "272/272 [==============================] - ETA: 0s - loss: 0.8957 - accuracy: 0.7195\n",
      "żywności zapalczywości\n",
      "policzony zapomniony\n",
      "ruszyła przychodziła\n",
      "wezwany pochowany\n",
      "272/272 [==============================] - 191s 702ms/step - loss: 0.8957 - accuracy: 0.7195\n",
      "Epoch 41/50\n",
      "272/272 [==============================] - ETA: 0s - loss: 0.8897 - accuracy: 0.7218\n",
      "żywności zapalczywości\n",
      "policzony zapomniony\n",
      "ruszyła przychodziła\n",
      "wezwany porany\n",
      "272/272 [==============================] - 190s 700ms/step - loss: 0.8897 - accuracy: 0.7218\n",
      "Epoch 42/50\n",
      "272/272 [==============================] - ETA: 0s - loss: 0.8910 - accuracy: 0.7202\n",
      "żywności złości\n",
      "policzony zapomniony\n",
      "ruszyła przychodziła\n",
      "wezwany podany\n",
      "272/272 [==============================] - 190s 698ms/step - loss: 0.8910 - accuracy: 0.7202\n",
      "Epoch 43/50\n",
      "272/272 [==============================] - ETA: 0s - loss: 0.8888 - accuracy: 0.7218\n",
      "żywności zacności\n",
      "policzony zapomniony\n",
      "ruszyła przychodziła\n",
      "wezwany porany\n",
      "272/272 [==============================] - 190s 697ms/step - loss: 0.8888 - accuracy: 0.7218\n",
      "Epoch 44/50\n",
      "272/272 [==============================] - ETA: 0s - loss: 0.8859 - accuracy: 0.7223\n",
      "żywności złości\n",
      "policzony zapomniony\n",
      "ruszyła przyczyła\n",
      "wezwany podany\n",
      "272/272 [==============================] - 190s 699ms/step - loss: 0.8859 - accuracy: 0.7223\n",
      "Epoch 45/50\n",
      "272/272 [==============================] - ETA: 0s - loss: 0.8820 - accuracy: 0.7231\n",
      "żywności złości\n",
      "policzony zapomniony\n",
      "ruszyła przyczyła\n",
      "wezwany pochowany\n",
      "272/272 [==============================] - 190s 698ms/step - loss: 0.8820 - accuracy: 0.7231\n",
      "Epoch 46/50\n",
      "272/272 [==============================] - ETA: 0s - loss: 0.8777 - accuracy: 0.7244\n",
      "żywności złości\n",
      "policzony zapalony\n",
      "ruszyła przychodziła\n",
      "wezwany pochowany\n",
      "272/272 [==============================] - 190s 700ms/step - loss: 0.8777 - accuracy: 0.7244\n",
      "Epoch 47/50\n",
      "272/272 [==============================] - ETA: 0s - loss: 0.8779 - accuracy: 0.7248\n",
      "żywności złości\n",
      "policzony zapomiesiony\n",
      "ruszyła przychodziła\n",
      "wezwany pochowany\n",
      "272/272 [==============================] - 190s 699ms/step - loss: 0.8779 - accuracy: 0.7248\n",
      "Epoch 48/50\n",
      "272/272 [==============================] - ETA: 0s - loss: 0.8802 - accuracy: 0.7245\n",
      "żywności zapalczywości\n",
      "policzony zapalony\n",
      "ruszyła przychobła\n",
      "wezwany podany\n",
      "272/272 [==============================] - 190s 698ms/step - loss: 0.8802 - accuracy: 0.7245\n",
      "Epoch 49/50\n",
      "272/272 [==============================] - ETA: 0s - loss: 0.8755 - accuracy: 0.7265\n",
      "żywności zapalczywości\n",
      "policzony zapalony\n",
      "ruszyła siła\n",
      "wezwany pochowany\n",
      "272/272 [==============================] - 191s 701ms/step - loss: 0.8755 - accuracy: 0.7265\n",
      "Epoch 50/50\n",
      "272/272 [==============================] - ETA: 0s - loss: 0.8740 - accuracy: 0.7256\n",
      "żywności złości\n",
      "policzony zapomniony\n",
      "ruszyła przychodziła\n",
      "wezwany pochowany\n",
      "272/272 [==============================] - 191s 701ms/step - loss: 0.8740 - accuracy: 0.7256\n"
     ]
    }
   ],
   "source": [
    "HISTORY = MODEL.fit(\n",
    "    X,\n",
    "    y,\n",
    "    epochs=50,\n",
    "    verbose=1,\n",
    "    batch_size=512,\n",
    "    shuffle=True,\n",
    "    callbacks=create_callbacks()\n",
    ")\n",
    "\n",
    "MODEL.save(MODEL_PATH)"
   ],
   "metadata": {
    "collapsed": false
   }
  },
  {
   "cell_type": "code",
   "execution_count": 19,
   "outputs": [],
   "source": [
    "with open(f\"data/models/{MODEL_NAME}/history.pickle\", 'wb') as f:\n",
    "    pickle.dump(HISTORY.history, f, protocol=pickle.HIGHEST_PROTOCOL)"
   ],
   "metadata": {
    "collapsed": false
   }
  },
  {
   "cell_type": "code",
   "execution_count": 20,
   "outputs": [
    {
     "data": {
      "text/plain": "<Figure size 700x400 with 2 Axes>",
      "image/png": "[encoded data removed]"
     },
     "metadata": {},
     "output_type": "display_data"
    }
   ],
   "source": [
    "with open(f\"data/models/{MODEL_NAME}/history.pickle\", \"rb\") as f:\n",
    "    history = pickle.load(f)\n",
    "\n",
    "fig, (ax1, ax2) = plt.subplots(1, 2)\n",
    "fig.suptitle(f\"Learning curve of {MODEL_NAME}\")\n",
    "\n",
    "ax1.plot(history['accuracy'])\n",
    "ax1.set_xlabel('epoch')\n",
    "ax1.set_ylabel('accuracy')\n",
    "\n",
    "ax2.plot(history['loss'])\n",
    "ax2.set_xlabel('epoch')\n",
    "ax2.set_ylabel('loss')\n",
    "fig.tight_layout()\n",
    "fig.set_size_inches(7, 4)\n",
    "fig.savefig(f\"data/models/{MODEL_NAME}/learning_curve.png\")\n",
    "plt.show()"
   ],
   "metadata": {
    "collapsed": false
   }
  },
  {
   "cell_type": "code",
   "execution_count": 57,
   "outputs": [
    {
     "name": "stdout",
     "output_type": "stream",
     "text": [
      "rumieniec powiedzieniec\n",
      "wodę wodę\n",
      "lecieli wieli\n",
      "rozwinął przesiedniął\n",
      "marli pożarli\n",
      "poganinie pogolinie\n",
      "jezuskiem szluniem\n",
      "żadna pochodadna\n",
      "ostateczna wieczna\n",
      "krzyżują przyprzebają\n"
     ]
    }
   ],
   "source": [
    "for _ in range(10):\n",
    "  print(generate_rhyme(MODEL, random.choice(list(RHYMES.keys()))))"
   ],
   "metadata": {
    "collapsed": false
   }
  },
  {
   "cell_type": "code",
   "execution_count": 56,
   "outputs": [
    {
     "name": "stderr",
     "output_type": "stream",
     "text": [
      "100%|██████████| 100/100 [01:39<00:00,  1.00it/s]\n"
     ]
    },
    {
     "name": "stdout",
     "output_type": "stream",
     "text": [
      "Modified levenshtein rhyming score: 0.6954880952380954\n"
     ]
    },
    {
     "name": "stderr",
     "output_type": "stream",
     "text": [
      "100%|██████████| 100/100 [01:34<00:00,  1.06it/s]"
     ]
    },
    {
     "name": "stdout",
     "output_type": "stream",
     "text": [
      "Transliteration rhyming score: 0.8859999999999999\n"
     ]
    },
    {
     "name": "stderr",
     "output_type": "stream",
     "text": [
      "\n"
     ]
    }
   ],
   "source": [
    "def measure_modified_levenshtein_score(model: keras.Model, rhymes: dict, pl: bool, tests: int = 100):\n",
    "    result = []\n",
    "    for _ in tqdm(range(tests)):\n",
    "        word = random.choice(list(rhymes.keys()))\n",
    "        rhyme = generate_rhyme(model, word).split(' ')[-1]\n",
    "        result.append(rhyme_levenshtein_measure(word, rhyme, pl))\n",
    "    result = list(filter(lambda x: x==x, result))\n",
    "    return np.mean(result)\n",
    "\n",
    "def measure_ipa_score(model: keras.Model, rhymes: dict, pl: bool, tests: int = 100):\n",
    "    result = []\n",
    "    epi = epitran.Epitran('pol-Latn' if pl else 'eng-Latn')\n",
    "    for _ in tqdm(range(tests)):\n",
    "        word = random.choice(list(rhymes.keys()))\n",
    "        rhyme = generate_rhyme(model, word).split(' ')[-1]\n",
    "        n_letters = min(len(word), len(rhyme), 3) # Check max 4 last letters\n",
    "        if not pl and not eng_to_ipa.convert(rhyme).endswith('*'):\n",
    "            word_ipa = eng_to_ipa.convert(word[-n_letters:])\n",
    "            rhyme_ipa = eng_to_ipa.convert(rhyme[-n_letters:])\n",
    "        else:\n",
    "            try:\n",
    "                word_ipa = epi.transliterate(word[-n_letters:])\n",
    "                rhyme_ipa = epi.transliterate(rhyme[-n_letters:])\n",
    "            except IndexError as e:\n",
    "                continue\n",
    "        result.append(1 - lev(word_ipa, rhyme_ipa) / max(len(word_ipa), len(rhyme_ipa)))\n",
    "    return np.mean(result)\n",
    "\n",
    "print(f\"Modified levenshtein rhyming score: {measure_modified_levenshtein_score(MODEL, RHYMES, POL)}\")\n",
    "print(f\"Transliteration rhyming score: {measure_ipa_score(MODEL, RHYMES, POL)}\")"
   ],
   "metadata": {
    "collapsed": false
   }
  },
  {
   "cell_type": "code",
   "execution_count": null,
   "outputs": [],
   "source": [],
   "metadata": {
    "collapsed": false
   }
  }
 ],
 "metadata": {
  "kernelspec": {
   "display_name": "Python 3",
   "language": "python",
   "name": "python3"
  },
  "language_info": {
   "codemirror_mode": {
    "name": "ipython",
    "version": 2
   },
   "file_extension": ".py",
   "mimetype": "text/x-python",
   "name": "python",
   "nbconvert_exporter": "python",
   "pygments_lexer": "ipython2",
   "version": "2.7.6"
  }
 },
 "nbformat": 4,
 "nbformat_minor": 0
}
